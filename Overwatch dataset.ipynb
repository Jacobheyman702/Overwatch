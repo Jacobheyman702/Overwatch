{
 "cells": [
  {
   "cell_type": "code",
   "execution_count": 1,
   "metadata": {},
   "outputs": [],
   "source": [
    "import pyforest"
   ]
  },
  {
   "cell_type": "code",
   "execution_count": 31,
   "metadata": {},
   "outputs": [
    {
     "data": {
      "application/javascript": [
       "\n",
       "        if (window._pyforest_update_imports_cell) { window._pyforest_update_imports_cell('import pandas as pd\\nimport matplotlib.pyplot as plt\\nimport seaborn as sns'); }\n",
       "    "
      ],
      "text/plain": [
       "<IPython.core.display.Javascript object>"
      ]
     },
     "metadata": {},
     "output_type": "display_data"
    }
   ],
   "source": [
    "df = pd.read_csv('overwatch-diary.csv')"
   ]
  },
  {
   "cell_type": "code",
   "execution_count": 3,
   "metadata": {},
   "outputs": [
    {
     "data": {
      "text/html": [
       "<div>\n",
       "<style scoped>\n",
       "    .dataframe tbody tr th:only-of-type {\n",
       "        vertical-align: middle;\n",
       "    }\n",
       "\n",
       "    .dataframe tbody tr th {\n",
       "        vertical-align: top;\n",
       "    }\n",
       "\n",
       "    .dataframe thead th {\n",
       "        text-align: right;\n",
       "    }\n",
       "</style>\n",
       "<table border=\"1\" class=\"dataframe\">\n",
       "  <thead>\n",
       "    <tr style=\"text-align: right;\">\n",
       "      <th></th>\n",
       "      <th>date</th>\n",
       "      <th>time</th>\n",
       "      <th>season</th>\n",
       "      <th>game_id</th>\n",
       "      <th>sr_start</th>\n",
       "      <th>sr_finish</th>\n",
       "      <th>sr_delta</th>\n",
       "      <th>streak_number</th>\n",
       "      <th>result</th>\n",
       "      <th>my_team_sr</th>\n",
       "      <th>...</th>\n",
       "      <th>healing</th>\n",
       "      <th>deaths</th>\n",
       "      <th>weapon_accuracy</th>\n",
       "      <th>offensive_assists</th>\n",
       "      <th>defensive_assists</th>\n",
       "      <th>scoped</th>\n",
       "      <th>Unnamed: 46</th>\n",
       "      <th>Unnamed: 47</th>\n",
       "      <th>Unnamed: 48</th>\n",
       "      <th>Unnamed: 49</th>\n",
       "    </tr>\n",
       "  </thead>\n",
       "  <tbody>\n",
       "    <tr>\n",
       "      <th>0</th>\n",
       "      <td>12/4/2016</td>\n",
       "      <td>NaN</td>\n",
       "      <td>3</td>\n",
       "      <td>1.0</td>\n",
       "      <td>2387</td>\n",
       "      <td>NaN</td>\n",
       "      <td>NaN</td>\n",
       "      <td>NaN</td>\n",
       "      <td>Win</td>\n",
       "      <td>-</td>\n",
       "      <td>...</td>\n",
       "      <td>NaN</td>\n",
       "      <td>NaN</td>\n",
       "      <td>NaN</td>\n",
       "      <td>NaN</td>\n",
       "      <td>NaN</td>\n",
       "      <td>NaN</td>\n",
       "      <td>NaN</td>\n",
       "      <td>NaN</td>\n",
       "      <td>NaN</td>\n",
       "      <td>NaN</td>\n",
       "    </tr>\n",
       "    <tr>\n",
       "      <th>1</th>\n",
       "      <td>12/4/2016</td>\n",
       "      <td>NaN</td>\n",
       "      <td>3</td>\n",
       "      <td>2.0</td>\n",
       "      <td>2387</td>\n",
       "      <td>2367</td>\n",
       "      <td>-20</td>\n",
       "      <td>NaN</td>\n",
       "      <td>Loss</td>\n",
       "      <td>2617</td>\n",
       "      <td>...</td>\n",
       "      <td>NaN</td>\n",
       "      <td>NaN</td>\n",
       "      <td>NaN</td>\n",
       "      <td>NaN</td>\n",
       "      <td>NaN</td>\n",
       "      <td>NaN</td>\n",
       "      <td>NaN</td>\n",
       "      <td>NaN</td>\n",
       "      <td>NaN</td>\n",
       "      <td>NaN</td>\n",
       "    </tr>\n",
       "    <tr>\n",
       "      <th>2</th>\n",
       "      <td>12/4/2016</td>\n",
       "      <td>NaN</td>\n",
       "      <td>3</td>\n",
       "      <td>2.0</td>\n",
       "      <td>NaN</td>\n",
       "      <td>NaN</td>\n",
       "      <td>NaN</td>\n",
       "      <td>NaN</td>\n",
       "      <td>Loss</td>\n",
       "      <td>2617</td>\n",
       "      <td>...</td>\n",
       "      <td>NaN</td>\n",
       "      <td>NaN</td>\n",
       "      <td>NaN</td>\n",
       "      <td>NaN</td>\n",
       "      <td>NaN</td>\n",
       "      <td>NaN</td>\n",
       "      <td>NaN</td>\n",
       "      <td>NaN</td>\n",
       "      <td>NaN</td>\n",
       "      <td>NaN</td>\n",
       "    </tr>\n",
       "    <tr>\n",
       "      <th>3</th>\n",
       "      <td>12/4/2016</td>\n",
       "      <td>NaN</td>\n",
       "      <td>3</td>\n",
       "      <td>3.0</td>\n",
       "      <td>2367</td>\n",
       "      <td>2367</td>\n",
       "      <td>0</td>\n",
       "      <td>NaN</td>\n",
       "      <td>-</td>\n",
       "      <td>2680</td>\n",
       "      <td>...</td>\n",
       "      <td>NaN</td>\n",
       "      <td>NaN</td>\n",
       "      <td>NaN</td>\n",
       "      <td>NaN</td>\n",
       "      <td>NaN</td>\n",
       "      <td>NaN</td>\n",
       "      <td>NaN</td>\n",
       "      <td>NaN</td>\n",
       "      <td>NaN</td>\n",
       "      <td>NaN</td>\n",
       "    </tr>\n",
       "    <tr>\n",
       "      <th>4</th>\n",
       "      <td>12/15/2016</td>\n",
       "      <td>NaN</td>\n",
       "      <td>3</td>\n",
       "      <td>4.0</td>\n",
       "      <td>2367</td>\n",
       "      <td>2367</td>\n",
       "      <td>0</td>\n",
       "      <td>NaN</td>\n",
       "      <td>-</td>\n",
       "      <td>-</td>\n",
       "      <td>...</td>\n",
       "      <td>NaN</td>\n",
       "      <td>NaN</td>\n",
       "      <td>NaN</td>\n",
       "      <td>NaN</td>\n",
       "      <td>NaN</td>\n",
       "      <td>NaN</td>\n",
       "      <td>NaN</td>\n",
       "      <td>NaN</td>\n",
       "      <td>NaN</td>\n",
       "      <td>NaN</td>\n",
       "    </tr>\n",
       "  </tbody>\n",
       "</table>\n",
       "<p>5 rows × 50 columns</p>\n",
       "</div>"
      ],
      "text/plain": [
       "         date time  season  game_id sr_start sr_finish sr_delta streak_number  \\\n",
       "0   12/4/2016  NaN       3      1.0     2387       NaN      NaN           NaN   \n",
       "1   12/4/2016  NaN       3      2.0     2387      2367      -20           NaN   \n",
       "2   12/4/2016  NaN       3      2.0      NaN       NaN      NaN           NaN   \n",
       "3   12/4/2016  NaN       3      3.0     2367      2367        0           NaN   \n",
       "4  12/15/2016  NaN       3      4.0     2367      2367        0           NaN   \n",
       "\n",
       "  result my_team_sr  ... healing deaths weapon_accuracy offensive_assists  \\\n",
       "0    Win          -  ...     NaN    NaN             NaN               NaN   \n",
       "1   Loss       2617  ...     NaN    NaN             NaN               NaN   \n",
       "2   Loss       2617  ...     NaN    NaN             NaN               NaN   \n",
       "3      -       2680  ...     NaN    NaN             NaN               NaN   \n",
       "4      -          -  ...     NaN    NaN             NaN               NaN   \n",
       "\n",
       "  defensive_assists scoped Unnamed: 46 Unnamed: 47 Unnamed: 48 Unnamed: 49  \n",
       "0               NaN    NaN         NaN         NaN         NaN         NaN  \n",
       "1               NaN    NaN         NaN         NaN         NaN         NaN  \n",
       "2               NaN    NaN         NaN         NaN         NaN         NaN  \n",
       "3               NaN    NaN         NaN         NaN         NaN         NaN  \n",
       "4               NaN    NaN         NaN         NaN         NaN         NaN  \n",
       "\n",
       "[5 rows x 50 columns]"
      ]
     },
     "execution_count": 3,
     "metadata": {},
     "output_type": "execute_result"
    }
   ],
   "source": [
    "df.head()"
   ]
  },
  {
   "cell_type": "code",
   "execution_count": 4,
   "metadata": {},
   "outputs": [
    {
     "data": {
      "text/plain": [
       "date                        object\n",
       "time                        object\n",
       "season                       int64\n",
       "game_id                    float64\n",
       "sr_start                    object\n",
       "sr_finish                   object\n",
       "sr_delta                    object\n",
       "streak_number               object\n",
       "result                      object\n",
       "my_team_sr                  object\n",
       "enemy_team_sr               object\n",
       "team_sr_delta               object\n",
       "my_team_1                   object\n",
       "my_team_2                   object\n",
       "my_team_3                   object\n",
       "my_team_4                   object\n",
       "my_team_5                   object\n",
       "my_team_6                   object\n",
       "enemy_team_1                object\n",
       "enemy_team_2                object\n",
       "enemy_team_3                object\n",
       "enemy_team_4                object\n",
       "enemy_team_5                object\n",
       "enemy_team_6                object\n",
       "map                         object\n",
       "round                       object\n",
       "capscore                    object\n",
       "score_distance              object\n",
       "time_left                   object\n",
       "team_role                   object\n",
       "match_length                object\n",
       "charcter_1                  object\n",
       "character_2                 object\n",
       "character_3                 object\n",
       "communication               object\n",
       "note                        object\n",
       "psychological_condition     object\n",
       "eliminations                object\n",
       "objective_kills            float64\n",
       "damage                      object\n",
       "healing                    float64\n",
       "deaths                     float64\n",
       "weapon_accuracy            float64\n",
       "offensive_assists          float64\n",
       "defensive_assists          float64\n",
       "scoped                     float64\n",
       "Unnamed: 46                float64\n",
       "Unnamed: 47                float64\n",
       "Unnamed: 48                float64\n",
       "Unnamed: 49                float64\n",
       "dtype: object"
      ]
     },
     "execution_count": 4,
     "metadata": {},
     "output_type": "execute_result"
    }
   ],
   "source": [
    "df.dtypes"
   ]
  },
  {
   "cell_type": "code",
   "execution_count": 6,
   "metadata": {},
   "outputs": [
    {
     "data": {
      "text/html": [
       "<div>\n",
       "<style scoped>\n",
       "    .dataframe tbody tr th:only-of-type {\n",
       "        vertical-align: middle;\n",
       "    }\n",
       "\n",
       "    .dataframe tbody tr th {\n",
       "        vertical-align: top;\n",
       "    }\n",
       "\n",
       "    .dataframe thead th {\n",
       "        text-align: right;\n",
       "    }\n",
       "</style>\n",
       "<table border=\"1\" class=\"dataframe\">\n",
       "  <thead>\n",
       "    <tr style=\"text-align: right;\">\n",
       "      <th></th>\n",
       "      <th>date</th>\n",
       "      <th>time</th>\n",
       "      <th>season</th>\n",
       "      <th>game_id</th>\n",
       "      <th>sr_start</th>\n",
       "      <th>sr_finish</th>\n",
       "      <th>sr_delta</th>\n",
       "      <th>streak_number</th>\n",
       "      <th>result</th>\n",
       "      <th>my_team_sr</th>\n",
       "      <th>...</th>\n",
       "      <th>healing</th>\n",
       "      <th>deaths</th>\n",
       "      <th>weapon_accuracy</th>\n",
       "      <th>offensive_assists</th>\n",
       "      <th>defensive_assists</th>\n",
       "      <th>scoped</th>\n",
       "      <th>Unnamed: 46</th>\n",
       "      <th>Unnamed: 47</th>\n",
       "      <th>Unnamed: 48</th>\n",
       "      <th>Unnamed: 49</th>\n",
       "    </tr>\n",
       "  </thead>\n",
       "  <tbody>\n",
       "    <tr>\n",
       "      <th>0</th>\n",
       "      <td>False</td>\n",
       "      <td>True</td>\n",
       "      <td>False</td>\n",
       "      <td>False</td>\n",
       "      <td>False</td>\n",
       "      <td>True</td>\n",
       "      <td>True</td>\n",
       "      <td>True</td>\n",
       "      <td>False</td>\n",
       "      <td>False</td>\n",
       "      <td>...</td>\n",
       "      <td>True</td>\n",
       "      <td>True</td>\n",
       "      <td>True</td>\n",
       "      <td>True</td>\n",
       "      <td>True</td>\n",
       "      <td>True</td>\n",
       "      <td>True</td>\n",
       "      <td>True</td>\n",
       "      <td>True</td>\n",
       "      <td>True</td>\n",
       "    </tr>\n",
       "    <tr>\n",
       "      <th>1</th>\n",
       "      <td>False</td>\n",
       "      <td>True</td>\n",
       "      <td>False</td>\n",
       "      <td>False</td>\n",
       "      <td>False</td>\n",
       "      <td>False</td>\n",
       "      <td>False</td>\n",
       "      <td>True</td>\n",
       "      <td>False</td>\n",
       "      <td>False</td>\n",
       "      <td>...</td>\n",
       "      <td>True</td>\n",
       "      <td>True</td>\n",
       "      <td>True</td>\n",
       "      <td>True</td>\n",
       "      <td>True</td>\n",
       "      <td>True</td>\n",
       "      <td>True</td>\n",
       "      <td>True</td>\n",
       "      <td>True</td>\n",
       "      <td>True</td>\n",
       "    </tr>\n",
       "    <tr>\n",
       "      <th>2</th>\n",
       "      <td>False</td>\n",
       "      <td>True</td>\n",
       "      <td>False</td>\n",
       "      <td>False</td>\n",
       "      <td>True</td>\n",
       "      <td>True</td>\n",
       "      <td>True</td>\n",
       "      <td>True</td>\n",
       "      <td>False</td>\n",
       "      <td>False</td>\n",
       "      <td>...</td>\n",
       "      <td>True</td>\n",
       "      <td>True</td>\n",
       "      <td>True</td>\n",
       "      <td>True</td>\n",
       "      <td>True</td>\n",
       "      <td>True</td>\n",
       "      <td>True</td>\n",
       "      <td>True</td>\n",
       "      <td>True</td>\n",
       "      <td>True</td>\n",
       "    </tr>\n",
       "    <tr>\n",
       "      <th>3</th>\n",
       "      <td>False</td>\n",
       "      <td>True</td>\n",
       "      <td>False</td>\n",
       "      <td>False</td>\n",
       "      <td>False</td>\n",
       "      <td>False</td>\n",
       "      <td>False</td>\n",
       "      <td>True</td>\n",
       "      <td>False</td>\n",
       "      <td>False</td>\n",
       "      <td>...</td>\n",
       "      <td>True</td>\n",
       "      <td>True</td>\n",
       "      <td>True</td>\n",
       "      <td>True</td>\n",
       "      <td>True</td>\n",
       "      <td>True</td>\n",
       "      <td>True</td>\n",
       "      <td>True</td>\n",
       "      <td>True</td>\n",
       "      <td>True</td>\n",
       "    </tr>\n",
       "    <tr>\n",
       "      <th>4</th>\n",
       "      <td>False</td>\n",
       "      <td>True</td>\n",
       "      <td>False</td>\n",
       "      <td>False</td>\n",
       "      <td>False</td>\n",
       "      <td>False</td>\n",
       "      <td>False</td>\n",
       "      <td>True</td>\n",
       "      <td>False</td>\n",
       "      <td>False</td>\n",
       "      <td>...</td>\n",
       "      <td>True</td>\n",
       "      <td>True</td>\n",
       "      <td>True</td>\n",
       "      <td>True</td>\n",
       "      <td>True</td>\n",
       "      <td>True</td>\n",
       "      <td>True</td>\n",
       "      <td>True</td>\n",
       "      <td>True</td>\n",
       "      <td>True</td>\n",
       "    </tr>\n",
       "    <tr>\n",
       "      <th>...</th>\n",
       "      <td>...</td>\n",
       "      <td>...</td>\n",
       "      <td>...</td>\n",
       "      <td>...</td>\n",
       "      <td>...</td>\n",
       "      <td>...</td>\n",
       "      <td>...</td>\n",
       "      <td>...</td>\n",
       "      <td>...</td>\n",
       "      <td>...</td>\n",
       "      <td>...</td>\n",
       "      <td>...</td>\n",
       "      <td>...</td>\n",
       "      <td>...</td>\n",
       "      <td>...</td>\n",
       "      <td>...</td>\n",
       "      <td>...</td>\n",
       "      <td>...</td>\n",
       "      <td>...</td>\n",
       "      <td>...</td>\n",
       "      <td>...</td>\n",
       "    </tr>\n",
       "    <tr>\n",
       "      <th>3294</th>\n",
       "      <td>False</td>\n",
       "      <td>False</td>\n",
       "      <td>False</td>\n",
       "      <td>False</td>\n",
       "      <td>False</td>\n",
       "      <td>False</td>\n",
       "      <td>False</td>\n",
       "      <td>False</td>\n",
       "      <td>False</td>\n",
       "      <td>False</td>\n",
       "      <td>...</td>\n",
       "      <td>True</td>\n",
       "      <td>True</td>\n",
       "      <td>True</td>\n",
       "      <td>True</td>\n",
       "      <td>True</td>\n",
       "      <td>True</td>\n",
       "      <td>True</td>\n",
       "      <td>True</td>\n",
       "      <td>True</td>\n",
       "      <td>True</td>\n",
       "    </tr>\n",
       "    <tr>\n",
       "      <th>3295</th>\n",
       "      <td>False</td>\n",
       "      <td>False</td>\n",
       "      <td>False</td>\n",
       "      <td>False</td>\n",
       "      <td>True</td>\n",
       "      <td>True</td>\n",
       "      <td>True</td>\n",
       "      <td>False</td>\n",
       "      <td>False</td>\n",
       "      <td>False</td>\n",
       "      <td>...</td>\n",
       "      <td>True</td>\n",
       "      <td>True</td>\n",
       "      <td>True</td>\n",
       "      <td>True</td>\n",
       "      <td>True</td>\n",
       "      <td>True</td>\n",
       "      <td>True</td>\n",
       "      <td>True</td>\n",
       "      <td>True</td>\n",
       "      <td>True</td>\n",
       "    </tr>\n",
       "    <tr>\n",
       "      <th>3296</th>\n",
       "      <td>False</td>\n",
       "      <td>False</td>\n",
       "      <td>False</td>\n",
       "      <td>False</td>\n",
       "      <td>False</td>\n",
       "      <td>False</td>\n",
       "      <td>False</td>\n",
       "      <td>False</td>\n",
       "      <td>False</td>\n",
       "      <td>False</td>\n",
       "      <td>...</td>\n",
       "      <td>True</td>\n",
       "      <td>True</td>\n",
       "      <td>True</td>\n",
       "      <td>True</td>\n",
       "      <td>True</td>\n",
       "      <td>True</td>\n",
       "      <td>True</td>\n",
       "      <td>True</td>\n",
       "      <td>True</td>\n",
       "      <td>True</td>\n",
       "    </tr>\n",
       "    <tr>\n",
       "      <th>3297</th>\n",
       "      <td>False</td>\n",
       "      <td>False</td>\n",
       "      <td>False</td>\n",
       "      <td>False</td>\n",
       "      <td>True</td>\n",
       "      <td>True</td>\n",
       "      <td>True</td>\n",
       "      <td>False</td>\n",
       "      <td>False</td>\n",
       "      <td>False</td>\n",
       "      <td>...</td>\n",
       "      <td>True</td>\n",
       "      <td>True</td>\n",
       "      <td>True</td>\n",
       "      <td>True</td>\n",
       "      <td>True</td>\n",
       "      <td>True</td>\n",
       "      <td>True</td>\n",
       "      <td>True</td>\n",
       "      <td>True</td>\n",
       "      <td>True</td>\n",
       "    </tr>\n",
       "    <tr>\n",
       "      <th>3298</th>\n",
       "      <td>False</td>\n",
       "      <td>False</td>\n",
       "      <td>False</td>\n",
       "      <td>False</td>\n",
       "      <td>False</td>\n",
       "      <td>False</td>\n",
       "      <td>False</td>\n",
       "      <td>False</td>\n",
       "      <td>False</td>\n",
       "      <td>False</td>\n",
       "      <td>...</td>\n",
       "      <td>True</td>\n",
       "      <td>True</td>\n",
       "      <td>True</td>\n",
       "      <td>True</td>\n",
       "      <td>True</td>\n",
       "      <td>True</td>\n",
       "      <td>True</td>\n",
       "      <td>True</td>\n",
       "      <td>True</td>\n",
       "      <td>True</td>\n",
       "    </tr>\n",
       "  </tbody>\n",
       "</table>\n",
       "<p>3299 rows × 50 columns</p>\n",
       "</div>"
      ],
      "text/plain": [
       "       date   time  season  game_id  sr_start  sr_finish  sr_delta  \\\n",
       "0     False   True   False    False     False       True      True   \n",
       "1     False   True   False    False     False      False     False   \n",
       "2     False   True   False    False      True       True      True   \n",
       "3     False   True   False    False     False      False     False   \n",
       "4     False   True   False    False     False      False     False   \n",
       "...     ...    ...     ...      ...       ...        ...       ...   \n",
       "3294  False  False   False    False     False      False     False   \n",
       "3295  False  False   False    False      True       True      True   \n",
       "3296  False  False   False    False     False      False     False   \n",
       "3297  False  False   False    False      True       True      True   \n",
       "3298  False  False   False    False     False      False     False   \n",
       "\n",
       "      streak_number  result  my_team_sr  ...  healing  deaths  \\\n",
       "0              True   False       False  ...     True    True   \n",
       "1              True   False       False  ...     True    True   \n",
       "2              True   False       False  ...     True    True   \n",
       "3              True   False       False  ...     True    True   \n",
       "4              True   False       False  ...     True    True   \n",
       "...             ...     ...         ...  ...      ...     ...   \n",
       "3294          False   False       False  ...     True    True   \n",
       "3295          False   False       False  ...     True    True   \n",
       "3296          False   False       False  ...     True    True   \n",
       "3297          False   False       False  ...     True    True   \n",
       "3298          False   False       False  ...     True    True   \n",
       "\n",
       "      weapon_accuracy  offensive_assists  defensive_assists  scoped  \\\n",
       "0                True               True               True    True   \n",
       "1                True               True               True    True   \n",
       "2                True               True               True    True   \n",
       "3                True               True               True    True   \n",
       "4                True               True               True    True   \n",
       "...               ...                ...                ...     ...   \n",
       "3294             True               True               True    True   \n",
       "3295             True               True               True    True   \n",
       "3296             True               True               True    True   \n",
       "3297             True               True               True    True   \n",
       "3298             True               True               True    True   \n",
       "\n",
       "      Unnamed: 46  Unnamed: 47  Unnamed: 48  Unnamed: 49  \n",
       "0            True         True         True         True  \n",
       "1            True         True         True         True  \n",
       "2            True         True         True         True  \n",
       "3            True         True         True         True  \n",
       "4            True         True         True         True  \n",
       "...           ...          ...          ...          ...  \n",
       "3294         True         True         True         True  \n",
       "3295         True         True         True         True  \n",
       "3296         True         True         True         True  \n",
       "3297         True         True         True         True  \n",
       "3298         True         True         True         True  \n",
       "\n",
       "[3299 rows x 50 columns]"
      ]
     },
     "execution_count": 6,
     "metadata": {},
     "output_type": "execute_result"
    }
   ],
   "source": [
    "df.isna()"
   ]
  },
  {
   "cell_type": "code",
   "execution_count": 7,
   "metadata": {},
   "outputs": [
    {
     "data": {
      "text/plain": [
       "date                          0\n",
       "time                       1794\n",
       "season                        0\n",
       "game_id                     732\n",
       "sr_start                   1625\n",
       "sr_finish                  1627\n",
       "sr_delta                   1627\n",
       "streak_number              1045\n",
       "result                        0\n",
       "my_team_sr                   44\n",
       "enemy_team_sr                44\n",
       "team_sr_delta                48\n",
       "my_team_1                     4\n",
       "my_team_2                    10\n",
       "my_team_3                    12\n",
       "my_team_4                    12\n",
       "my_team_5                    16\n",
       "my_team_6                    14\n",
       "enemy_team_1                 29\n",
       "enemy_team_2                 26\n",
       "enemy_team_3                 25\n",
       "enemy_team_4                 25\n",
       "enemy_team_5                 25\n",
       "enemy_team_6                 25\n",
       "map                           0\n",
       "round                         6\n",
       "capscore                     23\n",
       "score_distance             1517\n",
       "time_left                   518\n",
       "team_role                     5\n",
       "match_length                107\n",
       "charcter_1                   60\n",
       "character_2                2784\n",
       "character_3                3236\n",
       "communication              1999\n",
       "note                       2801\n",
       "psychological_condition    2024\n",
       "eliminations               3027\n",
       "objective_kills            3028\n",
       "damage                     3028\n",
       "healing                    3030\n",
       "deaths                     3030\n",
       "weapon_accuracy            3034\n",
       "offensive_assists          3150\n",
       "defensive_assists          3190\n",
       "scoped                     3143\n",
       "Unnamed: 46                3108\n",
       "Unnamed: 47                3258\n",
       "Unnamed: 48                3298\n",
       "Unnamed: 49                3298\n",
       "dtype: int64"
      ]
     },
     "execution_count": 7,
     "metadata": {},
     "output_type": "execute_result"
    }
   ],
   "source": [
    "df.isna().sum()"
   ]
  },
  {
   "cell_type": "code",
   "execution_count": 9,
   "metadata": {},
   "outputs": [
    {
     "data": {
      "text/plain": [
       "(3299, 50)"
      ]
     },
     "execution_count": 9,
     "metadata": {},
     "output_type": "execute_result"
    }
   ],
   "source": [
    "df.shape"
   ]
  },
  {
   "cell_type": "code",
   "execution_count": 10,
   "metadata": {},
   "outputs": [
    {
     "data": {
      "text/plain": [
       "Index(['date', 'time', 'season', 'game_id', 'sr_start', 'sr_finish',\n",
       "       'sr_delta', 'streak_number', 'result', 'my_team_sr', 'enemy_team_sr',\n",
       "       'team_sr_delta', 'my_team_1', 'my_team_2', 'my_team_3', 'my_team_4',\n",
       "       'my_team_5', 'my_team_6', 'enemy_team_1', 'enemy_team_2',\n",
       "       'enemy_team_3', 'enemy_team_4', 'enemy_team_5', 'enemy_team_6', 'map',\n",
       "       'round', 'capscore', 'score_distance', 'time_left', 'team_role',\n",
       "       'match_length', 'charcter_1', 'character_2', 'character_3',\n",
       "       'communication', 'note', 'psychological_condition', 'eliminations',\n",
       "       'objective_kills', 'damage', 'healing', 'deaths', 'weapon_accuracy',\n",
       "       'offensive_assists', 'defensive_assists', 'scoped', 'Unnamed: 46',\n",
       "       'Unnamed: 47', 'Unnamed: 48', 'Unnamed: 49'],\n",
       "      dtype='object')"
      ]
     },
     "execution_count": 10,
     "metadata": {},
     "output_type": "execute_result"
    }
   ],
   "source": [
    "df.columns"
   ]
  },
  {
   "cell_type": "code",
   "execution_count": 11,
   "metadata": {},
   "outputs": [
    {
     "data": {
      "text/plain": [
       "L       1050\n",
       "W       1032\n",
       "Loss     467\n",
       "Win      453\n",
       "Draw     261\n",
       "-         33\n",
       "l          2\n",
       "DC         1\n",
       "Name: result, dtype: int64"
      ]
     },
     "execution_count": 11,
     "metadata": {},
     "output_type": "execute_result"
    }
   ],
   "source": [
    "df.result.value_counts()"
   ]
  },
  {
   "cell_type": "code",
   "execution_count": 12,
   "metadata": {},
   "outputs": [
    {
     "data": {
      "application/javascript": [
       "\n",
       "        if (window._pyforest_update_imports_cell) { window._pyforest_update_imports_cell('import pandas as pd\\nimport seaborn as sns'); }\n",
       "    "
      ],
      "text/plain": [
       "<IPython.core.display.Javascript object>"
      ]
     },
     "metadata": {},
     "output_type": "display_data"
    },
    {
     "data": {
      "application/javascript": [
       "\n",
       "        if (window._pyforest_update_imports_cell) { window._pyforest_update_imports_cell('import pandas as pd\\nimport matplotlib.pyplot as plt\\nimport seaborn as sns'); }\n",
       "    "
      ],
      "text/plain": [
       "<IPython.core.display.Javascript object>"
      ]
     },
     "metadata": {},
     "output_type": "display_data"
    },
    {
     "data": {
      "application/javascript": [
       "\n",
       "        if (window._pyforest_update_imports_cell) { window._pyforest_update_imports_cell('import pandas as pd\\nimport matplotlib.pyplot as plt\\nimport seaborn as sns'); }\n",
       "    "
      ],
      "text/plain": [
       "<IPython.core.display.Javascript object>"
      ]
     },
     "metadata": {},
     "output_type": "display_data"
    },
    {
     "data": {
      "image/png": "[encoded data removed]",
      "text/plain": [
       "<Figure size 432x288 with 1 Axes>"
      ]
     },
     "metadata": {
      "needs_background": "light"
     },
     "output_type": "display_data"
    }
   ],
   "source": [
    "sns.heatmap(df.isnull(),yticklabels = False, cbar = False,cmap = 'tab20c_r')\n",
    "plt.title('Missing Data: Overwatch')\n",
    "plt.show()"
   ]
  },
  {
   "cell_type": "code",
   "execution_count": 14,
   "metadata": {},
   "outputs": [
    {
     "data": {
      "text/plain": [
       "date                        0.000000\n",
       "time                       54.380115\n",
       "season                      0.000000\n",
       "game_id                    22.188542\n",
       "sr_start                   49.257351\n",
       "sr_finish                  49.317975\n",
       "sr_delta                   49.317975\n",
       "streak_number              31.676266\n",
       "result                      0.000000\n",
       "my_team_sr                  1.333737\n",
       "enemy_team_sr               1.333737\n",
       "team_sr_delta               1.454986\n",
       "my_team_1                   0.121249\n",
       "my_team_2                   0.303122\n",
       "my_team_3                   0.363747\n",
       "my_team_4                   0.363747\n",
       "my_team_5                   0.484995\n",
       "my_team_6                   0.424371\n",
       "enemy_team_1                0.879054\n",
       "enemy_team_2                0.788118\n",
       "enemy_team_3                0.757805\n",
       "enemy_team_4                0.757805\n",
       "enemy_team_5                0.757805\n",
       "enemy_team_6                0.757805\n",
       "map                         0.000000\n",
       "round                       0.181873\n",
       "capscore                    0.697181\n",
       "score_distance             45.983631\n",
       "time_left                  15.701728\n",
       "team_role                   0.151561\n",
       "match_length                3.243407\n",
       "charcter_1                  1.818733\n",
       "character_2                84.389209\n",
       "character_3                98.090330\n",
       "communication              60.594119\n",
       "note                       84.904517\n",
       "psychological_condition    61.351925\n",
       "eliminations               91.755077\n",
       "objective_kills            91.785390\n",
       "damage                     91.785390\n",
       "healing                    91.846014\n",
       "deaths                     91.846014\n",
       "weapon_accuracy            91.967263\n",
       "offensive_assists          95.483480\n",
       "defensive_assists          96.695968\n",
       "scoped                     95.271294\n",
       "Unnamed: 46                94.210367\n",
       "Unnamed: 47                98.757199\n",
       "Unnamed: 48                99.969688\n",
       "Unnamed: 49                99.969688\n",
       "dtype: float64"
      ]
     },
     "execution_count": 14,
     "metadata": {},
     "output_type": "execute_result"
    }
   ],
   "source": [
    "rows = df.shape[0]\n",
    "null_total = df.isnull().sum()\n",
    "missing_percent = (null_total/rows)*100\n",
    "missing_percent"
   ]
  },
  {
   "cell_type": "code",
   "execution_count": 15,
   "metadata": {},
   "outputs": [
    {
     "data": {
      "application/javascript": [
       "\n",
       "        if (window._pyforest_update_imports_cell) { window._pyforest_update_imports_cell('import pandas as pd\\nimport matplotlib.pyplot as plt\\nimport seaborn as sns'); }\n",
       "    "
      ],
      "text/plain": [
       "<IPython.core.display.Javascript object>"
      ]
     },
     "metadata": {},
     "output_type": "display_data"
    },
    {
     "data": {
      "text/html": [
       "<div>\n",
       "<style scoped>\n",
       "    .dataframe tbody tr th:only-of-type {\n",
       "        vertical-align: middle;\n",
       "    }\n",
       "\n",
       "    .dataframe tbody tr th {\n",
       "        vertical-align: top;\n",
       "    }\n",
       "\n",
       "    .dataframe thead th {\n",
       "        text-align: right;\n",
       "    }\n",
       "</style>\n",
       "<table border=\"1\" class=\"dataframe\">\n",
       "  <thead>\n",
       "    <tr style=\"text-align: right;\">\n",
       "      <th></th>\n",
       "      <th>missing_percent</th>\n",
       "    </tr>\n",
       "  </thead>\n",
       "  <tbody>\n",
       "    <tr>\n",
       "      <th>date</th>\n",
       "      <td>0.000000</td>\n",
       "    </tr>\n",
       "    <tr>\n",
       "      <th>time</th>\n",
       "      <td>54.380115</td>\n",
       "    </tr>\n",
       "    <tr>\n",
       "      <th>season</th>\n",
       "      <td>0.000000</td>\n",
       "    </tr>\n",
       "    <tr>\n",
       "      <th>game_id</th>\n",
       "      <td>22.188542</td>\n",
       "    </tr>\n",
       "    <tr>\n",
       "      <th>sr_start</th>\n",
       "      <td>49.257351</td>\n",
       "    </tr>\n",
       "    <tr>\n",
       "      <th>sr_finish</th>\n",
       "      <td>49.317975</td>\n",
       "    </tr>\n",
       "    <tr>\n",
       "      <th>sr_delta</th>\n",
       "      <td>49.317975</td>\n",
       "    </tr>\n",
       "    <tr>\n",
       "      <th>streak_number</th>\n",
       "      <td>31.676266</td>\n",
       "    </tr>\n",
       "    <tr>\n",
       "      <th>result</th>\n",
       "      <td>0.000000</td>\n",
       "    </tr>\n",
       "    <tr>\n",
       "      <th>my_team_sr</th>\n",
       "      <td>1.333737</td>\n",
       "    </tr>\n",
       "    <tr>\n",
       "      <th>enemy_team_sr</th>\n",
       "      <td>1.333737</td>\n",
       "    </tr>\n",
       "    <tr>\n",
       "      <th>team_sr_delta</th>\n",
       "      <td>1.454986</td>\n",
       "    </tr>\n",
       "    <tr>\n",
       "      <th>my_team_1</th>\n",
       "      <td>0.121249</td>\n",
       "    </tr>\n",
       "    <tr>\n",
       "      <th>my_team_2</th>\n",
       "      <td>0.303122</td>\n",
       "    </tr>\n",
       "    <tr>\n",
       "      <th>my_team_3</th>\n",
       "      <td>0.363747</td>\n",
       "    </tr>\n",
       "    <tr>\n",
       "      <th>my_team_4</th>\n",
       "      <td>0.363747</td>\n",
       "    </tr>\n",
       "    <tr>\n",
       "      <th>my_team_5</th>\n",
       "      <td>0.484995</td>\n",
       "    </tr>\n",
       "    <tr>\n",
       "      <th>my_team_6</th>\n",
       "      <td>0.424371</td>\n",
       "    </tr>\n",
       "    <tr>\n",
       "      <th>enemy_team_1</th>\n",
       "      <td>0.879054</td>\n",
       "    </tr>\n",
       "    <tr>\n",
       "      <th>enemy_team_2</th>\n",
       "      <td>0.788118</td>\n",
       "    </tr>\n",
       "    <tr>\n",
       "      <th>enemy_team_3</th>\n",
       "      <td>0.757805</td>\n",
       "    </tr>\n",
       "    <tr>\n",
       "      <th>enemy_team_4</th>\n",
       "      <td>0.757805</td>\n",
       "    </tr>\n",
       "    <tr>\n",
       "      <th>enemy_team_5</th>\n",
       "      <td>0.757805</td>\n",
       "    </tr>\n",
       "    <tr>\n",
       "      <th>enemy_team_6</th>\n",
       "      <td>0.757805</td>\n",
       "    </tr>\n",
       "    <tr>\n",
       "      <th>map</th>\n",
       "      <td>0.000000</td>\n",
       "    </tr>\n",
       "    <tr>\n",
       "      <th>round</th>\n",
       "      <td>0.181873</td>\n",
       "    </tr>\n",
       "    <tr>\n",
       "      <th>capscore</th>\n",
       "      <td>0.697181</td>\n",
       "    </tr>\n",
       "    <tr>\n",
       "      <th>score_distance</th>\n",
       "      <td>45.983631</td>\n",
       "    </tr>\n",
       "    <tr>\n",
       "      <th>time_left</th>\n",
       "      <td>15.701728</td>\n",
       "    </tr>\n",
       "    <tr>\n",
       "      <th>team_role</th>\n",
       "      <td>0.151561</td>\n",
       "    </tr>\n",
       "    <tr>\n",
       "      <th>match_length</th>\n",
       "      <td>3.243407</td>\n",
       "    </tr>\n",
       "    <tr>\n",
       "      <th>charcter_1</th>\n",
       "      <td>1.818733</td>\n",
       "    </tr>\n",
       "    <tr>\n",
       "      <th>character_2</th>\n",
       "      <td>84.389209</td>\n",
       "    </tr>\n",
       "    <tr>\n",
       "      <th>character_3</th>\n",
       "      <td>98.090330</td>\n",
       "    </tr>\n",
       "    <tr>\n",
       "      <th>communication</th>\n",
       "      <td>60.594119</td>\n",
       "    </tr>\n",
       "    <tr>\n",
       "      <th>note</th>\n",
       "      <td>84.904517</td>\n",
       "    </tr>\n",
       "    <tr>\n",
       "      <th>psychological_condition</th>\n",
       "      <td>61.351925</td>\n",
       "    </tr>\n",
       "    <tr>\n",
       "      <th>eliminations</th>\n",
       "      <td>91.755077</td>\n",
       "    </tr>\n",
       "    <tr>\n",
       "      <th>objective_kills</th>\n",
       "      <td>91.785390</td>\n",
       "    </tr>\n",
       "    <tr>\n",
       "      <th>damage</th>\n",
       "      <td>91.785390</td>\n",
       "    </tr>\n",
       "    <tr>\n",
       "      <th>healing</th>\n",
       "      <td>91.846014</td>\n",
       "    </tr>\n",
       "    <tr>\n",
       "      <th>deaths</th>\n",
       "      <td>91.846014</td>\n",
       "    </tr>\n",
       "    <tr>\n",
       "      <th>weapon_accuracy</th>\n",
       "      <td>91.967263</td>\n",
       "    </tr>\n",
       "    <tr>\n",
       "      <th>offensive_assists</th>\n",
       "      <td>95.483480</td>\n",
       "    </tr>\n",
       "    <tr>\n",
       "      <th>defensive_assists</th>\n",
       "      <td>96.695968</td>\n",
       "    </tr>\n",
       "    <tr>\n",
       "      <th>scoped</th>\n",
       "      <td>95.271294</td>\n",
       "    </tr>\n",
       "    <tr>\n",
       "      <th>Unnamed: 46</th>\n",
       "      <td>94.210367</td>\n",
       "    </tr>\n",
       "    <tr>\n",
       "      <th>Unnamed: 47</th>\n",
       "      <td>98.757199</td>\n",
       "    </tr>\n",
       "    <tr>\n",
       "      <th>Unnamed: 48</th>\n",
       "      <td>99.969688</td>\n",
       "    </tr>\n",
       "    <tr>\n",
       "      <th>Unnamed: 49</th>\n",
       "      <td>99.969688</td>\n",
       "    </tr>\n",
       "  </tbody>\n",
       "</table>\n",
       "</div>"
      ],
      "text/plain": [
       "                         missing_percent\n",
       "date                            0.000000\n",
       "time                           54.380115\n",
       "season                          0.000000\n",
       "game_id                        22.188542\n",
       "sr_start                       49.257351\n",
       "sr_finish                      49.317975\n",
       "sr_delta                       49.317975\n",
       "streak_number                  31.676266\n",
       "result                          0.000000\n",
       "my_team_sr                      1.333737\n",
       "enemy_team_sr                   1.333737\n",
       "team_sr_delta                   1.454986\n",
       "my_team_1                       0.121249\n",
       "my_team_2                       0.303122\n",
       "my_team_3                       0.363747\n",
       "my_team_4                       0.363747\n",
       "my_team_5                       0.484995\n",
       "my_team_6                       0.424371\n",
       "enemy_team_1                    0.879054\n",
       "enemy_team_2                    0.788118\n",
       "enemy_team_3                    0.757805\n",
       "enemy_team_4                    0.757805\n",
       "enemy_team_5                    0.757805\n",
       "enemy_team_6                    0.757805\n",
       "map                             0.000000\n",
       "round                           0.181873\n",
       "capscore                        0.697181\n",
       "score_distance                 45.983631\n",
       "time_left                      15.701728\n",
       "team_role                       0.151561\n",
       "match_length                    3.243407\n",
       "charcter_1                      1.818733\n",
       "character_2                    84.389209\n",
       "character_3                    98.090330\n",
       "communication                  60.594119\n",
       "note                           84.904517\n",
       "psychological_condition        61.351925\n",
       "eliminations                   91.755077\n",
       "objective_kills                91.785390\n",
       "damage                         91.785390\n",
       "healing                        91.846014\n",
       "deaths                         91.846014\n",
       "weapon_accuracy                91.967263\n",
       "offensive_assists              95.483480\n",
       "defensive_assists              96.695968\n",
       "scoped                         95.271294\n",
       "Unnamed: 46                    94.210367\n",
       "Unnamed: 47                    98.757199\n",
       "Unnamed: 48                    99.969688\n",
       "Unnamed: 49                    99.969688"
      ]
     },
     "execution_count": 15,
     "metadata": {},
     "output_type": "execute_result"
    }
   ],
   "source": [
    "pd.DataFrame(missing_percent ,columns = [\"missing_percent\"])"
   ]
  },
  {
   "cell_type": "code",
   "execution_count": 32,
   "metadata": {},
   "outputs": [],
   "source": [
    "df.drop(['note','eliminations','objective_kills','damage','healing','deaths','weapon_accuracy',\n",
    "      'offensive_assists','defensive_assists','scoped',\n",
    "         'Unnamed: 46','Unnamed: 47','Unnamed: 48','Unnamed: 49'],axis=1, inplace= True)"
   ]
  },
  {
   "cell_type": "code",
   "execution_count": 33,
   "metadata": {},
   "outputs": [
    {
     "data": {
      "text/plain": [
       "date                        object\n",
       "time                        object\n",
       "season                       int64\n",
       "game_id                    float64\n",
       "sr_start                    object\n",
       "sr_finish                   object\n",
       "sr_delta                    object\n",
       "streak_number               object\n",
       "result                      object\n",
       "my_team_sr                  object\n",
       "enemy_team_sr               object\n",
       "team_sr_delta               object\n",
       "my_team_1                   object\n",
       "my_team_2                   object\n",
       "my_team_3                   object\n",
       "my_team_4                   object\n",
       "my_team_5                   object\n",
       "my_team_6                   object\n",
       "enemy_team_1                object\n",
       "enemy_team_2                object\n",
       "enemy_team_3                object\n",
       "enemy_team_4                object\n",
       "enemy_team_5                object\n",
       "enemy_team_6                object\n",
       "map                         object\n",
       "round                       object\n",
       "capscore                    object\n",
       "score_distance              object\n",
       "time_left                   object\n",
       "team_role                   object\n",
       "match_length                object\n",
       "charcter_1                  object\n",
       "character_2                 object\n",
       "character_3                 object\n",
       "communication               object\n",
       "psychological_condition     object\n",
       "dtype: object"
      ]
     },
     "execution_count": 33,
     "metadata": {},
     "output_type": "execute_result"
    }
   ],
   "source": [
    "df.dtypes"
   ]
  },
  {
   "cell_type": "code",
   "execution_count": 34,
   "metadata": {},
   "outputs": [
    {
     "data": {
      "application/javascript": [
       "\n",
       "        if (window._pyforest_update_imports_cell) { window._pyforest_update_imports_cell('import pandas as pd\\nimport matplotlib.pyplot as plt\\nimport seaborn as sns'); }\n",
       "    "
      ],
      "text/plain": [
       "<IPython.core.display.Javascript object>"
      ]
     },
     "metadata": {},
     "output_type": "display_data"
    },
    {
     "data": {
      "application/javascript": [
       "\n",
       "        if (window._pyforest_update_imports_cell) { window._pyforest_update_imports_cell('import pandas as pd\\nimport matplotlib.pyplot as plt\\nimport seaborn as sns'); }\n",
       "    "
      ],
      "text/plain": [
       "<IPython.core.display.Javascript object>"
      ]
     },
     "metadata": {},
     "output_type": "display_data"
    },
    {
     "data": {
      "application/javascript": [
       "\n",
       "        if (window._pyforest_update_imports_cell) { window._pyforest_update_imports_cell('import pandas as pd\\nimport matplotlib.pyplot as plt\\nimport seaborn as sns'); }\n",
       "    "
      ],
      "text/plain": [
       "<IPython.core.display.Javascript object>"
      ]
     },
     "metadata": {},
     "output_type": "display_data"
    },
    {
     "data": {
      "image/png": "[encoded data removed]",
      "text/plain": [
       "<Figure size 432x288 with 1 Axes>"
      ]
     },
     "metadata": {
      "needs_background": "light"
     },
     "output_type": "display_data"
    }
   ],
   "source": [
    "sns.heatmap(df.isnull(),yticklabels = False, cbar = False,cmap = 'tab20c_r')\n",
    "plt.title('Missing Data: Overwatch')\n",
    "plt.show()"
   ]
  },
  {
   "cell_type": "code",
   "execution_count": 35,
   "metadata": {},
   "outputs": [],
   "source": [
    "df.drop(['character_2','character_3','psychological_condition'],axis=1, inplace= True)"
   ]
  },
  {
   "cell_type": "code",
   "execution_count": 36,
   "metadata": {},
   "outputs": [
    {
     "data": {
      "application/javascript": [
       "\n",
       "        if (window._pyforest_update_imports_cell) { window._pyforest_update_imports_cell('import pandas as pd\\nimport matplotlib.pyplot as plt\\nimport seaborn as sns'); }\n",
       "    "
      ],
      "text/plain": [
       "<IPython.core.display.Javascript object>"
      ]
     },
     "metadata": {},
     "output_type": "display_data"
    },
    {
     "data": {
      "application/javascript": [
       "\n",
       "        if (window._pyforest_update_imports_cell) { window._pyforest_update_imports_cell('import pandas as pd\\nimport matplotlib.pyplot as plt\\nimport seaborn as sns'); }\n",
       "    "
      ],
      "text/plain": [
       "<IPython.core.display.Javascript object>"
      ]
     },
     "metadata": {},
     "output_type": "display_data"
    },
    {
     "data": {
      "application/javascript": [
       "\n",
       "        if (window._pyforest_update_imports_cell) { window._pyforest_update_imports_cell('import pandas as pd\\nimport matplotlib.pyplot as plt\\nimport seaborn as sns'); }\n",
       "    "
      ],
      "text/plain": [
       "<IPython.core.display.Javascript object>"
      ]
     },
     "metadata": {},
     "output_type": "display_data"
    },
    {
     "data": {
      "image/png": "[encoded data removed]",
      "text/plain": [
       "<Figure size 432x288 with 1 Axes>"
      ]
     },
     "metadata": {
      "needs_background": "light"
     },
     "output_type": "display_data"
    }
   ],
   "source": [
    "sns.heatmap(df.isnull(),yticklabels = False, cbar = False,cmap = 'tab20c_r')\n",
    "plt.title('Missing Data: Overwatch')\n",
    "plt.show()"
   ]
  },
  {
   "cell_type": "code",
   "execution_count": 38,
   "metadata": {},
   "outputs": [
    {
     "data": {
      "text/plain": [
       "0       False\n",
       "1       False\n",
       "2        True\n",
       "3       False\n",
       "4       False\n",
       "        ...  \n",
       "3294    False\n",
       "3295     True\n",
       "3296    False\n",
       "3297     True\n",
       "3298    False\n",
       "Name: sr_start, Length: 3299, dtype: bool"
      ]
     },
     "execution_count": 38,
     "metadata": {},
     "output_type": "execute_result"
    }
   ],
   "source": [
    "df.sr_start.isna()"
   ]
  },
  {
   "cell_type": "code",
   "execution_count": 40,
   "metadata": {},
   "outputs": [],
   "source": [
    "df['sr_start'].fillna(method='ffill', inplace=True)"
   ]
  },
  {
   "cell_type": "code",
   "execution_count": 41,
   "metadata": {},
   "outputs": [
    {
     "data": {
      "text/plain": [
       "0       False\n",
       "1       False\n",
       "2       False\n",
       "3       False\n",
       "4       False\n",
       "        ...  \n",
       "3294    False\n",
       "3295    False\n",
       "3296    False\n",
       "3297    False\n",
       "3298    False\n",
       "Name: sr_start, Length: 3299, dtype: bool"
      ]
     },
     "execution_count": 41,
     "metadata": {},
     "output_type": "execute_result"
    }
   ],
   "source": [
    "df.sr_start.isna()"
   ]
  },
  {
   "cell_type": "code",
   "execution_count": 42,
   "metadata": {},
   "outputs": [
    {
     "data": {
      "text/plain": [
       "-       46\n",
       "2616    26\n",
       "2672    19\n",
       "2671    18\n",
       "2648    18\n",
       "        ..\n",
       "2850     1\n",
       "2008     1\n",
       "2868     1\n",
       "2450     1\n",
       "2084     1\n",
       "Name: sr_start, Length: 683, dtype: int64"
      ]
     },
     "execution_count": 42,
     "metadata": {},
     "output_type": "execute_result"
    }
   ],
   "source": [
    "df.sr_start.value_counts()"
   ]
  },
  {
   "cell_type": "code",
   "execution_count": 44,
   "metadata": {},
   "outputs": [
    {
     "data": {
      "text/plain": [
       "'3017'"
      ]
     },
     "execution_count": 44,
     "metadata": {},
     "output_type": "execute_result"
    }
   ],
   "source": [
    "df.sr_start.max()"
   ]
  },
  {
   "cell_type": "code",
   "execution_count": 50,
   "metadata": {},
   "outputs": [
    {
     "data": {
      "text/plain": [
       "'-'"
      ]
     },
     "execution_count": 50,
     "metadata": {},
     "output_type": "execute_result"
    }
   ],
   "source": [
    "df['sr_start'].min()"
   ]
  },
  {
   "cell_type": "code",
   "execution_count": 53,
   "metadata": {},
   "outputs": [],
   "source": [
    "df = df[df['sr_start'] != '-']"
   ]
  },
  {
   "cell_type": "code",
   "execution_count": 54,
   "metadata": {},
   "outputs": [
    {
     "data": {
      "text/plain": [
       "'1966'"
      ]
     },
     "execution_count": 54,
     "metadata": {},
     "output_type": "execute_result"
    }
   ],
   "source": [
    "df['sr_start'].min()"
   ]
  },
  {
   "cell_type": "code",
   "execution_count": 63,
   "metadata": {},
   "outputs": [
    {
     "data": {
      "text/plain": [
       "date               object\n",
       "time               object\n",
       "season              int64\n",
       "game_id           float64\n",
       "sr_start           object\n",
       "sr_finish          object\n",
       "sr_delta           object\n",
       "streak_number      object\n",
       "result             object\n",
       "my_team_sr         object\n",
       "enemy_team_sr      object\n",
       "team_sr_delta      object\n",
       "my_team_1          object\n",
       "my_team_2          object\n",
       "my_team_3          object\n",
       "my_team_4          object\n",
       "my_team_5          object\n",
       "my_team_6          object\n",
       "enemy_team_1       object\n",
       "enemy_team_2       object\n",
       "enemy_team_3       object\n",
       "enemy_team_4       object\n",
       "enemy_team_5       object\n",
       "enemy_team_6       object\n",
       "map                object\n",
       "round              object\n",
       "capscore           object\n",
       "score_distance     object\n",
       "time_left          object\n",
       "team_role          object\n",
       "match_length       object\n",
       "charcter_1         object\n",
       "communication      object\n",
       "dtype: object"
      ]
     },
     "execution_count": 63,
     "metadata": {},
     "output_type": "execute_result"
    }
   ],
   "source": [
    "df.dtypes"
   ]
  },
  {
   "cell_type": "code",
   "execution_count": 64,
   "metadata": {},
   "outputs": [],
   "source": [
    "df['sr_start'] = df['sr_start'].astype(int)"
   ]
  },
  {
   "cell_type": "code",
   "execution_count": 74,
   "metadata": {},
   "outputs": [
    {
     "data": {
      "text/plain": [
       "1617"
      ]
     },
     "execution_count": 74,
     "metadata": {},
     "output_type": "execute_result"
    }
   ],
   "source": [
    "df.sr_finish.isna().sum()\n"
   ]
  },
  {
   "cell_type": "code",
   "execution_count": 75,
   "metadata": {},
   "outputs": [],
   "source": [
    "df['sr_finish'].fillna(method='ffill', inplace=True)"
   ]
  },
  {
   "cell_type": "code",
   "execution_count": 80,
   "metadata": {},
   "outputs": [],
   "source": [
    "df['sr_finish'].fillna(method='bfill', inplace=True)"
   ]
  },
  {
   "cell_type": "code",
   "execution_count": 81,
   "metadata": {},
   "outputs": [
    {
     "data": {
      "text/plain": [
       "0"
      ]
     },
     "execution_count": 81,
     "metadata": {},
     "output_type": "execute_result"
    }
   ],
   "source": [
    "df.sr_finish.isna().sum()"
   ]
  },
  {
   "cell_type": "code",
   "execution_count": 82,
   "metadata": {},
   "outputs": [],
   "source": [
    "df['sr_finish'] = df['sr_finish'].astype(int)"
   ]
  },
  {
   "cell_type": "code",
   "execution_count": 84,
   "metadata": {},
   "outputs": [
    {
     "data": {
      "application/javascript": [
       "\n",
       "        if (window._pyforest_update_imports_cell) { window._pyforest_update_imports_cell('import pandas as pd\\nimport matplotlib.pyplot as plt\\nimport seaborn as sns'); }\n",
       "    "
      ],
      "text/plain": [
       "<IPython.core.display.Javascript object>"
      ]
     },
     "metadata": {},
     "output_type": "display_data"
    },
    {
     "data": {
      "text/plain": [
       "<seaborn.axisgrid.FacetGrid at 0x7fb7183e4a00>"
      ]
     },
     "execution_count": 84,
     "metadata": {},
     "output_type": "execute_result"
    },
    {
     "data": {
      "image/png": "[encoded data removed]",
      "text/plain": [
       "<Figure size 419.375x360 with 1 Axes>"
      ]
     },
     "metadata": {},
     "output_type": "display_data"
    }
   ],
   "source": [
    "sns.relplot(data=df,\n",
    "    x=\"sr_start\", y=\"sr_finish\", hue=\"result\"\n",
    ")"
   ]
  },
  {
   "cell_type": "code",
   "execution_count": null,
   "metadata": {},
   "outputs": [],
   "source": []
  }
 ],
 "metadata": {
  "kernelspec": {
   "display_name": "Python 3",
   "language": "python",
   "name": "python3"
  },
  "language_info": {
   "codemirror_mode": {
    "name": "ipython",
    "version": 3
   },
   "file_extension": ".py",
   "mimetype": "text/x-python",
   "name": "python",
   "nbconvert_exporter": "python",
   "pygments_lexer": "ipython3",
   "version": "3.8.3"
  }
 },
 "nbformat": 4,
 "nbformat_minor": 4
}

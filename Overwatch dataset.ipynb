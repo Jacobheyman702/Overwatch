{
 "cells": [
  {
   "cell_type": "markdown",
   "metadata": {},
   "source": [
    "Import packages"
   ]
  },
  {
   "cell_type": "code",
   "execution_count": 116,
   "metadata": {},
   "outputs": [
    {
     "data": {
      "application/javascript": [
       "\n",
       "        if (window._pyforest_update_imports_cell) { window._pyforest_update_imports_cell('import pandas as pd\\nimport seaborn as sns\\nimport matplotlib.pyplot as plt'); }\n",
       "    "
      ],
      "text/plain": [
       "<IPython.core.display.Javascript object>"
      ]
     },
     "metadata": {},
     "output_type": "display_data"
    }
   ],
   "source": [
    "import pyforest\n",
    "pd.set_option('display.max_columns', None)"
   ]
  },
  {
   "cell_type": "markdown",
   "metadata": {},
   "source": [
    "Read in dataset"
   ]
  },
  {
   "cell_type": "code",
   "execution_count": 2,
   "metadata": {},
   "outputs": [
    {
     "data": {
      "application/javascript": [
       "\n",
       "        if (window._pyforest_update_imports_cell) { window._pyforest_update_imports_cell('import pandas as pd'); }\n",
       "    "
      ],
      "text/plain": [
       "<IPython.core.display.Javascript object>"
      ]
     },
     "metadata": {},
     "output_type": "display_data"
    }
   ],
   "source": [
    "df = pd.read_csv('overwatch-diary.csv')"
   ]
  },
  {
   "cell_type": "code",
   "execution_count": 3,
   "metadata": {},
   "outputs": [
    {
     "data": {
      "text/html": [
       "<div>\n",
       "<style scoped>\n",
       "    .dataframe tbody tr th:only-of-type {\n",
       "        vertical-align: middle;\n",
       "    }\n",
       "\n",
       "    .dataframe tbody tr th {\n",
       "        vertical-align: top;\n",
       "    }\n",
       "\n",
       "    .dataframe thead th {\n",
       "        text-align: right;\n",
       "    }\n",
       "</style>\n",
       "<table border=\"1\" class=\"dataframe\">\n",
       "  <thead>\n",
       "    <tr style=\"text-align: right;\">\n",
       "      <th></th>\n",
       "      <th>date</th>\n",
       "      <th>time</th>\n",
       "      <th>season</th>\n",
       "      <th>game_id</th>\n",
       "      <th>sr_start</th>\n",
       "      <th>sr_finish</th>\n",
       "      <th>sr_delta</th>\n",
       "      <th>streak_number</th>\n",
       "      <th>result</th>\n",
       "      <th>my_team_sr</th>\n",
       "      <th>...</th>\n",
       "      <th>healing</th>\n",
       "      <th>deaths</th>\n",
       "      <th>weapon_accuracy</th>\n",
       "      <th>offensive_assists</th>\n",
       "      <th>defensive_assists</th>\n",
       "      <th>scoped</th>\n",
       "      <th>Unnamed: 46</th>\n",
       "      <th>Unnamed: 47</th>\n",
       "      <th>Unnamed: 48</th>\n",
       "      <th>Unnamed: 49</th>\n",
       "    </tr>\n",
       "  </thead>\n",
       "  <tbody>\n",
       "    <tr>\n",
       "      <th>0</th>\n",
       "      <td>12/4/2016</td>\n",
       "      <td>NaN</td>\n",
       "      <td>3</td>\n",
       "      <td>1.0</td>\n",
       "      <td>2387</td>\n",
       "      <td>NaN</td>\n",
       "      <td>NaN</td>\n",
       "      <td>NaN</td>\n",
       "      <td>Win</td>\n",
       "      <td>-</td>\n",
       "      <td>...</td>\n",
       "      <td>NaN</td>\n",
       "      <td>NaN</td>\n",
       "      <td>NaN</td>\n",
       "      <td>NaN</td>\n",
       "      <td>NaN</td>\n",
       "      <td>NaN</td>\n",
       "      <td>NaN</td>\n",
       "      <td>NaN</td>\n",
       "      <td>NaN</td>\n",
       "      <td>NaN</td>\n",
       "    </tr>\n",
       "    <tr>\n",
       "      <th>1</th>\n",
       "      <td>12/4/2016</td>\n",
       "      <td>NaN</td>\n",
       "      <td>3</td>\n",
       "      <td>2.0</td>\n",
       "      <td>2387</td>\n",
       "      <td>2367</td>\n",
       "      <td>-20</td>\n",
       "      <td>NaN</td>\n",
       "      <td>Loss</td>\n",
       "      <td>2617</td>\n",
       "      <td>...</td>\n",
       "      <td>NaN</td>\n",
       "      <td>NaN</td>\n",
       "      <td>NaN</td>\n",
       "      <td>NaN</td>\n",
       "      <td>NaN</td>\n",
       "      <td>NaN</td>\n",
       "      <td>NaN</td>\n",
       "      <td>NaN</td>\n",
       "      <td>NaN</td>\n",
       "      <td>NaN</td>\n",
       "    </tr>\n",
       "    <tr>\n",
       "      <th>2</th>\n",
       "      <td>12/4/2016</td>\n",
       "      <td>NaN</td>\n",
       "      <td>3</td>\n",
       "      <td>2.0</td>\n",
       "      <td>NaN</td>\n",
       "      <td>NaN</td>\n",
       "      <td>NaN</td>\n",
       "      <td>NaN</td>\n",
       "      <td>Loss</td>\n",
       "      <td>2617</td>\n",
       "      <td>...</td>\n",
       "      <td>NaN</td>\n",
       "      <td>NaN</td>\n",
       "      <td>NaN</td>\n",
       "      <td>NaN</td>\n",
       "      <td>NaN</td>\n",
       "      <td>NaN</td>\n",
       "      <td>NaN</td>\n",
       "      <td>NaN</td>\n",
       "      <td>NaN</td>\n",
       "      <td>NaN</td>\n",
       "    </tr>\n",
       "    <tr>\n",
       "      <th>3</th>\n",
       "      <td>12/4/2016</td>\n",
       "      <td>NaN</td>\n",
       "      <td>3</td>\n",
       "      <td>3.0</td>\n",
       "      <td>2367</td>\n",
       "      <td>2367</td>\n",
       "      <td>0</td>\n",
       "      <td>NaN</td>\n",
       "      <td>-</td>\n",
       "      <td>2680</td>\n",
       "      <td>...</td>\n",
       "      <td>NaN</td>\n",
       "      <td>NaN</td>\n",
       "      <td>NaN</td>\n",
       "      <td>NaN</td>\n",
       "      <td>NaN</td>\n",
       "      <td>NaN</td>\n",
       "      <td>NaN</td>\n",
       "      <td>NaN</td>\n",
       "      <td>NaN</td>\n",
       "      <td>NaN</td>\n",
       "    </tr>\n",
       "    <tr>\n",
       "      <th>4</th>\n",
       "      <td>12/15/2016</td>\n",
       "      <td>NaN</td>\n",
       "      <td>3</td>\n",
       "      <td>4.0</td>\n",
       "      <td>2367</td>\n",
       "      <td>2367</td>\n",
       "      <td>0</td>\n",
       "      <td>NaN</td>\n",
       "      <td>-</td>\n",
       "      <td>-</td>\n",
       "      <td>...</td>\n",
       "      <td>NaN</td>\n",
       "      <td>NaN</td>\n",
       "      <td>NaN</td>\n",
       "      <td>NaN</td>\n",
       "      <td>NaN</td>\n",
       "      <td>NaN</td>\n",
       "      <td>NaN</td>\n",
       "      <td>NaN</td>\n",
       "      <td>NaN</td>\n",
       "      <td>NaN</td>\n",
       "    </tr>\n",
       "  </tbody>\n",
       "</table>\n",
       "<p>5 rows × 50 columns</p>\n",
       "</div>"
      ],
      "text/plain": [
       "         date time  season  game_id sr_start sr_finish sr_delta streak_number  \\\n",
       "0   12/4/2016  NaN       3      1.0     2387       NaN      NaN           NaN   \n",
       "1   12/4/2016  NaN       3      2.0     2387      2367      -20           NaN   \n",
       "2   12/4/2016  NaN       3      2.0      NaN       NaN      NaN           NaN   \n",
       "3   12/4/2016  NaN       3      3.0     2367      2367        0           NaN   \n",
       "4  12/15/2016  NaN       3      4.0     2367      2367        0           NaN   \n",
       "\n",
       "  result my_team_sr  ... healing deaths weapon_accuracy offensive_assists  \\\n",
       "0    Win          -  ...     NaN    NaN             NaN               NaN   \n",
       "1   Loss       2617  ...     NaN    NaN             NaN               NaN   \n",
       "2   Loss       2617  ...     NaN    NaN             NaN               NaN   \n",
       "3      -       2680  ...     NaN    NaN             NaN               NaN   \n",
       "4      -          -  ...     NaN    NaN             NaN               NaN   \n",
       "\n",
       "  defensive_assists scoped Unnamed: 46 Unnamed: 47 Unnamed: 48 Unnamed: 49  \n",
       "0               NaN    NaN         NaN         NaN         NaN         NaN  \n",
       "1               NaN    NaN         NaN         NaN         NaN         NaN  \n",
       "2               NaN    NaN         NaN         NaN         NaN         NaN  \n",
       "3               NaN    NaN         NaN         NaN         NaN         NaN  \n",
       "4               NaN    NaN         NaN         NaN         NaN         NaN  \n",
       "\n",
       "[5 rows x 50 columns]"
      ]
     },
     "execution_count": 3,
     "metadata": {},
     "output_type": "execute_result"
    }
   ],
   "source": [
    "df.head()"
   ]
  },
  {
   "cell_type": "markdown",
   "metadata": {},
   "source": [
    "Check datatypes"
   ]
  },
  {
   "cell_type": "code",
   "execution_count": 4,
   "metadata": {},
   "outputs": [
    {
     "data": {
      "text/plain": [
       "date                        object\n",
       "time                        object\n",
       "season                       int64\n",
       "game_id                    float64\n",
       "sr_start                    object\n",
       "sr_finish                   object\n",
       "sr_delta                    object\n",
       "streak_number               object\n",
       "result                      object\n",
       "my_team_sr                  object\n",
       "enemy_team_sr               object\n",
       "team_sr_delta               object\n",
       "my_team_1                   object\n",
       "my_team_2                   object\n",
       "my_team_3                   object\n",
       "my_team_4                   object\n",
       "my_team_5                   object\n",
       "my_team_6                   object\n",
       "enemy_team_1                object\n",
       "enemy_team_2                object\n",
       "enemy_team_3                object\n",
       "enemy_team_4                object\n",
       "enemy_team_5                object\n",
       "enemy_team_6                object\n",
       "map                         object\n",
       "round                       object\n",
       "capscore                    object\n",
       "score_distance              object\n",
       "time_left                   object\n",
       "team_role                   object\n",
       "match_length                object\n",
       "charcter_1                  object\n",
       "character_2                 object\n",
       "character_3                 object\n",
       "communication               object\n",
       "note                        object\n",
       "psychological_condition     object\n",
       "eliminations                object\n",
       "objective_kills            float64\n",
       "damage                      object\n",
       "healing                    float64\n",
       "deaths                     float64\n",
       "weapon_accuracy            float64\n",
       "offensive_assists          float64\n",
       "defensive_assists          float64\n",
       "scoped                     float64\n",
       "Unnamed: 46                float64\n",
       "Unnamed: 47                float64\n",
       "Unnamed: 48                float64\n",
       "Unnamed: 49                float64\n",
       "dtype: object"
      ]
     },
     "execution_count": 4,
     "metadata": {},
     "output_type": "execute_result"
    }
   ],
   "source": [
    "df.dtypes"
   ]
  },
  {
   "cell_type": "markdown",
   "metadata": {},
   "source": [
    "Check for null values"
   ]
  },
  {
   "cell_type": "code",
   "execution_count": 5,
   "metadata": {},
   "outputs": [
    {
     "data": {
      "text/html": [
       "<div>\n",
       "<style scoped>\n",
       "    .dataframe tbody tr th:only-of-type {\n",
       "        vertical-align: middle;\n",
       "    }\n",
       "\n",
       "    .dataframe tbody tr th {\n",
       "        vertical-align: top;\n",
       "    }\n",
       "\n",
       "    .dataframe thead th {\n",
       "        text-align: right;\n",
       "    }\n",
       "</style>\n",
       "<table border=\"1\" class=\"dataframe\">\n",
       "  <thead>\n",
       "    <tr style=\"text-align: right;\">\n",
       "      <th></th>\n",
       "      <th>date</th>\n",
       "      <th>time</th>\n",
       "      <th>season</th>\n",
       "      <th>game_id</th>\n",
       "      <th>sr_start</th>\n",
       "      <th>sr_finish</th>\n",
       "      <th>sr_delta</th>\n",
       "      <th>streak_number</th>\n",
       "      <th>result</th>\n",
       "      <th>my_team_sr</th>\n",
       "      <th>...</th>\n",
       "      <th>healing</th>\n",
       "      <th>deaths</th>\n",
       "      <th>weapon_accuracy</th>\n",
       "      <th>offensive_assists</th>\n",
       "      <th>defensive_assists</th>\n",
       "      <th>scoped</th>\n",
       "      <th>Unnamed: 46</th>\n",
       "      <th>Unnamed: 47</th>\n",
       "      <th>Unnamed: 48</th>\n",
       "      <th>Unnamed: 49</th>\n",
       "    </tr>\n",
       "  </thead>\n",
       "  <tbody>\n",
       "    <tr>\n",
       "      <th>0</th>\n",
       "      <td>False</td>\n",
       "      <td>True</td>\n",
       "      <td>False</td>\n",
       "      <td>False</td>\n",
       "      <td>False</td>\n",
       "      <td>True</td>\n",
       "      <td>True</td>\n",
       "      <td>True</td>\n",
       "      <td>False</td>\n",
       "      <td>False</td>\n",
       "      <td>...</td>\n",
       "      <td>True</td>\n",
       "      <td>True</td>\n",
       "      <td>True</td>\n",
       "      <td>True</td>\n",
       "      <td>True</td>\n",
       "      <td>True</td>\n",
       "      <td>True</td>\n",
       "      <td>True</td>\n",
       "      <td>True</td>\n",
       "      <td>True</td>\n",
       "    </tr>\n",
       "    <tr>\n",
       "      <th>1</th>\n",
       "      <td>False</td>\n",
       "      <td>True</td>\n",
       "      <td>False</td>\n",
       "      <td>False</td>\n",
       "      <td>False</td>\n",
       "      <td>False</td>\n",
       "      <td>False</td>\n",
       "      <td>True</td>\n",
       "      <td>False</td>\n",
       "      <td>False</td>\n",
       "      <td>...</td>\n",
       "      <td>True</td>\n",
       "      <td>True</td>\n",
       "      <td>True</td>\n",
       "      <td>True</td>\n",
       "      <td>True</td>\n",
       "      <td>True</td>\n",
       "      <td>True</td>\n",
       "      <td>True</td>\n",
       "      <td>True</td>\n",
       "      <td>True</td>\n",
       "    </tr>\n",
       "    <tr>\n",
       "      <th>2</th>\n",
       "      <td>False</td>\n",
       "      <td>True</td>\n",
       "      <td>False</td>\n",
       "      <td>False</td>\n",
       "      <td>True</td>\n",
       "      <td>True</td>\n",
       "      <td>True</td>\n",
       "      <td>True</td>\n",
       "      <td>False</td>\n",
       "      <td>False</td>\n",
       "      <td>...</td>\n",
       "      <td>True</td>\n",
       "      <td>True</td>\n",
       "      <td>True</td>\n",
       "      <td>True</td>\n",
       "      <td>True</td>\n",
       "      <td>True</td>\n",
       "      <td>True</td>\n",
       "      <td>True</td>\n",
       "      <td>True</td>\n",
       "      <td>True</td>\n",
       "    </tr>\n",
       "    <tr>\n",
       "      <th>3</th>\n",
       "      <td>False</td>\n",
       "      <td>True</td>\n",
       "      <td>False</td>\n",
       "      <td>False</td>\n",
       "      <td>False</td>\n",
       "      <td>False</td>\n",
       "      <td>False</td>\n",
       "      <td>True</td>\n",
       "      <td>False</td>\n",
       "      <td>False</td>\n",
       "      <td>...</td>\n",
       "      <td>True</td>\n",
       "      <td>True</td>\n",
       "      <td>True</td>\n",
       "      <td>True</td>\n",
       "      <td>True</td>\n",
       "      <td>True</td>\n",
       "      <td>True</td>\n",
       "      <td>True</td>\n",
       "      <td>True</td>\n",
       "      <td>True</td>\n",
       "    </tr>\n",
       "    <tr>\n",
       "      <th>4</th>\n",
       "      <td>False</td>\n",
       "      <td>True</td>\n",
       "      <td>False</td>\n",
       "      <td>False</td>\n",
       "      <td>False</td>\n",
       "      <td>False</td>\n",
       "      <td>False</td>\n",
       "      <td>True</td>\n",
       "      <td>False</td>\n",
       "      <td>False</td>\n",
       "      <td>...</td>\n",
       "      <td>True</td>\n",
       "      <td>True</td>\n",
       "      <td>True</td>\n",
       "      <td>True</td>\n",
       "      <td>True</td>\n",
       "      <td>True</td>\n",
       "      <td>True</td>\n",
       "      <td>True</td>\n",
       "      <td>True</td>\n",
       "      <td>True</td>\n",
       "    </tr>\n",
       "    <tr>\n",
       "      <th>...</th>\n",
       "      <td>...</td>\n",
       "      <td>...</td>\n",
       "      <td>...</td>\n",
       "      <td>...</td>\n",
       "      <td>...</td>\n",
       "      <td>...</td>\n",
       "      <td>...</td>\n",
       "      <td>...</td>\n",
       "      <td>...</td>\n",
       "      <td>...</td>\n",
       "      <td>...</td>\n",
       "      <td>...</td>\n",
       "      <td>...</td>\n",
       "      <td>...</td>\n",
       "      <td>...</td>\n",
       "      <td>...</td>\n",
       "      <td>...</td>\n",
       "      <td>...</td>\n",
       "      <td>...</td>\n",
       "      <td>...</td>\n",
       "      <td>...</td>\n",
       "    </tr>\n",
       "    <tr>\n",
       "      <th>3294</th>\n",
       "      <td>False</td>\n",
       "      <td>False</td>\n",
       "      <td>False</td>\n",
       "      <td>False</td>\n",
       "      <td>False</td>\n",
       "      <td>False</td>\n",
       "      <td>False</td>\n",
       "      <td>False</td>\n",
       "      <td>False</td>\n",
       "      <td>False</td>\n",
       "      <td>...</td>\n",
       "      <td>True</td>\n",
       "      <td>True</td>\n",
       "      <td>True</td>\n",
       "      <td>True</td>\n",
       "      <td>True</td>\n",
       "      <td>True</td>\n",
       "      <td>True</td>\n",
       "      <td>True</td>\n",
       "      <td>True</td>\n",
       "      <td>True</td>\n",
       "    </tr>\n",
       "    <tr>\n",
       "      <th>3295</th>\n",
       "      <td>False</td>\n",
       "      <td>False</td>\n",
       "      <td>False</td>\n",
       "      <td>False</td>\n",
       "      <td>True</td>\n",
       "      <td>True</td>\n",
       "      <td>True</td>\n",
       "      <td>False</td>\n",
       "      <td>False</td>\n",
       "      <td>False</td>\n",
       "      <td>...</td>\n",
       "      <td>True</td>\n",
       "      <td>True</td>\n",
       "      <td>True</td>\n",
       "      <td>True</td>\n",
       "      <td>True</td>\n",
       "      <td>True</td>\n",
       "      <td>True</td>\n",
       "      <td>True</td>\n",
       "      <td>True</td>\n",
       "      <td>True</td>\n",
       "    </tr>\n",
       "    <tr>\n",
       "      <th>3296</th>\n",
       "      <td>False</td>\n",
       "      <td>False</td>\n",
       "      <td>False</td>\n",
       "      <td>False</td>\n",
       "      <td>False</td>\n",
       "      <td>False</td>\n",
       "      <td>False</td>\n",
       "      <td>False</td>\n",
       "      <td>False</td>\n",
       "      <td>False</td>\n",
       "      <td>...</td>\n",
       "      <td>True</td>\n",
       "      <td>True</td>\n",
       "      <td>True</td>\n",
       "      <td>True</td>\n",
       "      <td>True</td>\n",
       "      <td>True</td>\n",
       "      <td>True</td>\n",
       "      <td>True</td>\n",
       "      <td>True</td>\n",
       "      <td>True</td>\n",
       "    </tr>\n",
       "    <tr>\n",
       "      <th>3297</th>\n",
       "      <td>False</td>\n",
       "      <td>False</td>\n",
       "      <td>False</td>\n",
       "      <td>False</td>\n",
       "      <td>True</td>\n",
       "      <td>True</td>\n",
       "      <td>True</td>\n",
       "      <td>False</td>\n",
       "      <td>False</td>\n",
       "      <td>False</td>\n",
       "      <td>...</td>\n",
       "      <td>True</td>\n",
       "      <td>True</td>\n",
       "      <td>True</td>\n",
       "      <td>True</td>\n",
       "      <td>True</td>\n",
       "      <td>True</td>\n",
       "      <td>True</td>\n",
       "      <td>True</td>\n",
       "      <td>True</td>\n",
       "      <td>True</td>\n",
       "    </tr>\n",
       "    <tr>\n",
       "      <th>3298</th>\n",
       "      <td>False</td>\n",
       "      <td>False</td>\n",
       "      <td>False</td>\n",
       "      <td>False</td>\n",
       "      <td>False</td>\n",
       "      <td>False</td>\n",
       "      <td>False</td>\n",
       "      <td>False</td>\n",
       "      <td>False</td>\n",
       "      <td>False</td>\n",
       "      <td>...</td>\n",
       "      <td>True</td>\n",
       "      <td>True</td>\n",
       "      <td>True</td>\n",
       "      <td>True</td>\n",
       "      <td>True</td>\n",
       "      <td>True</td>\n",
       "      <td>True</td>\n",
       "      <td>True</td>\n",
       "      <td>True</td>\n",
       "      <td>True</td>\n",
       "    </tr>\n",
       "  </tbody>\n",
       "</table>\n",
       "<p>3299 rows × 50 columns</p>\n",
       "</div>"
      ],
      "text/plain": [
       "       date   time  season  game_id  sr_start  sr_finish  sr_delta  \\\n",
       "0     False   True   False    False     False       True      True   \n",
       "1     False   True   False    False     False      False     False   \n",
       "2     False   True   False    False      True       True      True   \n",
       "3     False   True   False    False     False      False     False   \n",
       "4     False   True   False    False     False      False     False   \n",
       "...     ...    ...     ...      ...       ...        ...       ...   \n",
       "3294  False  False   False    False     False      False     False   \n",
       "3295  False  False   False    False      True       True      True   \n",
       "3296  False  False   False    False     False      False     False   \n",
       "3297  False  False   False    False      True       True      True   \n",
       "3298  False  False   False    False     False      False     False   \n",
       "\n",
       "      streak_number  result  my_team_sr  ...  healing  deaths  \\\n",
       "0              True   False       False  ...     True    True   \n",
       "1              True   False       False  ...     True    True   \n",
       "2              True   False       False  ...     True    True   \n",
       "3              True   False       False  ...     True    True   \n",
       "4              True   False       False  ...     True    True   \n",
       "...             ...     ...         ...  ...      ...     ...   \n",
       "3294          False   False       False  ...     True    True   \n",
       "3295          False   False       False  ...     True    True   \n",
       "3296          False   False       False  ...     True    True   \n",
       "3297          False   False       False  ...     True    True   \n",
       "3298          False   False       False  ...     True    True   \n",
       "\n",
       "      weapon_accuracy  offensive_assists  defensive_assists  scoped  \\\n",
       "0                True               True               True    True   \n",
       "1                True               True               True    True   \n",
       "2                True               True               True    True   \n",
       "3                True               True               True    True   \n",
       "4                True               True               True    True   \n",
       "...               ...                ...                ...     ...   \n",
       "3294             True               True               True    True   \n",
       "3295             True               True               True    True   \n",
       "3296             True               True               True    True   \n",
       "3297             True               True               True    True   \n",
       "3298             True               True               True    True   \n",
       "\n",
       "      Unnamed: 46  Unnamed: 47  Unnamed: 48  Unnamed: 49  \n",
       "0            True         True         True         True  \n",
       "1            True         True         True         True  \n",
       "2            True         True         True         True  \n",
       "3            True         True         True         True  \n",
       "4            True         True         True         True  \n",
       "...           ...          ...          ...          ...  \n",
       "3294         True         True         True         True  \n",
       "3295         True         True         True         True  \n",
       "3296         True         True         True         True  \n",
       "3297         True         True         True         True  \n",
       "3298         True         True         True         True  \n",
       "\n",
       "[3299 rows x 50 columns]"
      ]
     },
     "execution_count": 5,
     "metadata": {},
     "output_type": "execute_result"
    }
   ],
   "source": [
    "df.isna()"
   ]
  },
  {
   "cell_type": "code",
   "execution_count": 6,
   "metadata": {},
   "outputs": [
    {
     "data": {
      "text/plain": [
       "date                          0\n",
       "time                       1794\n",
       "season                        0\n",
       "game_id                     732\n",
       "sr_start                   1625\n",
       "sr_finish                  1627\n",
       "sr_delta                   1627\n",
       "streak_number              1045\n",
       "result                        0\n",
       "my_team_sr                   44\n",
       "enemy_team_sr                44\n",
       "team_sr_delta                48\n",
       "my_team_1                     4\n",
       "my_team_2                    10\n",
       "my_team_3                    12\n",
       "my_team_4                    12\n",
       "my_team_5                    16\n",
       "my_team_6                    14\n",
       "enemy_team_1                 29\n",
       "enemy_team_2                 26\n",
       "enemy_team_3                 25\n",
       "enemy_team_4                 25\n",
       "enemy_team_5                 25\n",
       "enemy_team_6                 25\n",
       "map                           0\n",
       "round                         6\n",
       "capscore                     23\n",
       "score_distance             1517\n",
       "time_left                   518\n",
       "team_role                     5\n",
       "match_length                107\n",
       "charcter_1                   60\n",
       "character_2                2784\n",
       "character_3                3236\n",
       "communication              1999\n",
       "note                       2801\n",
       "psychological_condition    2024\n",
       "eliminations               3027\n",
       "objective_kills            3028\n",
       "damage                     3028\n",
       "healing                    3030\n",
       "deaths                     3030\n",
       "weapon_accuracy            3034\n",
       "offensive_assists          3150\n",
       "defensive_assists          3190\n",
       "scoped                     3143\n",
       "Unnamed: 46                3108\n",
       "Unnamed: 47                3258\n",
       "Unnamed: 48                3298\n",
       "Unnamed: 49                3298\n",
       "dtype: int64"
      ]
     },
     "execution_count": 6,
     "metadata": {},
     "output_type": "execute_result"
    }
   ],
   "source": [
    "df.isna().sum()"
   ]
  },
  {
   "cell_type": "code",
   "execution_count": 7,
   "metadata": {},
   "outputs": [
    {
     "data": {
      "text/plain": [
       "(3299, 50)"
      ]
     },
     "execution_count": 7,
     "metadata": {},
     "output_type": "execute_result"
    }
   ],
   "source": [
    "df.shape"
   ]
  },
  {
   "cell_type": "markdown",
   "metadata": {},
   "source": [
    "Check column names"
   ]
  },
  {
   "cell_type": "code",
   "execution_count": 8,
   "metadata": {},
   "outputs": [
    {
     "data": {
      "text/plain": [
       "Index(['date', 'time', 'season', 'game_id', 'sr_start', 'sr_finish',\n",
       "       'sr_delta', 'streak_number', 'result', 'my_team_sr', 'enemy_team_sr',\n",
       "       'team_sr_delta', 'my_team_1', 'my_team_2', 'my_team_3', 'my_team_4',\n",
       "       'my_team_5', 'my_team_6', 'enemy_team_1', 'enemy_team_2',\n",
       "       'enemy_team_3', 'enemy_team_4', 'enemy_team_5', 'enemy_team_6', 'map',\n",
       "       'round', 'capscore', 'score_distance', 'time_left', 'team_role',\n",
       "       'match_length', 'charcter_1', 'character_2', 'character_3',\n",
       "       'communication', 'note', 'psychological_condition', 'eliminations',\n",
       "       'objective_kills', 'damage', 'healing', 'deaths', 'weapon_accuracy',\n",
       "       'offensive_assists', 'defensive_assists', 'scoped', 'Unnamed: 46',\n",
       "       'Unnamed: 47', 'Unnamed: 48', 'Unnamed: 49'],\n",
       "      dtype='object')"
      ]
     },
     "execution_count": 8,
     "metadata": {},
     "output_type": "execute_result"
    }
   ],
   "source": [
    "df.columns"
   ]
  },
  {
   "cell_type": "code",
   "execution_count": 9,
   "metadata": {},
   "outputs": [
    {
     "data": {
      "text/plain": [
       "L       1050\n",
       "W       1032\n",
       "Loss     467\n",
       "Win      453\n",
       "Draw     261\n",
       "-         33\n",
       "l          2\n",
       "DC         1\n",
       "Name: result, dtype: int64"
      ]
     },
     "execution_count": 9,
     "metadata": {},
     "output_type": "execute_result"
    }
   ],
   "source": [
    "df.result.value_counts()"
   ]
  },
  {
   "cell_type": "markdown",
   "metadata": {},
   "source": [
    "Plot null values"
   ]
  },
  {
   "cell_type": "code",
   "execution_count": 10,
   "metadata": {},
   "outputs": [
    {
     "data": {
      "application/javascript": [
       "\n",
       "        if (window._pyforest_update_imports_cell) { window._pyforest_update_imports_cell('import pandas as pd\\nimport seaborn as sns'); }\n",
       "    "
      ],
      "text/plain": [
       "<IPython.core.display.Javascript object>"
      ]
     },
     "metadata": {},
     "output_type": "display_data"
    },
    {
     "data": {
      "application/javascript": [
       "\n",
       "        if (window._pyforest_update_imports_cell) { window._pyforest_update_imports_cell('import pandas as pd\\nimport seaborn as sns\\nimport matplotlib.pyplot as plt'); }\n",
       "    "
      ],
      "text/plain": [
       "<IPython.core.display.Javascript object>"
      ]
     },
     "metadata": {},
     "output_type": "display_data"
    },
    {
     "data": {
      "application/javascript": [
       "\n",
       "        if (window._pyforest_update_imports_cell) { window._pyforest_update_imports_cell('import pandas as pd\\nimport seaborn as sns\\nimport matplotlib.pyplot as plt'); }\n",
       "    "
      ],
      "text/plain": [
       "<IPython.core.display.Javascript object>"
      ]
     },
     "metadata": {},
     "output_type": "display_data"
    },
    {
     "data": {
      "image/png": "[encoded data removed]",
      "text/plain": [
       "<Figure size 432x288 with 1 Axes>"
      ]
     },
     "metadata": {
      "needs_background": "light"
     },
     "output_type": "display_data"
    }
   ],
   "source": [
    "sns.heatmap(df.isnull(),yticklabels = False, cbar = False,cmap = 'tab20c_r')\n",
    "plt.title('Missing Data: Overwatch')\n",
    "plt.show()"
   ]
  },
  {
   "cell_type": "code",
   "execution_count": 11,
   "metadata": {},
   "outputs": [
    {
     "data": {
      "text/plain": [
       "date                        0.000000\n",
       "time                       54.380115\n",
       "season                      0.000000\n",
       "game_id                    22.188542\n",
       "sr_start                   49.257351\n",
       "sr_finish                  49.317975\n",
       "sr_delta                   49.317975\n",
       "streak_number              31.676266\n",
       "result                      0.000000\n",
       "my_team_sr                  1.333737\n",
       "enemy_team_sr               1.333737\n",
       "team_sr_delta               1.454986\n",
       "my_team_1                   0.121249\n",
       "my_team_2                   0.303122\n",
       "my_team_3                   0.363747\n",
       "my_team_4                   0.363747\n",
       "my_team_5                   0.484995\n",
       "my_team_6                   0.424371\n",
       "enemy_team_1                0.879054\n",
       "enemy_team_2                0.788118\n",
       "enemy_team_3                0.757805\n",
       "enemy_team_4                0.757805\n",
       "enemy_team_5                0.757805\n",
       "enemy_team_6                0.757805\n",
       "map                         0.000000\n",
       "round                       0.181873\n",
       "capscore                    0.697181\n",
       "score_distance             45.983631\n",
       "time_left                  15.701728\n",
       "team_role                   0.151561\n",
       "match_length                3.243407\n",
       "charcter_1                  1.818733\n",
       "character_2                84.389209\n",
       "character_3                98.090330\n",
       "communication              60.594119\n",
       "note                       84.904517\n",
       "psychological_condition    61.351925\n",
       "eliminations               91.755077\n",
       "objective_kills            91.785390\n",
       "damage                     91.785390\n",
       "healing                    91.846014\n",
       "deaths                     91.846014\n",
       "weapon_accuracy            91.967263\n",
       "offensive_assists          95.483480\n",
       "defensive_assists          96.695968\n",
       "scoped                     95.271294\n",
       "Unnamed: 46                94.210367\n",
       "Unnamed: 47                98.757199\n",
       "Unnamed: 48                99.969688\n",
       "Unnamed: 49                99.969688\n",
       "dtype: float64"
      ]
     },
     "execution_count": 11,
     "metadata": {},
     "output_type": "execute_result"
    }
   ],
   "source": [
    "rows = df.shape[0]\n",
    "null_total = df.isnull().sum()\n",
    "missing_percent = (null_total/rows)*100\n",
    "missing_percent"
   ]
  },
  {
   "cell_type": "code",
   "execution_count": 12,
   "metadata": {},
   "outputs": [
    {
     "data": {
      "application/javascript": [
       "\n",
       "        if (window._pyforest_update_imports_cell) { window._pyforest_update_imports_cell('import pandas as pd\\nimport seaborn as sns\\nimport matplotlib.pyplot as plt'); }\n",
       "    "
      ],
      "text/plain": [
       "<IPython.core.display.Javascript object>"
      ]
     },
     "metadata": {},
     "output_type": "display_data"
    },
    {
     "data": {
      "text/html": [
       "<div>\n",
       "<style scoped>\n",
       "    .dataframe tbody tr th:only-of-type {\n",
       "        vertical-align: middle;\n",
       "    }\n",
       "\n",
       "    .dataframe tbody tr th {\n",
       "        vertical-align: top;\n",
       "    }\n",
       "\n",
       "    .dataframe thead th {\n",
       "        text-align: right;\n",
       "    }\n",
       "</style>\n",
       "<table border=\"1\" class=\"dataframe\">\n",
       "  <thead>\n",
       "    <tr style=\"text-align: right;\">\n",
       "      <th></th>\n",
       "      <th>missing_percent</th>\n",
       "    </tr>\n",
       "  </thead>\n",
       "  <tbody>\n",
       "    <tr>\n",
       "      <th>date</th>\n",
       "      <td>0.000000</td>\n",
       "    </tr>\n",
       "    <tr>\n",
       "      <th>time</th>\n",
       "      <td>54.380115</td>\n",
       "    </tr>\n",
       "    <tr>\n",
       "      <th>season</th>\n",
       "      <td>0.000000</td>\n",
       "    </tr>\n",
       "    <tr>\n",
       "      <th>game_id</th>\n",
       "      <td>22.188542</td>\n",
       "    </tr>\n",
       "    <tr>\n",
       "      <th>sr_start</th>\n",
       "      <td>49.257351</td>\n",
       "    </tr>\n",
       "    <tr>\n",
       "      <th>sr_finish</th>\n",
       "      <td>49.317975</td>\n",
       "    </tr>\n",
       "    <tr>\n",
       "      <th>sr_delta</th>\n",
       "      <td>49.317975</td>\n",
       "    </tr>\n",
       "    <tr>\n",
       "      <th>streak_number</th>\n",
       "      <td>31.676266</td>\n",
       "    </tr>\n",
       "    <tr>\n",
       "      <th>result</th>\n",
       "      <td>0.000000</td>\n",
       "    </tr>\n",
       "    <tr>\n",
       "      <th>my_team_sr</th>\n",
       "      <td>1.333737</td>\n",
       "    </tr>\n",
       "    <tr>\n",
       "      <th>enemy_team_sr</th>\n",
       "      <td>1.333737</td>\n",
       "    </tr>\n",
       "    <tr>\n",
       "      <th>team_sr_delta</th>\n",
       "      <td>1.454986</td>\n",
       "    </tr>\n",
       "    <tr>\n",
       "      <th>my_team_1</th>\n",
       "      <td>0.121249</td>\n",
       "    </tr>\n",
       "    <tr>\n",
       "      <th>my_team_2</th>\n",
       "      <td>0.303122</td>\n",
       "    </tr>\n",
       "    <tr>\n",
       "      <th>my_team_3</th>\n",
       "      <td>0.363747</td>\n",
       "    </tr>\n",
       "    <tr>\n",
       "      <th>my_team_4</th>\n",
       "      <td>0.363747</td>\n",
       "    </tr>\n",
       "    <tr>\n",
       "      <th>my_team_5</th>\n",
       "      <td>0.484995</td>\n",
       "    </tr>\n",
       "    <tr>\n",
       "      <th>my_team_6</th>\n",
       "      <td>0.424371</td>\n",
       "    </tr>\n",
       "    <tr>\n",
       "      <th>enemy_team_1</th>\n",
       "      <td>0.879054</td>\n",
       "    </tr>\n",
       "    <tr>\n",
       "      <th>enemy_team_2</th>\n",
       "      <td>0.788118</td>\n",
       "    </tr>\n",
       "    <tr>\n",
       "      <th>enemy_team_3</th>\n",
       "      <td>0.757805</td>\n",
       "    </tr>\n",
       "    <tr>\n",
       "      <th>enemy_team_4</th>\n",
       "      <td>0.757805</td>\n",
       "    </tr>\n",
       "    <tr>\n",
       "      <th>enemy_team_5</th>\n",
       "      <td>0.757805</td>\n",
       "    </tr>\n",
       "    <tr>\n",
       "      <th>enemy_team_6</th>\n",
       "      <td>0.757805</td>\n",
       "    </tr>\n",
       "    <tr>\n",
       "      <th>map</th>\n",
       "      <td>0.000000</td>\n",
       "    </tr>\n",
       "    <tr>\n",
       "      <th>round</th>\n",
       "      <td>0.181873</td>\n",
       "    </tr>\n",
       "    <tr>\n",
       "      <th>capscore</th>\n",
       "      <td>0.697181</td>\n",
       "    </tr>\n",
       "    <tr>\n",
       "      <th>score_distance</th>\n",
       "      <td>45.983631</td>\n",
       "    </tr>\n",
       "    <tr>\n",
       "      <th>time_left</th>\n",
       "      <td>15.701728</td>\n",
       "    </tr>\n",
       "    <tr>\n",
       "      <th>team_role</th>\n",
       "      <td>0.151561</td>\n",
       "    </tr>\n",
       "    <tr>\n",
       "      <th>match_length</th>\n",
       "      <td>3.243407</td>\n",
       "    </tr>\n",
       "    <tr>\n",
       "      <th>charcter_1</th>\n",
       "      <td>1.818733</td>\n",
       "    </tr>\n",
       "    <tr>\n",
       "      <th>character_2</th>\n",
       "      <td>84.389209</td>\n",
       "    </tr>\n",
       "    <tr>\n",
       "      <th>character_3</th>\n",
       "      <td>98.090330</td>\n",
       "    </tr>\n",
       "    <tr>\n",
       "      <th>communication</th>\n",
       "      <td>60.594119</td>\n",
       "    </tr>\n",
       "    <tr>\n",
       "      <th>note</th>\n",
       "      <td>84.904517</td>\n",
       "    </tr>\n",
       "    <tr>\n",
       "      <th>psychological_condition</th>\n",
       "      <td>61.351925</td>\n",
       "    </tr>\n",
       "    <tr>\n",
       "      <th>eliminations</th>\n",
       "      <td>91.755077</td>\n",
       "    </tr>\n",
       "    <tr>\n",
       "      <th>objective_kills</th>\n",
       "      <td>91.785390</td>\n",
       "    </tr>\n",
       "    <tr>\n",
       "      <th>damage</th>\n",
       "      <td>91.785390</td>\n",
       "    </tr>\n",
       "    <tr>\n",
       "      <th>healing</th>\n",
       "      <td>91.846014</td>\n",
       "    </tr>\n",
       "    <tr>\n",
       "      <th>deaths</th>\n",
       "      <td>91.846014</td>\n",
       "    </tr>\n",
       "    <tr>\n",
       "      <th>weapon_accuracy</th>\n",
       "      <td>91.967263</td>\n",
       "    </tr>\n",
       "    <tr>\n",
       "      <th>offensive_assists</th>\n",
       "      <td>95.483480</td>\n",
       "    </tr>\n",
       "    <tr>\n",
       "      <th>defensive_assists</th>\n",
       "      <td>96.695968</td>\n",
       "    </tr>\n",
       "    <tr>\n",
       "      <th>scoped</th>\n",
       "      <td>95.271294</td>\n",
       "    </tr>\n",
       "    <tr>\n",
       "      <th>Unnamed: 46</th>\n",
       "      <td>94.210367</td>\n",
       "    </tr>\n",
       "    <tr>\n",
       "      <th>Unnamed: 47</th>\n",
       "      <td>98.757199</td>\n",
       "    </tr>\n",
       "    <tr>\n",
       "      <th>Unnamed: 48</th>\n",
       "      <td>99.969688</td>\n",
       "    </tr>\n",
       "    <tr>\n",
       "      <th>Unnamed: 49</th>\n",
       "      <td>99.969688</td>\n",
       "    </tr>\n",
       "  </tbody>\n",
       "</table>\n",
       "</div>"
      ],
      "text/plain": [
       "                         missing_percent\n",
       "date                            0.000000\n",
       "time                           54.380115\n",
       "season                          0.000000\n",
       "game_id                        22.188542\n",
       "sr_start                       49.257351\n",
       "sr_finish                      49.317975\n",
       "sr_delta                       49.317975\n",
       "streak_number                  31.676266\n",
       "result                          0.000000\n",
       "my_team_sr                      1.333737\n",
       "enemy_team_sr                   1.333737\n",
       "team_sr_delta                   1.454986\n",
       "my_team_1                       0.121249\n",
       "my_team_2                       0.303122\n",
       "my_team_3                       0.363747\n",
       "my_team_4                       0.363747\n",
       "my_team_5                       0.484995\n",
       "my_team_6                       0.424371\n",
       "enemy_team_1                    0.879054\n",
       "enemy_team_2                    0.788118\n",
       "enemy_team_3                    0.757805\n",
       "enemy_team_4                    0.757805\n",
       "enemy_team_5                    0.757805\n",
       "enemy_team_6                    0.757805\n",
       "map                             0.000000\n",
       "round                           0.181873\n",
       "capscore                        0.697181\n",
       "score_distance                 45.983631\n",
       "time_left                      15.701728\n",
       "team_role                       0.151561\n",
       "match_length                    3.243407\n",
       "charcter_1                      1.818733\n",
       "character_2                    84.389209\n",
       "character_3                    98.090330\n",
       "communication                  60.594119\n",
       "note                           84.904517\n",
       "psychological_condition        61.351925\n",
       "eliminations                   91.755077\n",
       "objective_kills                91.785390\n",
       "damage                         91.785390\n",
       "healing                        91.846014\n",
       "deaths                         91.846014\n",
       "weapon_accuracy                91.967263\n",
       "offensive_assists              95.483480\n",
       "defensive_assists              96.695968\n",
       "scoped                         95.271294\n",
       "Unnamed: 46                    94.210367\n",
       "Unnamed: 47                    98.757199\n",
       "Unnamed: 48                    99.969688\n",
       "Unnamed: 49                    99.969688"
      ]
     },
     "execution_count": 12,
     "metadata": {},
     "output_type": "execute_result"
    }
   ],
   "source": [
    "pd.DataFrame(missing_percent ,columns = [\"missing_percent\"])"
   ]
  },
  {
   "cell_type": "code",
   "execution_count": 13,
   "metadata": {},
   "outputs": [],
   "source": [
    "df.drop(['note','eliminations','objective_kills','damage','healing','deaths','weapon_accuracy',\n",
    "      'offensive_assists','defensive_assists','scoped',\n",
    "         'Unnamed: 46','Unnamed: 47','Unnamed: 48','Unnamed: 49'],axis=1, inplace= True)"
   ]
  },
  {
   "cell_type": "code",
   "execution_count": 14,
   "metadata": {},
   "outputs": [
    {
     "data": {
      "text/plain": [
       "date                        object\n",
       "time                        object\n",
       "season                       int64\n",
       "game_id                    float64\n",
       "sr_start                    object\n",
       "sr_finish                   object\n",
       "sr_delta                    object\n",
       "streak_number               object\n",
       "result                      object\n",
       "my_team_sr                  object\n",
       "enemy_team_sr               object\n",
       "team_sr_delta               object\n",
       "my_team_1                   object\n",
       "my_team_2                   object\n",
       "my_team_3                   object\n",
       "my_team_4                   object\n",
       "my_team_5                   object\n",
       "my_team_6                   object\n",
       "enemy_team_1                object\n",
       "enemy_team_2                object\n",
       "enemy_team_3                object\n",
       "enemy_team_4                object\n",
       "enemy_team_5                object\n",
       "enemy_team_6                object\n",
       "map                         object\n",
       "round                       object\n",
       "capscore                    object\n",
       "score_distance              object\n",
       "time_left                   object\n",
       "team_role                   object\n",
       "match_length                object\n",
       "charcter_1                  object\n",
       "character_2                 object\n",
       "character_3                 object\n",
       "communication               object\n",
       "psychological_condition     object\n",
       "dtype: object"
      ]
     },
     "execution_count": 14,
     "metadata": {},
     "output_type": "execute_result"
    }
   ],
   "source": [
    "df.dtypes"
   ]
  },
  {
   "cell_type": "code",
   "execution_count": 15,
   "metadata": {},
   "outputs": [
    {
     "data": {
      "application/javascript": [
       "\n",
       "        if (window._pyforest_update_imports_cell) { window._pyforest_update_imports_cell('import pandas as pd\\nimport seaborn as sns\\nimport matplotlib.pyplot as plt'); }\n",
       "    "
      ],
      "text/plain": [
       "<IPython.core.display.Javascript object>"
      ]
     },
     "metadata": {},
     "output_type": "display_data"
    },
    {
     "data": {
      "application/javascript": [
       "\n",
       "        if (window._pyforest_update_imports_cell) { window._pyforest_update_imports_cell('import pandas as pd\\nimport seaborn as sns\\nimport matplotlib.pyplot as plt'); }\n",
       "    "
      ],
      "text/plain": [
       "<IPython.core.display.Javascript object>"
      ]
     },
     "metadata": {},
     "output_type": "display_data"
    },
    {
     "data": {
      "application/javascript": [
       "\n",
       "        if (window._pyforest_update_imports_cell) { window._pyforest_update_imports_cell('import pandas as pd\\nimport seaborn as sns\\nimport matplotlib.pyplot as plt'); }\n",
       "    "
      ],
      "text/plain": [
       "<IPython.core.display.Javascript object>"
      ]
     },
     "metadata": {},
     "output_type": "display_data"
    },
    {
     "data": {
      "image/png": "[encoded data removed]",
      "text/plain": [
       "<Figure size 432x288 with 1 Axes>"
      ]
     },
     "metadata": {
      "needs_background": "light"
     },
     "output_type": "display_data"
    }
   ],
   "source": [
    "sns.heatmap(df.isnull(),yticklabels = False, cbar = False,cmap = 'tab20c_r')\n",
    "plt.title('Missing Data: Overwatch')\n",
    "plt.show()"
   ]
  },
  {
   "cell_type": "code",
   "execution_count": 16,
   "metadata": {},
   "outputs": [],
   "source": [
    "df.drop(['character_2','character_3','psychological_condition'],axis=1, inplace= True)"
   ]
  },
  {
   "cell_type": "code",
   "execution_count": 17,
   "metadata": {},
   "outputs": [
    {
     "data": {
      "application/javascript": [
       "\n",
       "        if (window._pyforest_update_imports_cell) { window._pyforest_update_imports_cell('import pandas as pd\\nimport seaborn as sns\\nimport matplotlib.pyplot as plt'); }\n",
       "    "
      ],
      "text/plain": [
       "<IPython.core.display.Javascript object>"
      ]
     },
     "metadata": {},
     "output_type": "display_data"
    },
    {
     "data": {
      "application/javascript": [
       "\n",
       "        if (window._pyforest_update_imports_cell) { window._pyforest_update_imports_cell('import pandas as pd\\nimport seaborn as sns\\nimport matplotlib.pyplot as plt'); }\n",
       "    "
      ],
      "text/plain": [
       "<IPython.core.display.Javascript object>"
      ]
     },
     "metadata": {},
     "output_type": "display_data"
    },
    {
     "data": {
      "application/javascript": [
       "\n",
       "        if (window._pyforest_update_imports_cell) { window._pyforest_update_imports_cell('import pandas as pd\\nimport seaborn as sns\\nimport matplotlib.pyplot as plt'); }\n",
       "    "
      ],
      "text/plain": [
       "<IPython.core.display.Javascript object>"
      ]
     },
     "metadata": {},
     "output_type": "display_data"
    },
    {
     "data": {
      "image/png": "[encoded data removed]",
      "text/plain": [
       "<Figure size 432x288 with 1 Axes>"
      ]
     },
     "metadata": {
      "needs_background": "light"
     },
     "output_type": "display_data"
    }
   ],
   "source": [
    "sns.heatmap(df.isnull(),yticklabels = False, cbar = False,cmap = 'tab20c_r')\n",
    "plt.title('Missing Data: Overwatch')\n",
    "plt.show()"
   ]
  },
  {
   "cell_type": "code",
   "execution_count": 18,
   "metadata": {},
   "outputs": [
    {
     "data": {
      "text/plain": [
       "0       False\n",
       "1       False\n",
       "2        True\n",
       "3       False\n",
       "4       False\n",
       "        ...  \n",
       "3294    False\n",
       "3295     True\n",
       "3296    False\n",
       "3297     True\n",
       "3298    False\n",
       "Name: sr_start, Length: 3299, dtype: bool"
      ]
     },
     "execution_count": 18,
     "metadata": {},
     "output_type": "execute_result"
    }
   ],
   "source": [
    "df.sr_start.isna()"
   ]
  },
  {
   "cell_type": "code",
   "execution_count": 19,
   "metadata": {},
   "outputs": [],
   "source": [
    "df['sr_start'].fillna(method='ffill', inplace=True)"
   ]
  },
  {
   "cell_type": "code",
   "execution_count": 20,
   "metadata": {},
   "outputs": [
    {
     "data": {
      "text/plain": [
       "0       False\n",
       "1       False\n",
       "2       False\n",
       "3       False\n",
       "4       False\n",
       "        ...  \n",
       "3294    False\n",
       "3295    False\n",
       "3296    False\n",
       "3297    False\n",
       "3298    False\n",
       "Name: sr_start, Length: 3299, dtype: bool"
      ]
     },
     "execution_count": 20,
     "metadata": {},
     "output_type": "execute_result"
    }
   ],
   "source": [
    "df.sr_start.isna()"
   ]
  },
  {
   "cell_type": "code",
   "execution_count": 21,
   "metadata": {},
   "outputs": [
    {
     "data": {
      "text/plain": [
       "-       46\n",
       "2616    26\n",
       "2672    19\n",
       "2648    18\n",
       "2654    18\n",
       "        ..\n",
       "2353     1\n",
       "2272     1\n",
       "2801     1\n",
       "2828     1\n",
       "2834     1\n",
       "Name: sr_start, Length: 683, dtype: int64"
      ]
     },
     "execution_count": 21,
     "metadata": {},
     "output_type": "execute_result"
    }
   ],
   "source": [
    "df.sr_start.value_counts()"
   ]
  },
  {
   "cell_type": "code",
   "execution_count": 22,
   "metadata": {},
   "outputs": [
    {
     "data": {
      "text/plain": [
       "'3017'"
      ]
     },
     "execution_count": 22,
     "metadata": {},
     "output_type": "execute_result"
    }
   ],
   "source": [
    "df.sr_start.max()"
   ]
  },
  {
   "cell_type": "code",
   "execution_count": 23,
   "metadata": {},
   "outputs": [
    {
     "data": {
      "text/plain": [
       "'-'"
      ]
     },
     "execution_count": 23,
     "metadata": {},
     "output_type": "execute_result"
    }
   ],
   "source": [
    "df['sr_start'].min()"
   ]
  },
  {
   "cell_type": "code",
   "execution_count": 24,
   "metadata": {},
   "outputs": [],
   "source": [
    "df = df[df['sr_start'] != '-']"
   ]
  },
  {
   "cell_type": "code",
   "execution_count": 25,
   "metadata": {},
   "outputs": [
    {
     "data": {
      "text/plain": [
       "'1966'"
      ]
     },
     "execution_count": 25,
     "metadata": {},
     "output_type": "execute_result"
    }
   ],
   "source": [
    "df['sr_start'].min()"
   ]
  },
  {
   "cell_type": "code",
   "execution_count": 26,
   "metadata": {},
   "outputs": [
    {
     "data": {
      "text/plain": [
       "date               object\n",
       "time               object\n",
       "season              int64\n",
       "game_id           float64\n",
       "sr_start           object\n",
       "sr_finish          object\n",
       "sr_delta           object\n",
       "streak_number      object\n",
       "result             object\n",
       "my_team_sr         object\n",
       "enemy_team_sr      object\n",
       "team_sr_delta      object\n",
       "my_team_1          object\n",
       "my_team_2          object\n",
       "my_team_3          object\n",
       "my_team_4          object\n",
       "my_team_5          object\n",
       "my_team_6          object\n",
       "enemy_team_1       object\n",
       "enemy_team_2       object\n",
       "enemy_team_3       object\n",
       "enemy_team_4       object\n",
       "enemy_team_5       object\n",
       "enemy_team_6       object\n",
       "map                object\n",
       "round              object\n",
       "capscore           object\n",
       "score_distance     object\n",
       "time_left          object\n",
       "team_role          object\n",
       "match_length       object\n",
       "charcter_1         object\n",
       "communication      object\n",
       "dtype: object"
      ]
     },
     "execution_count": 26,
     "metadata": {},
     "output_type": "execute_result"
    }
   ],
   "source": [
    "df.dtypes"
   ]
  },
  {
   "cell_type": "code",
   "execution_count": 27,
   "metadata": {},
   "outputs": [],
   "source": [
    "df['sr_start'] = df['sr_start'].astype(int)"
   ]
  },
  {
   "cell_type": "code",
   "execution_count": 28,
   "metadata": {},
   "outputs": [
    {
     "data": {
      "text/plain": [
       "1617"
      ]
     },
     "execution_count": 28,
     "metadata": {},
     "output_type": "execute_result"
    }
   ],
   "source": [
    "df.sr_finish.isna().sum()\n"
   ]
  },
  {
   "cell_type": "code",
   "execution_count": 29,
   "metadata": {},
   "outputs": [],
   "source": [
    "df['sr_finish'].fillna(method='ffill', inplace=True)"
   ]
  },
  {
   "cell_type": "code",
   "execution_count": 30,
   "metadata": {},
   "outputs": [],
   "source": [
    "df['sr_finish'].fillna(method='bfill', inplace=True)"
   ]
  },
  {
   "cell_type": "code",
   "execution_count": 31,
   "metadata": {},
   "outputs": [
    {
     "data": {
      "text/plain": [
       "0"
      ]
     },
     "execution_count": 31,
     "metadata": {},
     "output_type": "execute_result"
    }
   ],
   "source": [
    "df.sr_finish.isna().sum()"
   ]
  },
  {
   "cell_type": "code",
   "execution_count": 32,
   "metadata": {},
   "outputs": [],
   "source": [
    "df['sr_finish'] = df['sr_finish'].astype(int)"
   ]
  },
  {
   "cell_type": "code",
   "execution_count": 33,
   "metadata": {},
   "outputs": [
    {
     "data": {
      "application/javascript": [
       "\n",
       "        if (window._pyforest_update_imports_cell) { window._pyforest_update_imports_cell('import pandas as pd\\nimport seaborn as sns\\nimport matplotlib.pyplot as plt'); }\n",
       "    "
      ],
      "text/plain": [
       "<IPython.core.display.Javascript object>"
      ]
     },
     "metadata": {},
     "output_type": "display_data"
    },
    {
     "data": {
      "application/javascript": [
       "\n",
       "        if (window._pyforest_update_imports_cell) { window._pyforest_update_imports_cell('import pandas as pd\\nimport seaborn as sns\\nimport matplotlib.pyplot as plt'); }\n",
       "    "
      ],
      "text/plain": [
       "<IPython.core.display.Javascript object>"
      ]
     },
     "metadata": {},
     "output_type": "display_data"
    },
    {
     "data": {
      "application/javascript": [
       "\n",
       "        if (window._pyforest_update_imports_cell) { window._pyforest_update_imports_cell('import pandas as pd\\nimport seaborn as sns\\nimport matplotlib.pyplot as plt'); }\n",
       "    "
      ],
      "text/plain": [
       "<IPython.core.display.Javascript object>"
      ]
     },
     "metadata": {},
     "output_type": "display_data"
    },
    {
     "data": {
      "image/png": "[encoded data removed]",
      "text/plain": [
       "<Figure size 432x288 with 1 Axes>"
      ]
     },
     "metadata": {
      "needs_background": "light"
     },
     "output_type": "display_data"
    }
   ],
   "source": [
    "sns.heatmap(df.isnull(),yticklabels = False, cbar = False,cmap = 'tab20c_r')\n",
    "plt.title('Missing Data: Overwatch')\n",
    "plt.show()"
   ]
  },
  {
   "cell_type": "code",
   "execution_count": 34,
   "metadata": {},
   "outputs": [
    {
     "data": {
      "text/html": [
       "<div>\n",
       "<style scoped>\n",
       "    .dataframe tbody tr th:only-of-type {\n",
       "        vertical-align: middle;\n",
       "    }\n",
       "\n",
       "    .dataframe tbody tr th {\n",
       "        vertical-align: top;\n",
       "    }\n",
       "\n",
       "    .dataframe thead th {\n",
       "        text-align: right;\n",
       "    }\n",
       "</style>\n",
       "<table border=\"1\" class=\"dataframe\">\n",
       "  <thead>\n",
       "    <tr style=\"text-align: right;\">\n",
       "      <th></th>\n",
       "      <th>date</th>\n",
       "      <th>time</th>\n",
       "      <th>season</th>\n",
       "      <th>game_id</th>\n",
       "      <th>sr_start</th>\n",
       "      <th>sr_finish</th>\n",
       "      <th>sr_delta</th>\n",
       "      <th>streak_number</th>\n",
       "      <th>result</th>\n",
       "      <th>my_team_sr</th>\n",
       "      <th>...</th>\n",
       "      <th>enemy_team_6</th>\n",
       "      <th>map</th>\n",
       "      <th>round</th>\n",
       "      <th>capscore</th>\n",
       "      <th>score_distance</th>\n",
       "      <th>time_left</th>\n",
       "      <th>team_role</th>\n",
       "      <th>match_length</th>\n",
       "      <th>charcter_1</th>\n",
       "      <th>communication</th>\n",
       "    </tr>\n",
       "  </thead>\n",
       "  <tbody>\n",
       "    <tr>\n",
       "      <th>0</th>\n",
       "      <td>12/4/2016</td>\n",
       "      <td>NaN</td>\n",
       "      <td>3</td>\n",
       "      <td>1.0</td>\n",
       "      <td>2387</td>\n",
       "      <td>2367</td>\n",
       "      <td>NaN</td>\n",
       "      <td>NaN</td>\n",
       "      <td>Win</td>\n",
       "      <td>-</td>\n",
       "      <td>...</td>\n",
       "      <td>WormWood</td>\n",
       "      <td>Nepal</td>\n",
       "      <td>-</td>\n",
       "      <td>wwllw</td>\n",
       "      <td>3-2</td>\n",
       "      <td>NaN</td>\n",
       "      <td>CP</td>\n",
       "      <td>22</td>\n",
       "      <td>Ana</td>\n",
       "      <td>NaN</td>\n",
       "    </tr>\n",
       "    <tr>\n",
       "      <th>1</th>\n",
       "      <td>12/4/2016</td>\n",
       "      <td>NaN</td>\n",
       "      <td>3</td>\n",
       "      <td>2.0</td>\n",
       "      <td>2387</td>\n",
       "      <td>2367</td>\n",
       "      <td>-20</td>\n",
       "      <td>NaN</td>\n",
       "      <td>Loss</td>\n",
       "      <td>2617</td>\n",
       "      <td>...</td>\n",
       "      <td>Trianta</td>\n",
       "      <td>Dorado</td>\n",
       "      <td>1</td>\n",
       "      <td>-</td>\n",
       "      <td>74.54</td>\n",
       "      <td>0</td>\n",
       "      <td>Attack</td>\n",
       "      <td>6</td>\n",
       "      <td>Ana</td>\n",
       "      <td>NaN</td>\n",
       "    </tr>\n",
       "    <tr>\n",
       "      <th>2</th>\n",
       "      <td>12/4/2016</td>\n",
       "      <td>NaN</td>\n",
       "      <td>3</td>\n",
       "      <td>2.0</td>\n",
       "      <td>2387</td>\n",
       "      <td>2367</td>\n",
       "      <td>NaN</td>\n",
       "      <td>NaN</td>\n",
       "      <td>Loss</td>\n",
       "      <td>2617</td>\n",
       "      <td>...</td>\n",
       "      <td>Trianta</td>\n",
       "      <td>Dorado</td>\n",
       "      <td>2</td>\n",
       "      <td>0</td>\n",
       "      <td>NaN</td>\n",
       "      <td>0</td>\n",
       "      <td>Defend</td>\n",
       "      <td>4</td>\n",
       "      <td>Torbjorn</td>\n",
       "      <td>NaN</td>\n",
       "    </tr>\n",
       "    <tr>\n",
       "      <th>3</th>\n",
       "      <td>12/4/2016</td>\n",
       "      <td>NaN</td>\n",
       "      <td>3</td>\n",
       "      <td>3.0</td>\n",
       "      <td>2367</td>\n",
       "      <td>2367</td>\n",
       "      <td>0</td>\n",
       "      <td>NaN</td>\n",
       "      <td>-</td>\n",
       "      <td>2680</td>\n",
       "      <td>...</td>\n",
       "      <td>Worsttoplane</td>\n",
       "      <td>Gibraltar</td>\n",
       "      <td>1</td>\n",
       "      <td>1</td>\n",
       "      <td>0</td>\n",
       "      <td>NaN</td>\n",
       "      <td>Attack</td>\n",
       "      <td>0</td>\n",
       "      <td>Ana</td>\n",
       "      <td>NaN</td>\n",
       "    </tr>\n",
       "    <tr>\n",
       "      <th>4</th>\n",
       "      <td>12/15/2016</td>\n",
       "      <td>NaN</td>\n",
       "      <td>3</td>\n",
       "      <td>4.0</td>\n",
       "      <td>2367</td>\n",
       "      <td>2367</td>\n",
       "      <td>0</td>\n",
       "      <td>NaN</td>\n",
       "      <td>-</td>\n",
       "      <td>-</td>\n",
       "      <td>...</td>\n",
       "      <td>Starfish</td>\n",
       "      <td>Dorado</td>\n",
       "      <td>1</td>\n",
       "      <td>0</td>\n",
       "      <td>0</td>\n",
       "      <td>NaN</td>\n",
       "      <td>Attack</td>\n",
       "      <td>0</td>\n",
       "      <td>NaN</td>\n",
       "      <td>NaN</td>\n",
       "    </tr>\n",
       "  </tbody>\n",
       "</table>\n",
       "<p>5 rows × 33 columns</p>\n",
       "</div>"
      ],
      "text/plain": [
       "         date time  season  game_id  sr_start  sr_finish sr_delta  \\\n",
       "0   12/4/2016  NaN       3      1.0      2387       2367      NaN   \n",
       "1   12/4/2016  NaN       3      2.0      2387       2367      -20   \n",
       "2   12/4/2016  NaN       3      2.0      2387       2367      NaN   \n",
       "3   12/4/2016  NaN       3      3.0      2367       2367        0   \n",
       "4  12/15/2016  NaN       3      4.0      2367       2367        0   \n",
       "\n",
       "  streak_number result my_team_sr  ...  enemy_team_6        map round  \\\n",
       "0           NaN    Win          -  ...      WormWood      Nepal     -   \n",
       "1           NaN   Loss       2617  ...       Trianta     Dorado     1   \n",
       "2           NaN   Loss       2617  ...       Trianta     Dorado     2   \n",
       "3           NaN      -       2680  ...  Worsttoplane  Gibraltar     1   \n",
       "4           NaN      -          -  ...      Starfish     Dorado     1   \n",
       "\n",
       "  capscore score_distance time_left team_role match_length charcter_1  \\\n",
       "0    wwllw            3-2       NaN        CP           22        Ana   \n",
       "1        -          74.54         0    Attack            6        Ana   \n",
       "2        0            NaN         0    Defend            4   Torbjorn   \n",
       "3        1              0       NaN    Attack            0        Ana   \n",
       "4        0              0       NaN    Attack            0        NaN   \n",
       "\n",
       "  communication  \n",
       "0           NaN  \n",
       "1           NaN  \n",
       "2           NaN  \n",
       "3           NaN  \n",
       "4           NaN  \n",
       "\n",
       "[5 rows x 33 columns]"
      ]
     },
     "execution_count": 34,
     "metadata": {},
     "output_type": "execute_result"
    }
   ],
   "source": [
    "df.head()"
   ]
  },
  {
   "cell_type": "code",
   "execution_count": 35,
   "metadata": {},
   "outputs": [],
   "source": [
    "df['sr_delta'] = df['sr_start'] - df['sr_finish']"
   ]
  },
  {
   "cell_type": "code",
   "execution_count": 36,
   "metadata": {},
   "outputs": [
    {
     "data": {
      "text/plain": [
       "date               object\n",
       "time               object\n",
       "season              int64\n",
       "game_id           float64\n",
       "sr_start            int64\n",
       "sr_finish           int64\n",
       "sr_delta            int64\n",
       "streak_number      object\n",
       "result             object\n",
       "my_team_sr         object\n",
       "enemy_team_sr      object\n",
       "team_sr_delta      object\n",
       "my_team_1          object\n",
       "my_team_2          object\n",
       "my_team_3          object\n",
       "my_team_4          object\n",
       "my_team_5          object\n",
       "my_team_6          object\n",
       "enemy_team_1       object\n",
       "enemy_team_2       object\n",
       "enemy_team_3       object\n",
       "enemy_team_4       object\n",
       "enemy_team_5       object\n",
       "enemy_team_6       object\n",
       "map                object\n",
       "round              object\n",
       "capscore           object\n",
       "score_distance     object\n",
       "time_left          object\n",
       "team_role          object\n",
       "match_length       object\n",
       "charcter_1         object\n",
       "communication      object\n",
       "dtype: object"
      ]
     },
     "execution_count": 36,
     "metadata": {},
     "output_type": "execute_result"
    }
   ],
   "source": [
    "df.dtypes"
   ]
  },
  {
   "cell_type": "code",
   "execution_count": 37,
   "metadata": {},
   "outputs": [
    {
     "data": {
      "text/plain": [
       "date               0.000000\n",
       "time              54.565017\n",
       "season             0.000000\n",
       "game_id           22.502306\n",
       "sr_start           0.000000\n",
       "sr_finish          0.000000\n",
       "sr_delta           0.000000\n",
       "streak_number     32.124193\n",
       "result             0.000000\n",
       "my_team_sr         1.352598\n",
       "enemy_team_sr      1.352598\n",
       "team_sr_delta      1.475561\n",
       "my_team_1          0.122963\n",
       "my_team_2          0.307409\n",
       "my_team_3          0.368890\n",
       "my_team_4          0.368890\n",
       "my_team_5          0.491854\n",
       "my_team_6          0.430372\n",
       "enemy_team_1       0.768521\n",
       "enemy_team_2       0.799262\n",
       "enemy_team_3       0.768521\n",
       "enemy_team_4       0.768521\n",
       "enemy_team_5       0.768521\n",
       "enemy_team_6       0.768521\n",
       "map                0.000000\n",
       "round              0.184445\n",
       "capscore           0.707040\n",
       "score_distance    46.019059\n",
       "time_left         15.770058\n",
       "team_role          0.153704\n",
       "match_length       3.289271\n",
       "charcter_1         1.844451\n",
       "communication     60.651706\n",
       "dtype: float64"
      ]
     },
     "execution_count": 37,
     "metadata": {},
     "output_type": "execute_result"
    }
   ],
   "source": [
    "rows = df.shape[0]\n",
    "null_total = df.isnull().sum()\n",
    "missing_percent = (null_total/rows)*100\n",
    "missing_percent"
   ]
  },
  {
   "cell_type": "code",
   "execution_count": 38,
   "metadata": {},
   "outputs": [
    {
     "data": {
      "application/javascript": [
       "\n",
       "        if (window._pyforest_update_imports_cell) { window._pyforest_update_imports_cell('import pandas as pd\\nimport seaborn as sns\\nimport matplotlib.pyplot as plt'); }\n",
       "    "
      ],
      "text/plain": [
       "<IPython.core.display.Javascript object>"
      ]
     },
     "metadata": {},
     "output_type": "display_data"
    }
   ],
   "source": [
    "df['date'] =  pd.to_datetime(df['date'], format='%m/%d/%Y')\n"
   ]
  },
  {
   "cell_type": "code",
   "execution_count": 39,
   "metadata": {},
   "outputs": [
    {
     "data": {
      "text/plain": [
       "<matplotlib.axes._subplots.AxesSubplot at 0x7fbfb2c2f520>"
      ]
     },
     "execution_count": 39,
     "metadata": {},
     "output_type": "execute_result"
    },
    {
     "data": {
      "image/png": "[encoded data removed]",
      "text/plain": [
       "<Figure size 720x720 with 1 Axes>"
      ]
     },
     "metadata": {
      "needs_background": "light"
     },
     "output_type": "display_data"
    }
   ],
   "source": [
    "plt = df.plot(x=\"date\", y=\"sr_delta\",figsize= (10,10))\n",
    "plt"
   ]
  },
  {
   "cell_type": "code",
   "execution_count": 40,
   "metadata": {},
   "outputs": [
    {
     "data": {
      "text/plain": [
       "1"
      ]
     },
     "execution_count": 40,
     "metadata": {},
     "output_type": "execute_result"
    }
   ],
   "source": [
    "df.date.value_counts().min()"
   ]
  },
  {
   "cell_type": "code",
   "execution_count": 41,
   "metadata": {},
   "outputs": [
    {
     "data": {
      "text/plain": [
       "Timestamp('2016-01-24 00:00:00')"
      ]
     },
     "execution_count": 41,
     "metadata": {},
     "output_type": "execute_result"
    }
   ],
   "source": [
    "df.date.min()"
   ]
  },
  {
   "cell_type": "code",
   "execution_count": 42,
   "metadata": {},
   "outputs": [],
   "source": [
    "df['date'] = df[df['date'] >= '2017-01-24 00:00:00' ]"
   ]
  },
  {
   "cell_type": "code",
   "execution_count": 43,
   "metadata": {},
   "outputs": [
    {
     "data": {
      "text/plain": [
       "<matplotlib.axes._subplots.AxesSubplot at 0x7fbfb42cdb20>"
      ]
     },
     "execution_count": 43,
     "metadata": {},
     "output_type": "execute_result"
    },
    {
     "data": {
      "image/png": "[encoded data removed]",
      "text/plain": [
       "<Figure size 720x720 with 1 Axes>"
      ]
     },
     "metadata": {
      "needs_background": "light"
     },
     "output_type": "display_data"
    }
   ],
   "source": [
    "plt = df.plot(x=\"date\", y=\"sr_delta\",figsize= (10,10))\n",
    "plt"
   ]
  },
  {
   "cell_type": "code",
   "execution_count": 44,
   "metadata": {},
   "outputs": [
    {
     "data": {
      "text/plain": [
       "date               object\n",
       "time               object\n",
       "season              int64\n",
       "game_id           float64\n",
       "sr_start            int64\n",
       "sr_finish           int64\n",
       "sr_delta            int64\n",
       "streak_number      object\n",
       "result             object\n",
       "my_team_sr         object\n",
       "enemy_team_sr      object\n",
       "team_sr_delta      object\n",
       "my_team_1          object\n",
       "my_team_2          object\n",
       "my_team_3          object\n",
       "my_team_4          object\n",
       "my_team_5          object\n",
       "my_team_6          object\n",
       "enemy_team_1       object\n",
       "enemy_team_2       object\n",
       "enemy_team_3       object\n",
       "enemy_team_4       object\n",
       "enemy_team_5       object\n",
       "enemy_team_6       object\n",
       "map                object\n",
       "round              object\n",
       "capscore           object\n",
       "score_distance     object\n",
       "time_left          object\n",
       "team_role          object\n",
       "match_length       object\n",
       "charcter_1         object\n",
       "communication      object\n",
       "dtype: object"
      ]
     },
     "execution_count": 44,
     "metadata": {},
     "output_type": "execute_result"
    }
   ],
   "source": [
    "df.dtypes"
   ]
  },
  {
   "cell_type": "code",
   "execution_count": 45,
   "metadata": {},
   "outputs": [
    {
     "data": {
      "text/html": [
       "<div>\n",
       "<style scoped>\n",
       "    .dataframe tbody tr th:only-of-type {\n",
       "        vertical-align: middle;\n",
       "    }\n",
       "\n",
       "    .dataframe tbody tr th {\n",
       "        vertical-align: top;\n",
       "    }\n",
       "\n",
       "    .dataframe thead th {\n",
       "        text-align: right;\n",
       "    }\n",
       "</style>\n",
       "<table border=\"1\" class=\"dataframe\">\n",
       "  <thead>\n",
       "    <tr style=\"text-align: right;\">\n",
       "      <th></th>\n",
       "      <th>date</th>\n",
       "      <th>time</th>\n",
       "      <th>season</th>\n",
       "      <th>game_id</th>\n",
       "      <th>sr_start</th>\n",
       "      <th>sr_finish</th>\n",
       "      <th>sr_delta</th>\n",
       "      <th>streak_number</th>\n",
       "      <th>result</th>\n",
       "      <th>my_team_sr</th>\n",
       "      <th>...</th>\n",
       "      <th>enemy_team_6</th>\n",
       "      <th>map</th>\n",
       "      <th>round</th>\n",
       "      <th>capscore</th>\n",
       "      <th>score_distance</th>\n",
       "      <th>time_left</th>\n",
       "      <th>team_role</th>\n",
       "      <th>match_length</th>\n",
       "      <th>charcter_1</th>\n",
       "      <th>communication</th>\n",
       "    </tr>\n",
       "  </thead>\n",
       "  <tbody>\n",
       "    <tr>\n",
       "      <th>0</th>\n",
       "      <td>NaT</td>\n",
       "      <td>NaN</td>\n",
       "      <td>3</td>\n",
       "      <td>1.0</td>\n",
       "      <td>2387</td>\n",
       "      <td>2367</td>\n",
       "      <td>20</td>\n",
       "      <td>NaN</td>\n",
       "      <td>Win</td>\n",
       "      <td>-</td>\n",
       "      <td>...</td>\n",
       "      <td>WormWood</td>\n",
       "      <td>Nepal</td>\n",
       "      <td>-</td>\n",
       "      <td>wwllw</td>\n",
       "      <td>3-2</td>\n",
       "      <td>NaN</td>\n",
       "      <td>CP</td>\n",
       "      <td>22</td>\n",
       "      <td>Ana</td>\n",
       "      <td>NaN</td>\n",
       "    </tr>\n",
       "    <tr>\n",
       "      <th>1</th>\n",
       "      <td>NaT</td>\n",
       "      <td>NaN</td>\n",
       "      <td>3</td>\n",
       "      <td>2.0</td>\n",
       "      <td>2387</td>\n",
       "      <td>2367</td>\n",
       "      <td>20</td>\n",
       "      <td>NaN</td>\n",
       "      <td>Loss</td>\n",
       "      <td>2617</td>\n",
       "      <td>...</td>\n",
       "      <td>Trianta</td>\n",
       "      <td>Dorado</td>\n",
       "      <td>1</td>\n",
       "      <td>-</td>\n",
       "      <td>74.54</td>\n",
       "      <td>0</td>\n",
       "      <td>Attack</td>\n",
       "      <td>6</td>\n",
       "      <td>Ana</td>\n",
       "      <td>NaN</td>\n",
       "    </tr>\n",
       "    <tr>\n",
       "      <th>2</th>\n",
       "      <td>NaT</td>\n",
       "      <td>NaN</td>\n",
       "      <td>3</td>\n",
       "      <td>2.0</td>\n",
       "      <td>2387</td>\n",
       "      <td>2367</td>\n",
       "      <td>20</td>\n",
       "      <td>NaN</td>\n",
       "      <td>Loss</td>\n",
       "      <td>2617</td>\n",
       "      <td>...</td>\n",
       "      <td>Trianta</td>\n",
       "      <td>Dorado</td>\n",
       "      <td>2</td>\n",
       "      <td>0</td>\n",
       "      <td>NaN</td>\n",
       "      <td>0</td>\n",
       "      <td>Defend</td>\n",
       "      <td>4</td>\n",
       "      <td>Torbjorn</td>\n",
       "      <td>NaN</td>\n",
       "    </tr>\n",
       "    <tr>\n",
       "      <th>3</th>\n",
       "      <td>NaT</td>\n",
       "      <td>NaN</td>\n",
       "      <td>3</td>\n",
       "      <td>3.0</td>\n",
       "      <td>2367</td>\n",
       "      <td>2367</td>\n",
       "      <td>0</td>\n",
       "      <td>NaN</td>\n",
       "      <td>-</td>\n",
       "      <td>2680</td>\n",
       "      <td>...</td>\n",
       "      <td>Worsttoplane</td>\n",
       "      <td>Gibraltar</td>\n",
       "      <td>1</td>\n",
       "      <td>1</td>\n",
       "      <td>0</td>\n",
       "      <td>NaN</td>\n",
       "      <td>Attack</td>\n",
       "      <td>0</td>\n",
       "      <td>Ana</td>\n",
       "      <td>NaN</td>\n",
       "    </tr>\n",
       "    <tr>\n",
       "      <th>4</th>\n",
       "      <td>NaT</td>\n",
       "      <td>NaN</td>\n",
       "      <td>3</td>\n",
       "      <td>4.0</td>\n",
       "      <td>2367</td>\n",
       "      <td>2367</td>\n",
       "      <td>0</td>\n",
       "      <td>NaN</td>\n",
       "      <td>-</td>\n",
       "      <td>-</td>\n",
       "      <td>...</td>\n",
       "      <td>Starfish</td>\n",
       "      <td>Dorado</td>\n",
       "      <td>1</td>\n",
       "      <td>0</td>\n",
       "      <td>0</td>\n",
       "      <td>NaN</td>\n",
       "      <td>Attack</td>\n",
       "      <td>0</td>\n",
       "      <td>NaN</td>\n",
       "      <td>NaN</td>\n",
       "    </tr>\n",
       "  </tbody>\n",
       "</table>\n",
       "<p>5 rows × 33 columns</p>\n",
       "</div>"
      ],
      "text/plain": [
       "  date time  season  game_id  sr_start  sr_finish  sr_delta streak_number  \\\n",
       "0  NaT  NaN       3      1.0      2387       2367        20           NaN   \n",
       "1  NaT  NaN       3      2.0      2387       2367        20           NaN   \n",
       "2  NaT  NaN       3      2.0      2387       2367        20           NaN   \n",
       "3  NaT  NaN       3      3.0      2367       2367         0           NaN   \n",
       "4  NaT  NaN       3      4.0      2367       2367         0           NaN   \n",
       "\n",
       "  result my_team_sr  ...  enemy_team_6        map round capscore  \\\n",
       "0    Win          -  ...      WormWood      Nepal     -    wwllw   \n",
       "1   Loss       2617  ...       Trianta     Dorado     1        -   \n",
       "2   Loss       2617  ...       Trianta     Dorado     2        0   \n",
       "3      -       2680  ...  Worsttoplane  Gibraltar     1        1   \n",
       "4      -          -  ...      Starfish     Dorado     1        0   \n",
       "\n",
       "  score_distance time_left team_role match_length charcter_1 communication  \n",
       "0            3-2       NaN        CP           22        Ana           NaN  \n",
       "1          74.54         0    Attack            6        Ana           NaN  \n",
       "2            NaN         0    Defend            4   Torbjorn           NaN  \n",
       "3              0       NaN    Attack            0        Ana           NaN  \n",
       "4              0       NaN    Attack            0        NaN           NaN  \n",
       "\n",
       "[5 rows x 33 columns]"
      ]
     },
     "execution_count": 45,
     "metadata": {},
     "output_type": "execute_result"
    }
   ],
   "source": [
    "df.head()"
   ]
  },
  {
   "cell_type": "code",
   "execution_count": 46,
   "metadata": {},
   "outputs": [
    {
     "data": {
      "text/plain": [
       "-1     492\n",
       "1      474\n",
       "2      260\n",
       "-2     248\n",
       "0      152\n",
       "3      136\n",
       "-3     127\n",
       "-4      71\n",
       "4       60\n",
       "-5      35\n",
       "5       31\n",
       "6       22\n",
       "-6      18\n",
       "-7      18\n",
       "-       12\n",
       "-8      11\n",
       "-9      10\n",
       "7        6\n",
       "9        5\n",
       "-13      4\n",
       "-10      4\n",
       "-11      3\n",
       "8        2\n",
       "-12      2\n",
       "10       2\n",
       "11       2\n",
       "12       1\n",
       "Name: streak_number, dtype: int64"
      ]
     },
     "execution_count": 46,
     "metadata": {},
     "output_type": "execute_result"
    }
   ],
   "source": [
    "df.streak_number.value_counts()"
   ]
  },
  {
   "cell_type": "code",
   "execution_count": 47,
   "metadata": {},
   "outputs": [
    {
     "data": {
      "text/plain": [
       "1045"
      ]
     },
     "execution_count": 47,
     "metadata": {},
     "output_type": "execute_result"
    }
   ],
   "source": [
    "df.streak_number.isna().sum()"
   ]
  },
  {
   "cell_type": "code",
   "execution_count": 48,
   "metadata": {},
   "outputs": [],
   "source": [
    "df['streak_number'].fillna(0, inplace=True)"
   ]
  },
  {
   "cell_type": "code",
   "execution_count": 49,
   "metadata": {},
   "outputs": [
    {
     "data": {
      "text/plain": [
       "0"
      ]
     },
     "execution_count": 49,
     "metadata": {},
     "output_type": "execute_result"
    }
   ],
   "source": [
    "df.streak_number.isna().sum()"
   ]
  },
  {
   "cell_type": "code",
   "execution_count": 50,
   "metadata": {},
   "outputs": [
    {
     "data": {
      "text/plain": [
       "date               object\n",
       "time               object\n",
       "season              int64\n",
       "game_id           float64\n",
       "sr_start            int64\n",
       "sr_finish           int64\n",
       "sr_delta            int64\n",
       "streak_number      object\n",
       "result             object\n",
       "my_team_sr         object\n",
       "enemy_team_sr      object\n",
       "team_sr_delta      object\n",
       "my_team_1          object\n",
       "my_team_2          object\n",
       "my_team_3          object\n",
       "my_team_4          object\n",
       "my_team_5          object\n",
       "my_team_6          object\n",
       "enemy_team_1       object\n",
       "enemy_team_2       object\n",
       "enemy_team_3       object\n",
       "enemy_team_4       object\n",
       "enemy_team_5       object\n",
       "enemy_team_6       object\n",
       "map                object\n",
       "round              object\n",
       "capscore           object\n",
       "score_distance     object\n",
       "time_left          object\n",
       "team_role          object\n",
       "match_length       object\n",
       "charcter_1         object\n",
       "communication      object\n",
       "dtype: object"
      ]
     },
     "execution_count": 50,
     "metadata": {},
     "output_type": "execute_result"
    }
   ],
   "source": [
    "df.dtypes"
   ]
  },
  {
   "cell_type": "code",
   "execution_count": 51,
   "metadata": {},
   "outputs": [
    {
     "data": {
      "text/plain": [
       "0      1045\n",
       "-1      492\n",
       "1       474\n",
       "2       260\n",
       "-2      248\n",
       "0       152\n",
       "3       136\n",
       "-3      127\n",
       "-4       71\n",
       "4        60\n",
       "-5       35\n",
       "5        31\n",
       "6        22\n",
       "-6       18\n",
       "-7       18\n",
       "-        12\n",
       "-8       11\n",
       "-9       10\n",
       "7         6\n",
       "9         5\n",
       "-10       4\n",
       "-13       4\n",
       "-11       3\n",
       "10        2\n",
       "8         2\n",
       "-12       2\n",
       "11        2\n",
       "12        1\n",
       "Name: streak_number, dtype: int64"
      ]
     },
     "execution_count": 51,
     "metadata": {},
     "output_type": "execute_result"
    }
   ],
   "source": [
    "df.streak_number.value_counts()"
   ]
  },
  {
   "cell_type": "code",
   "execution_count": 52,
   "metadata": {},
   "outputs": [],
   "source": [
    "df['streak_number'] = df['streak_number'].replace(['-'],0)"
   ]
  },
  {
   "cell_type": "code",
   "execution_count": 53,
   "metadata": {},
   "outputs": [],
   "source": [
    "df['sr_finish'] = df['sr_finish'].astype(int)"
   ]
  },
  {
   "cell_type": "code",
   "execution_count": 54,
   "metadata": {},
   "outputs": [
    {
     "data": {
      "application/javascript": [
       "\n",
       "        if (window._pyforest_update_imports_cell) { window._pyforest_update_imports_cell('import pandas as pd\\nimport seaborn as sns\\nimport matplotlib.pyplot as plt'); }\n",
       "    "
      ],
      "text/plain": [
       "<IPython.core.display.Javascript object>"
      ]
     },
     "metadata": {},
     "output_type": "display_data"
    },
    {
     "data": {
      "text/plain": [
       "<matplotlib.axes._subplots.AxesSubplot at 0x7fbfb4a38b50>"
      ]
     },
     "execution_count": 54,
     "metadata": {},
     "output_type": "execute_result"
    },
    {
     "data": {
      "image/png": "[encoded data removed]",
      "text/plain": [
       "<Figure size 432x288 with 1 Axes>"
      ]
     },
     "metadata": {
      "needs_background": "light"
     },
     "output_type": "display_data"
    }
   ],
   "source": [
    "sns.heatmap(df.isnull(),yticklabels = False, cbar = False,cmap = 'tab20c_r')\n",
    "\n"
   ]
  },
  {
   "cell_type": "code",
   "execution_count": 55,
   "metadata": {},
   "outputs": [],
   "source": [
    "df.drop(['time','communication'],axis=1, inplace= True)"
   ]
  },
  {
   "cell_type": "code",
   "execution_count": 56,
   "metadata": {},
   "outputs": [
    {
     "data": {
      "application/javascript": [
       "\n",
       "        if (window._pyforest_update_imports_cell) { window._pyforest_update_imports_cell('import pandas as pd\\nimport seaborn as sns\\nimport matplotlib.pyplot as plt'); }\n",
       "    "
      ],
      "text/plain": [
       "<IPython.core.display.Javascript object>"
      ]
     },
     "metadata": {},
     "output_type": "display_data"
    },
    {
     "data": {
      "text/plain": [
       "<matplotlib.axes._subplots.AxesSubplot at 0x7fbfb0065ac0>"
      ]
     },
     "execution_count": 56,
     "metadata": {},
     "output_type": "execute_result"
    },
    {
     "data": {
      "image/png": "[encoded data removed]",
      "text/plain": [
       "<Figure size 432x288 with 1 Axes>"
      ]
     },
     "metadata": {
      "needs_background": "light"
     },
     "output_type": "display_data"
    }
   ],
   "source": [
    "sns.heatmap(df.isnull(),yticklabels = False, cbar = False,cmap = 'tab20c_r')"
   ]
  },
  {
   "cell_type": "code",
   "execution_count": 57,
   "metadata": {},
   "outputs": [
    {
     "data": {
      "text/plain": [
       "date              19.827851\n",
       "season             0.000000\n",
       "game_id           22.502306\n",
       "sr_start           0.000000\n",
       "sr_finish          0.000000\n",
       "sr_delta           0.000000\n",
       "streak_number      0.000000\n",
       "result             0.000000\n",
       "my_team_sr         1.352598\n",
       "enemy_team_sr      1.352598\n",
       "team_sr_delta      1.475561\n",
       "my_team_1          0.122963\n",
       "my_team_2          0.307409\n",
       "my_team_3          0.368890\n",
       "my_team_4          0.368890\n",
       "my_team_5          0.491854\n",
       "my_team_6          0.430372\n",
       "enemy_team_1       0.768521\n",
       "enemy_team_2       0.799262\n",
       "enemy_team_3       0.768521\n",
       "enemy_team_4       0.768521\n",
       "enemy_team_5       0.768521\n",
       "enemy_team_6       0.768521\n",
       "map                0.000000\n",
       "round              0.184445\n",
       "capscore           0.707040\n",
       "score_distance    46.019059\n",
       "time_left         15.770058\n",
       "team_role          0.153704\n",
       "match_length       3.289271\n",
       "charcter_1         1.844451\n",
       "dtype: float64"
      ]
     },
     "execution_count": 57,
     "metadata": {},
     "output_type": "execute_result"
    }
   ],
   "source": [
    "rows = df.shape[0]\n",
    "null_total = df.isnull().sum()\n",
    "missing_percent = (null_total/rows)*100\n",
    "missing_percent"
   ]
  },
  {
   "cell_type": "code",
   "execution_count": 58,
   "metadata": {},
   "outputs": [
    {
     "data": {
      "text/plain": [
       "173.0    14\n",
       "35.0     14\n",
       "189.0    13\n",
       "123.0    13\n",
       "42.0     13\n",
       "         ..\n",
       "324.0     1\n",
       "403.0     1\n",
       "284.0     1\n",
       "445.0     1\n",
       "517.0     1\n",
       "Name: game_id, Length: 538, dtype: int64"
      ]
     },
     "execution_count": 58,
     "metadata": {},
     "output_type": "execute_result"
    }
   ],
   "source": [
    "df.game_id.value_counts()"
   ]
  },
  {
   "cell_type": "code",
   "execution_count": 59,
   "metadata": {},
   "outputs": [
    {
     "data": {
      "text/plain": [
       "645"
      ]
     },
     "execution_count": 59,
     "metadata": {},
     "output_type": "execute_result"
    }
   ],
   "source": [
    "df.date.isna().sum()"
   ]
  },
  {
   "cell_type": "code",
   "execution_count": 60,
   "metadata": {},
   "outputs": [
    {
     "data": {
      "text/plain": [
       "(3253, 31)"
      ]
     },
     "execution_count": 60,
     "metadata": {},
     "output_type": "execute_result"
    }
   ],
   "source": [
    "df.shape"
   ]
  },
  {
   "cell_type": "code",
   "execution_count": 61,
   "metadata": {},
   "outputs": [],
   "source": [
    "df.drop(['game_id','score_distance'],axis=1, inplace= True)"
   ]
  },
  {
   "cell_type": "code",
   "execution_count": 62,
   "metadata": {},
   "outputs": [
    {
     "data": {
      "text/plain": [
       "(3253, 29)"
      ]
     },
     "execution_count": 62,
     "metadata": {},
     "output_type": "execute_result"
    }
   ],
   "source": [
    "df.shape"
   ]
  },
  {
   "cell_type": "code",
   "execution_count": 63,
   "metadata": {},
   "outputs": [
    {
     "data": {
      "text/plain": [
       "L       1038\n",
       "W       1004\n",
       "Loss     467\n",
       "Win      453\n",
       "Draw     255\n",
       "-         33\n",
       "l          2\n",
       "DC         1\n",
       "Name: result, dtype: int64"
      ]
     },
     "execution_count": 63,
     "metadata": {},
     "output_type": "execute_result"
    }
   ],
   "source": [
    "df.result.value_counts()"
   ]
  },
  {
   "cell_type": "code",
   "execution_count": 64,
   "metadata": {},
   "outputs": [],
   "source": [
    "df['result'] = df['result'].replace(['Loss'],'L')"
   ]
  },
  {
   "cell_type": "code",
   "execution_count": 65,
   "metadata": {},
   "outputs": [
    {
     "data": {
      "text/plain": [
       "L       1505\n",
       "W       1004\n",
       "Win      453\n",
       "Draw     255\n",
       "-         33\n",
       "l          2\n",
       "DC         1\n",
       "Name: result, dtype: int64"
      ]
     },
     "execution_count": 65,
     "metadata": {},
     "output_type": "execute_result"
    }
   ],
   "source": [
    "df.result.value_counts()"
   ]
  },
  {
   "cell_type": "code",
   "execution_count": 66,
   "metadata": {},
   "outputs": [],
   "source": [
    "df['result'] = df['result'].replace(['Win'],'W')"
   ]
  },
  {
   "cell_type": "code",
   "execution_count": 67,
   "metadata": {},
   "outputs": [],
   "source": [
    "df['result'] = df['result'].replace(['-','1'],'Draw')"
   ]
  },
  {
   "cell_type": "code",
   "execution_count": 68,
   "metadata": {},
   "outputs": [
    {
     "data": {
      "text/plain": [
       "L       1505\n",
       "W       1457\n",
       "Draw     288\n",
       "l          2\n",
       "DC         1\n",
       "Name: result, dtype: int64"
      ]
     },
     "execution_count": 68,
     "metadata": {},
     "output_type": "execute_result"
    }
   ],
   "source": [
    "df.result.value_counts()"
   ]
  },
  {
   "cell_type": "code",
   "execution_count": 69,
   "metadata": {},
   "outputs": [],
   "source": [
    "df['result'] = df['result'].replace([1],'Draw')"
   ]
  },
  {
   "cell_type": "code",
   "execution_count": 70,
   "metadata": {},
   "outputs": [
    {
     "data": {
      "text/plain": [
       "L       1505\n",
       "W       1457\n",
       "Draw     288\n",
       "l          2\n",
       "DC         1\n",
       "Name: result, dtype: int64"
      ]
     },
     "execution_count": 70,
     "metadata": {},
     "output_type": "execute_result"
    }
   ],
   "source": [
    "df.result.value_counts()"
   ]
  },
  {
   "cell_type": "code",
   "execution_count": 71,
   "metadata": {},
   "outputs": [],
   "source": [
    "df = df.drop(df[df['result'] == 'l'].index)"
   ]
  },
  {
   "cell_type": "code",
   "execution_count": 72,
   "metadata": {},
   "outputs": [
    {
     "data": {
      "text/plain": [
       "L       1505\n",
       "W       1457\n",
       "Draw     288\n",
       "DC         1\n",
       "Name: result, dtype: int64"
      ]
     },
     "execution_count": 72,
     "metadata": {},
     "output_type": "execute_result"
    }
   ],
   "source": [
    "df.result.value_counts()"
   ]
  },
  {
   "cell_type": "code",
   "execution_count": 73,
   "metadata": {},
   "outputs": [
    {
     "data": {
      "text/plain": [
       "date             19.840049\n",
       "season            0.000000\n",
       "sr_start          0.000000\n",
       "sr_finish         0.000000\n",
       "sr_delta          0.000000\n",
       "streak_number     0.000000\n",
       "result            0.000000\n",
       "my_team_sr        1.353430\n",
       "enemy_team_sr     1.353430\n",
       "team_sr_delta     1.476469\n",
       "my_team_1         0.123039\n",
       "my_team_2         0.307598\n",
       "my_team_3         0.369117\n",
       "my_team_4         0.369117\n",
       "my_team_5         0.492156\n",
       "my_team_6         0.430637\n",
       "enemy_team_1      0.768994\n",
       "enemy_team_2      0.799754\n",
       "enemy_team_3      0.768994\n",
       "enemy_team_4      0.768994\n",
       "enemy_team_5      0.768994\n",
       "enemy_team_6      0.768994\n",
       "map               0.000000\n",
       "round             0.184559\n",
       "capscore          0.707475\n",
       "time_left        15.718241\n",
       "team_role         0.153799\n",
       "match_length      3.260535\n",
       "charcter_1        1.845586\n",
       "dtype: float64"
      ]
     },
     "execution_count": 73,
     "metadata": {},
     "output_type": "execute_result"
    }
   ],
   "source": [
    "rows = df.shape[0]\n",
    "null_total = df.isnull().sum()\n",
    "missing_percent = (null_total/rows)*100\n",
    "missing_percent"
   ]
  },
  {
   "cell_type": "code",
   "execution_count": 74,
   "metadata": {},
   "outputs": [],
   "source": [
    "df.dropna(inplace=True)"
   ]
  },
  {
   "cell_type": "code",
   "execution_count": 75,
   "metadata": {},
   "outputs": [
    {
     "data": {
      "text/plain": [
       "(2065, 29)"
      ]
     },
     "execution_count": 75,
     "metadata": {},
     "output_type": "execute_result"
    }
   ],
   "source": [
    "df.shape"
   ]
  },
  {
   "cell_type": "code",
   "execution_count": 77,
   "metadata": {},
   "outputs": [
    {
     "data": {
      "text/plain": [
       "3017"
      ]
     },
     "execution_count": 77,
     "metadata": {},
     "output_type": "execute_result"
    }
   ],
   "source": [
    "df.sr_finish.max()"
   ]
  },
  {
   "cell_type": "code",
   "execution_count": 78,
   "metadata": {},
   "outputs": [
    {
     "data": {
      "text/html": [
       "<div>\n",
       "<style scoped>\n",
       "    .dataframe tbody tr th:only-of-type {\n",
       "        vertical-align: middle;\n",
       "    }\n",
       "\n",
       "    .dataframe tbody tr th {\n",
       "        vertical-align: top;\n",
       "    }\n",
       "\n",
       "    .dataframe thead th {\n",
       "        text-align: right;\n",
       "    }\n",
       "</style>\n",
       "<table border=\"1\" class=\"dataframe\">\n",
       "  <thead>\n",
       "    <tr style=\"text-align: right;\">\n",
       "      <th></th>\n",
       "      <th>date</th>\n",
       "      <th>season</th>\n",
       "      <th>sr_start</th>\n",
       "      <th>sr_finish</th>\n",
       "      <th>sr_delta</th>\n",
       "      <th>streak_number</th>\n",
       "      <th>result</th>\n",
       "      <th>my_team_sr</th>\n",
       "      <th>enemy_team_sr</th>\n",
       "      <th>team_sr_delta</th>\n",
       "      <th>...</th>\n",
       "      <th>enemy_team_4</th>\n",
       "      <th>enemy_team_5</th>\n",
       "      <th>enemy_team_6</th>\n",
       "      <th>map</th>\n",
       "      <th>round</th>\n",
       "      <th>capscore</th>\n",
       "      <th>time_left</th>\n",
       "      <th>team_role</th>\n",
       "      <th>match_length</th>\n",
       "      <th>charcter_1</th>\n",
       "    </tr>\n",
       "  </thead>\n",
       "  <tbody>\n",
       "    <tr>\n",
       "      <th>645</th>\n",
       "      <td>2017-01-25 00:00:00</td>\n",
       "      <td>3</td>\n",
       "      <td>2133</td>\n",
       "      <td>2107</td>\n",
       "      <td>26</td>\n",
       "      <td>0</td>\n",
       "      <td>L</td>\n",
       "      <td>2119</td>\n",
       "      <td>2083</td>\n",
       "      <td>-36</td>\n",
       "      <td>...</td>\n",
       "      <td>Moriatry</td>\n",
       "      <td>Bill</td>\n",
       "      <td>ZihengXi</td>\n",
       "      <td>Eichenwalde</td>\n",
       "      <td>1</td>\n",
       "      <td>1</td>\n",
       "      <td>0</td>\n",
       "      <td>Attack</td>\n",
       "      <td>6.5</td>\n",
       "      <td>Zen</td>\n",
       "    </tr>\n",
       "    <tr>\n",
       "      <th>646</th>\n",
       "      <td>2017-01-25 00:00:00</td>\n",
       "      <td>3</td>\n",
       "      <td>2133</td>\n",
       "      <td>2107</td>\n",
       "      <td>26</td>\n",
       "      <td>0</td>\n",
       "      <td>L</td>\n",
       "      <td>2119</td>\n",
       "      <td>2083</td>\n",
       "      <td>-36</td>\n",
       "      <td>...</td>\n",
       "      <td>Moriatry</td>\n",
       "      <td>Bill</td>\n",
       "      <td>ZihengXi</td>\n",
       "      <td>Eichenwalde</td>\n",
       "      <td>2</td>\n",
       "      <td>2</td>\n",
       "      <td>0:15</td>\n",
       "      <td>Defend</td>\n",
       "      <td>6</td>\n",
       "      <td>Lucio</td>\n",
       "    </tr>\n",
       "    <tr>\n",
       "      <th>647</th>\n",
       "      <td>2017-01-25 00:00:00</td>\n",
       "      <td>3</td>\n",
       "      <td>2107</td>\n",
       "      <td>2107</td>\n",
       "      <td>0</td>\n",
       "      <td>0</td>\n",
       "      <td>Draw</td>\n",
       "      <td>2109</td>\n",
       "      <td>2104</td>\n",
       "      <td>-5</td>\n",
       "      <td>...</td>\n",
       "      <td>Shukudai</td>\n",
       "      <td>EIcyZelda</td>\n",
       "      <td>Maxakainu</td>\n",
       "      <td>Hollywood</td>\n",
       "      <td>1</td>\n",
       "      <td>0</td>\n",
       "      <td>0</td>\n",
       "      <td>Attack</td>\n",
       "      <td>4.5</td>\n",
       "      <td>Ana</td>\n",
       "    </tr>\n",
       "    <tr>\n",
       "      <th>648</th>\n",
       "      <td>2017-01-25 00:00:00</td>\n",
       "      <td>3</td>\n",
       "      <td>2107</td>\n",
       "      <td>2107</td>\n",
       "      <td>0</td>\n",
       "      <td>0</td>\n",
       "      <td>Draw</td>\n",
       "      <td>2109</td>\n",
       "      <td>2104</td>\n",
       "      <td>-5</td>\n",
       "      <td>...</td>\n",
       "      <td>Shukudai</td>\n",
       "      <td>EIcyZelda</td>\n",
       "      <td>Maxakainu</td>\n",
       "      <td>Hollywood</td>\n",
       "      <td>2</td>\n",
       "      <td>0</td>\n",
       "      <td>0</td>\n",
       "      <td>Defend</td>\n",
       "      <td>0</td>\n",
       "      <td>Torbjorn</td>\n",
       "    </tr>\n",
       "    <tr>\n",
       "      <th>650</th>\n",
       "      <td>2017-01-25 00:00:00</td>\n",
       "      <td>3</td>\n",
       "      <td>2135</td>\n",
       "      <td>2135</td>\n",
       "      <td>0</td>\n",
       "      <td>0</td>\n",
       "      <td>Draw</td>\n",
       "      <td>2127</td>\n",
       "      <td>2013</td>\n",
       "      <td>-114</td>\n",
       "      <td>...</td>\n",
       "      <td>WebSnoopy</td>\n",
       "      <td>Hailstorm222</td>\n",
       "      <td>Saltyomnic</td>\n",
       "      <td>Eichenwalde</td>\n",
       "      <td>1</td>\n",
       "      <td>0</td>\n",
       "      <td>0</td>\n",
       "      <td>Defend</td>\n",
       "      <td>4</td>\n",
       "      <td>Torbjorn</td>\n",
       "    </tr>\n",
       "  </tbody>\n",
       "</table>\n",
       "<p>5 rows × 29 columns</p>\n",
       "</div>"
      ],
      "text/plain": [
       "                    date  season  sr_start  sr_finish  sr_delta streak_number  \\\n",
       "645  2017-01-25 00:00:00       3      2133       2107        26             0   \n",
       "646  2017-01-25 00:00:00       3      2133       2107        26             0   \n",
       "647  2017-01-25 00:00:00       3      2107       2107         0             0   \n",
       "648  2017-01-25 00:00:00       3      2107       2107         0             0   \n",
       "650  2017-01-25 00:00:00       3      2135       2135         0             0   \n",
       "\n",
       "    result my_team_sr enemy_team_sr team_sr_delta  ... enemy_team_4  \\\n",
       "645      L       2119          2083           -36  ...     Moriatry   \n",
       "646      L       2119          2083           -36  ...     Moriatry   \n",
       "647   Draw       2109          2104            -5  ...     Shukudai   \n",
       "648   Draw       2109          2104            -5  ...     Shukudai   \n",
       "650   Draw       2127          2013          -114  ...    WebSnoopy   \n",
       "\n",
       "     enemy_team_5 enemy_team_6          map round capscore time_left  \\\n",
       "645          Bill     ZihengXi  Eichenwalde     1        1         0   \n",
       "646          Bill     ZihengXi  Eichenwalde     2        2      0:15   \n",
       "647     EIcyZelda    Maxakainu    Hollywood     1        0         0   \n",
       "648     EIcyZelda    Maxakainu    Hollywood     2        0         0   \n",
       "650  Hailstorm222   Saltyomnic  Eichenwalde     1        0         0   \n",
       "\n",
       "    team_role match_length charcter_1  \n",
       "645    Attack          6.5        Zen  \n",
       "646    Defend            6      Lucio  \n",
       "647    Attack          4.5        Ana  \n",
       "648    Defend            0   Torbjorn  \n",
       "650    Defend            4   Torbjorn  \n",
       "\n",
       "[5 rows x 29 columns]"
      ]
     },
     "execution_count": 78,
     "metadata": {},
     "output_type": "execute_result"
    }
   ],
   "source": [
    "df.head()"
   ]
  },
  {
   "cell_type": "code",
   "execution_count": 79,
   "metadata": {},
   "outputs": [
    {
     "data": {
      "text/plain": [
       "Zen         683\n",
       "Mercy       553\n",
       "Ana         285\n",
       "Moira       129\n",
       "Symmetra    128\n",
       "Lucio       118\n",
       "Zarya        47\n",
       "Torbjorn     43\n",
       "-            18\n",
       "Dva          14\n",
       "Orisa        14\n",
       "torbjorn     13\n",
       "mercy         7\n",
       "LUcio         3\n",
       "zen           2\n",
       "Winston       2\n",
       "Pharah        2\n",
       "Roadhog       1\n",
       "ANa           1\n",
       "Mery          1\n",
       "zarya         1\n",
       "Name: charcter_1, dtype: int64"
      ]
     },
     "execution_count": 79,
     "metadata": {},
     "output_type": "execute_result"
    }
   ],
   "source": [
    "df.charcter_1.value_counts()"
   ]
  },
  {
   "cell_type": "code",
   "execution_count": 80,
   "metadata": {},
   "outputs": [],
   "source": [
    "df['hero'] = df['charcter_1'].astype(str)"
   ]
  },
  {
   "cell_type": "code",
   "execution_count": 93,
   "metadata": {},
   "outputs": [],
   "source": [
    "df['hero'] = df['hero'].replace(['ZEN'],'Zen')"
   ]
  },
  {
   "cell_type": "code",
   "execution_count": 142,
   "metadata": {},
   "outputs": [],
   "source": [
    "df['hero'] = df['hero'].replace(['Mery'],'Mercy')"
   ]
  },
  {
   "cell_type": "code",
   "execution_count": 143,
   "metadata": {},
   "outputs": [
    {
     "data": {
      "text/plain": [
       "Zen         685\n",
       "Mercy       561\n",
       "Ana         286\n",
       "Moira       129\n",
       "Symmetra    128\n",
       "Lucio       121\n",
       "Torbjorn     56\n",
       "Zarya        48\n",
       "Dva          14\n",
       "Orisa        14\n",
       "Winston       2\n",
       "Pharah        2\n",
       "Roadhog       1\n",
       "Name: hero, dtype: int64"
      ]
     },
     "execution_count": 143,
     "metadata": {},
     "output_type": "execute_result"
    }
   ],
   "source": [
    "df.hero.value_counts()"
   ]
  },
  {
   "cell_type": "code",
   "execution_count": 108,
   "metadata": {},
   "outputs": [],
   "source": [
    "df['hero'] = df['hero'].str.capitalize()"
   ]
  },
  {
   "cell_type": "code",
   "execution_count": 110,
   "metadata": {},
   "outputs": [],
   "source": [
    "df = df.drop(df[df['hero'] == '-'].index)"
   ]
  },
  {
   "cell_type": "code",
   "execution_count": 111,
   "metadata": {},
   "outputs": [
    {
     "data": {
      "text/plain": [
       "Zen         685\n",
       "Mercy       560\n",
       "Ana         286\n",
       "Moira       129\n",
       "Symmetra    128\n",
       "Lucio       121\n",
       "Torbjorn     56\n",
       "Zarya        48\n",
       "Dva          14\n",
       "Orisa        14\n",
       "Winston       2\n",
       "Pharah        2\n",
       "Mery          1\n",
       "Roadhog       1\n",
       "Name: hero, dtype: int64"
      ]
     },
     "execution_count": 111,
     "metadata": {},
     "output_type": "execute_result"
    }
   ],
   "source": [
    "df.hero.value_counts()"
   ]
  },
  {
   "cell_type": "code",
   "execution_count": 117,
   "metadata": {},
   "outputs": [
    {
     "data": {
      "text/html": [
       "<div>\n",
       "<style scoped>\n",
       "    .dataframe tbody tr th:only-of-type {\n",
       "        vertical-align: middle;\n",
       "    }\n",
       "\n",
       "    .dataframe tbody tr th {\n",
       "        vertical-align: top;\n",
       "    }\n",
       "\n",
       "    .dataframe thead th {\n",
       "        text-align: right;\n",
       "    }\n",
       "</style>\n",
       "<table border=\"1\" class=\"dataframe\">\n",
       "  <thead>\n",
       "    <tr style=\"text-align: right;\">\n",
       "      <th></th>\n",
       "      <th>date</th>\n",
       "      <th>season</th>\n",
       "      <th>sr_start</th>\n",
       "      <th>sr_finish</th>\n",
       "      <th>sr_delta</th>\n",
       "      <th>streak_number</th>\n",
       "      <th>result</th>\n",
       "      <th>my_team_sr</th>\n",
       "      <th>enemy_team_sr</th>\n",
       "      <th>team_sr_delta</th>\n",
       "      <th>my_team_1</th>\n",
       "      <th>my_team_2</th>\n",
       "      <th>my_team_3</th>\n",
       "      <th>my_team_4</th>\n",
       "      <th>my_team_5</th>\n",
       "      <th>my_team_6</th>\n",
       "      <th>enemy_team_1</th>\n",
       "      <th>enemy_team_2</th>\n",
       "      <th>enemy_team_3</th>\n",
       "      <th>enemy_team_4</th>\n",
       "      <th>enemy_team_5</th>\n",
       "      <th>enemy_team_6</th>\n",
       "      <th>map</th>\n",
       "      <th>round</th>\n",
       "      <th>capscore</th>\n",
       "      <th>time_left</th>\n",
       "      <th>team_role</th>\n",
       "      <th>match_length</th>\n",
       "      <th>hero</th>\n",
       "    </tr>\n",
       "  </thead>\n",
       "  <tbody>\n",
       "    <tr>\n",
       "      <th>645</th>\n",
       "      <td>2017-01-25 00:00:00</td>\n",
       "      <td>3</td>\n",
       "      <td>2133</td>\n",
       "      <td>2107</td>\n",
       "      <td>26</td>\n",
       "      <td>0</td>\n",
       "      <td>L</td>\n",
       "      <td>2119</td>\n",
       "      <td>2083</td>\n",
       "      <td>-36</td>\n",
       "      <td>JustWingIt</td>\n",
       "      <td>Dyce</td>\n",
       "      <td>DJstewie</td>\n",
       "      <td>Ransby</td>\n",
       "      <td>Exit</td>\n",
       "      <td>TheBigFro</td>\n",
       "      <td>Biggenz</td>\n",
       "      <td>GozTra</td>\n",
       "      <td>HydroBuster</td>\n",
       "      <td>Moriatry</td>\n",
       "      <td>Bill</td>\n",
       "      <td>ZihengXi</td>\n",
       "      <td>Eichenwalde</td>\n",
       "      <td>1</td>\n",
       "      <td>1</td>\n",
       "      <td>0</td>\n",
       "      <td>Attack</td>\n",
       "      <td>6.5</td>\n",
       "      <td>Zen</td>\n",
       "    </tr>\n",
       "    <tr>\n",
       "      <th>646</th>\n",
       "      <td>2017-01-25 00:00:00</td>\n",
       "      <td>3</td>\n",
       "      <td>2133</td>\n",
       "      <td>2107</td>\n",
       "      <td>26</td>\n",
       "      <td>0</td>\n",
       "      <td>L</td>\n",
       "      <td>2119</td>\n",
       "      <td>2083</td>\n",
       "      <td>-36</td>\n",
       "      <td>JustWingIt</td>\n",
       "      <td>Dyce</td>\n",
       "      <td>DJstewie</td>\n",
       "      <td>Ransby</td>\n",
       "      <td>Exit</td>\n",
       "      <td>TheBigFro</td>\n",
       "      <td>Biggenz</td>\n",
       "      <td>GozTra</td>\n",
       "      <td>HydroBuster</td>\n",
       "      <td>Moriatry</td>\n",
       "      <td>Bill</td>\n",
       "      <td>ZihengXi</td>\n",
       "      <td>Eichenwalde</td>\n",
       "      <td>2</td>\n",
       "      <td>2</td>\n",
       "      <td>0:15</td>\n",
       "      <td>Defend</td>\n",
       "      <td>6</td>\n",
       "      <td>Lucio</td>\n",
       "    </tr>\n",
       "    <tr>\n",
       "      <th>647</th>\n",
       "      <td>2017-01-25 00:00:00</td>\n",
       "      <td>3</td>\n",
       "      <td>2107</td>\n",
       "      <td>2107</td>\n",
       "      <td>0</td>\n",
       "      <td>0</td>\n",
       "      <td>Draw</td>\n",
       "      <td>2109</td>\n",
       "      <td>2104</td>\n",
       "      <td>-5</td>\n",
       "      <td>JustWingIt</td>\n",
       "      <td>IllusioniMind</td>\n",
       "      <td>LeLover</td>\n",
       "      <td>TrueARTS</td>\n",
       "      <td>Extenze</td>\n",
       "      <td>Boomoto</td>\n",
       "      <td>Kronful</td>\n",
       "      <td>Dethhound</td>\n",
       "      <td>Dunsparce</td>\n",
       "      <td>Shukudai</td>\n",
       "      <td>EIcyZelda</td>\n",
       "      <td>Maxakainu</td>\n",
       "      <td>Hollywood</td>\n",
       "      <td>1</td>\n",
       "      <td>0</td>\n",
       "      <td>0</td>\n",
       "      <td>Attack</td>\n",
       "      <td>4.5</td>\n",
       "      <td>Ana</td>\n",
       "    </tr>\n",
       "    <tr>\n",
       "      <th>648</th>\n",
       "      <td>2017-01-25 00:00:00</td>\n",
       "      <td>3</td>\n",
       "      <td>2107</td>\n",
       "      <td>2107</td>\n",
       "      <td>0</td>\n",
       "      <td>0</td>\n",
       "      <td>Draw</td>\n",
       "      <td>2109</td>\n",
       "      <td>2104</td>\n",
       "      <td>-5</td>\n",
       "      <td>JustWingIt</td>\n",
       "      <td>IllusioniMind</td>\n",
       "      <td>LeLover</td>\n",
       "      <td>TrueARTS</td>\n",
       "      <td>Extenze</td>\n",
       "      <td>Boomoto</td>\n",
       "      <td>Kronful</td>\n",
       "      <td>Dethhound</td>\n",
       "      <td>Dunsparce</td>\n",
       "      <td>Shukudai</td>\n",
       "      <td>EIcyZelda</td>\n",
       "      <td>Maxakainu</td>\n",
       "      <td>Hollywood</td>\n",
       "      <td>2</td>\n",
       "      <td>0</td>\n",
       "      <td>0</td>\n",
       "      <td>Defend</td>\n",
       "      <td>0</td>\n",
       "      <td>Torbjorn</td>\n",
       "    </tr>\n",
       "    <tr>\n",
       "      <th>650</th>\n",
       "      <td>2017-01-25 00:00:00</td>\n",
       "      <td>3</td>\n",
       "      <td>2135</td>\n",
       "      <td>2135</td>\n",
       "      <td>0</td>\n",
       "      <td>0</td>\n",
       "      <td>Draw</td>\n",
       "      <td>2127</td>\n",
       "      <td>2013</td>\n",
       "      <td>-114</td>\n",
       "      <td>JustWingIt</td>\n",
       "      <td>GalaticGuard</td>\n",
       "      <td>Derwood</td>\n",
       "      <td>Kirito</td>\n",
       "      <td>Bouba</td>\n",
       "      <td>Ludo</td>\n",
       "      <td>Diego</td>\n",
       "      <td>ScoobySaves</td>\n",
       "      <td>OhYou</td>\n",
       "      <td>WebSnoopy</td>\n",
       "      <td>Hailstorm222</td>\n",
       "      <td>Saltyomnic</td>\n",
       "      <td>Eichenwalde</td>\n",
       "      <td>1</td>\n",
       "      <td>0</td>\n",
       "      <td>0</td>\n",
       "      <td>Defend</td>\n",
       "      <td>4</td>\n",
       "      <td>Torbjorn</td>\n",
       "    </tr>\n",
       "  </tbody>\n",
       "</table>\n",
       "</div>"
      ],
      "text/plain": [
       "                    date  season  sr_start  sr_finish  sr_delta streak_number  \\\n",
       "645  2017-01-25 00:00:00       3      2133       2107        26             0   \n",
       "646  2017-01-25 00:00:00       3      2133       2107        26             0   \n",
       "647  2017-01-25 00:00:00       3      2107       2107         0             0   \n",
       "648  2017-01-25 00:00:00       3      2107       2107         0             0   \n",
       "650  2017-01-25 00:00:00       3      2135       2135         0             0   \n",
       "\n",
       "    result my_team_sr enemy_team_sr team_sr_delta   my_team_1      my_team_2  \\\n",
       "645      L       2119          2083           -36  JustWingIt           Dyce   \n",
       "646      L       2119          2083           -36  JustWingIt           Dyce   \n",
       "647   Draw       2109          2104            -5  JustWingIt  IllusioniMind   \n",
       "648   Draw       2109          2104            -5  JustWingIt  IllusioniMind   \n",
       "650   Draw       2127          2013          -114  JustWingIt   GalaticGuard   \n",
       "\n",
       "    my_team_3 my_team_4 my_team_5  my_team_6 enemy_team_1 enemy_team_2  \\\n",
       "645  DJstewie    Ransby      Exit  TheBigFro      Biggenz       GozTra   \n",
       "646  DJstewie    Ransby      Exit  TheBigFro      Biggenz       GozTra   \n",
       "647   LeLover  TrueARTS   Extenze    Boomoto      Kronful    Dethhound   \n",
       "648   LeLover  TrueARTS   Extenze    Boomoto      Kronful    Dethhound   \n",
       "650   Derwood    Kirito     Bouba       Ludo        Diego  ScoobySaves   \n",
       "\n",
       "    enemy_team_3 enemy_team_4  enemy_team_5 enemy_team_6          map round  \\\n",
       "645  HydroBuster     Moriatry          Bill     ZihengXi  Eichenwalde     1   \n",
       "646  HydroBuster     Moriatry          Bill     ZihengXi  Eichenwalde     2   \n",
       "647    Dunsparce     Shukudai     EIcyZelda    Maxakainu    Hollywood     1   \n",
       "648    Dunsparce     Shukudai     EIcyZelda    Maxakainu    Hollywood     2   \n",
       "650        OhYou    WebSnoopy  Hailstorm222   Saltyomnic  Eichenwalde     1   \n",
       "\n",
       "    capscore time_left team_role match_length      hero  \n",
       "645        1         0    Attack          6.5       Zen  \n",
       "646        2      0:15    Defend            6     Lucio  \n",
       "647        0         0    Attack          4.5       Ana  \n",
       "648        0         0    Defend            0  Torbjorn  \n",
       "650        0         0    Defend            4  Torbjorn  "
      ]
     },
     "execution_count": 117,
     "metadata": {},
     "output_type": "execute_result"
    }
   ],
   "source": [
    "df.head()"
   ]
  },
  {
   "cell_type": "code",
   "execution_count": 115,
   "metadata": {},
   "outputs": [],
   "source": [
    "df.drop(['charcter_1'],axis=1, inplace= True)"
   ]
  },
  {
   "cell_type": "code",
   "execution_count": 118,
   "metadata": {},
   "outputs": [
    {
     "data": {
      "text/plain": [
       "Temple of Anubis       232\n",
       "Numbani                209\n",
       "Route 66               192\n",
       "Hanamura               189\n",
       "Hollywood              162\n",
       "Dorado                 158\n",
       "Gibraltar              156\n",
       "Eichenwalde            146\n",
       "Volskaya Industries    145\n",
       "King's Row             144\n",
       "Horizon                 99\n",
       "Eichenwade              43\n",
       "Volskaya                35\n",
       "JunkerTown              27\n",
       "Volkaya Industries      27\n",
       "EichenWalde             27\n",
       "Gilbraltar              25\n",
       "Junkertown              14\n",
       "king's Row               7\n",
       "junkerTown               3\n",
       "Hoirzon                  2\n",
       "Oasis                    1\n",
       "Ilios                    1\n",
       "TEmple of Anubis         1\n",
       "Nepal                    1\n",
       "Lijang Tower             1\n",
       "Name: map, dtype: int64"
      ]
     },
     "execution_count": 118,
     "metadata": {},
     "output_type": "execute_result"
    }
   ],
   "source": [
    "df.map.value_counts()"
   ]
  },
  {
   "cell_type": "code",
   "execution_count": 119,
   "metadata": {},
   "outputs": [],
   "source": [
    "df['map'] = df['map'].astype(str)"
   ]
  },
  {
   "cell_type": "code",
   "execution_count": 120,
   "metadata": {},
   "outputs": [],
   "source": [
    "df['map'] = df['map'].str.capitalize()"
   ]
  },
  {
   "cell_type": "code",
   "execution_count": 121,
   "metadata": {},
   "outputs": [
    {
     "data": {
      "text/plain": [
       "Temple of anubis       233\n",
       "Numbani                209\n",
       "Route 66               192\n",
       "Hanamura               189\n",
       "Eichenwalde            173\n",
       "Hollywood              162\n",
       "Dorado                 158\n",
       "Gibraltar              156\n",
       "King's row             151\n",
       "Volskaya industries    145\n",
       "Horizon                 99\n",
       "Junkertown              44\n",
       "Eichenwade              43\n",
       "Volskaya                35\n",
       "Volkaya industries      27\n",
       "Gilbraltar              25\n",
       "Hoirzon                  2\n",
       "Ilios                    1\n",
       "Oasis                    1\n",
       "Lijang tower             1\n",
       "Nepal                    1\n",
       "Name: map, dtype: int64"
      ]
     },
     "execution_count": 121,
     "metadata": {},
     "output_type": "execute_result"
    }
   ],
   "source": [
    "df.map.value_counts()"
   ]
  },
  {
   "cell_type": "code",
   "execution_count": 122,
   "metadata": {},
   "outputs": [],
   "source": [
    "df['map'] = df['map'].replace(['Volkaya industries'],'Volskaya')"
   ]
  },
  {
   "cell_type": "code",
   "execution_count": 123,
   "metadata": {},
   "outputs": [],
   "source": [
    "df['map'] = df['map'].replace(['Gilbraltar'],'Gibraltar')"
   ]
  },
  {
   "cell_type": "code",
   "execution_count": 124,
   "metadata": {},
   "outputs": [],
   "source": [
    "df['map'] = df['map'].replace(['Eichenwalde'],'Eichenwade')"
   ]
  },
  {
   "cell_type": "code",
   "execution_count": 125,
   "metadata": {},
   "outputs": [
    {
     "data": {
      "text/plain": [
       "Temple of anubis       233\n",
       "Eichenwade             216\n",
       "Numbani                209\n",
       "Route 66               192\n",
       "Hanamura               189\n",
       "Gibraltar              181\n",
       "Hollywood              162\n",
       "Dorado                 158\n",
       "King's row             151\n",
       "Volskaya industries    145\n",
       "Horizon                 99\n",
       "Volskaya                62\n",
       "Junkertown              44\n",
       "Hoirzon                  2\n",
       "Lijang tower             1\n",
       "Ilios                    1\n",
       "Oasis                    1\n",
       "Nepal                    1\n",
       "Name: map, dtype: int64"
      ]
     },
     "execution_count": 125,
     "metadata": {},
     "output_type": "execute_result"
    }
   ],
   "source": [
    "df.map.value_counts()"
   ]
  },
  {
   "cell_type": "code",
   "execution_count": 126,
   "metadata": {},
   "outputs": [],
   "source": [
    "df['map'] = df['map'].replace(['Hoirzon'],'Horizon')"
   ]
  },
  {
   "cell_type": "code",
   "execution_count": 127,
   "metadata": {},
   "outputs": [
    {
     "data": {
      "text/plain": [
       "Temple of anubis       233\n",
       "Eichenwade             216\n",
       "Numbani                209\n",
       "Route 66               192\n",
       "Hanamura               189\n",
       "Gibraltar              181\n",
       "Hollywood              162\n",
       "Dorado                 158\n",
       "King's row             151\n",
       "Volskaya industries    145\n",
       "Horizon                101\n",
       "Volskaya                62\n",
       "Junkertown              44\n",
       "Lijang tower             1\n",
       "Ilios                    1\n",
       "Oasis                    1\n",
       "Nepal                    1\n",
       "Name: map, dtype: int64"
      ]
     },
     "execution_count": 127,
     "metadata": {},
     "output_type": "execute_result"
    }
   ],
   "source": [
    "df.map.value_counts()"
   ]
  },
  {
   "cell_type": "code",
   "execution_count": 128,
   "metadata": {},
   "outputs": [],
   "source": [
    "df['map'] = df['map'].replace(['Temple of anubis'],'Temple_of_Anubis')"
   ]
  },
  {
   "cell_type": "code",
   "execution_count": 129,
   "metadata": {},
   "outputs": [],
   "source": [
    "df['map'] = df['map'].replace(['Eichenwade'],'Eichenwalde')"
   ]
  },
  {
   "cell_type": "code",
   "execution_count": 130,
   "metadata": {},
   "outputs": [],
   "source": [
    "df['map'] = df['map'].replace(['Route 66'],'Route_66')"
   ]
  },
  {
   "cell_type": "code",
   "execution_count": 133,
   "metadata": {},
   "outputs": [],
   "source": [
    "df[\"map\"] = df[\"map\"].replace([\"King's row\"],\"Kings_Row\")"
   ]
  },
  {
   "cell_type": "code",
   "execution_count": 134,
   "metadata": {},
   "outputs": [
    {
     "data": {
      "text/plain": [
       "Temple_of_Anubis       233\n",
       "Eichenwalde            216\n",
       "Numbani                209\n",
       "Route_66               192\n",
       "Hanamura               189\n",
       "Gibraltar              181\n",
       "Hollywood              162\n",
       "Dorado                 158\n",
       "Kings_Row              151\n",
       "Volskaya industries    145\n",
       "Horizon                101\n",
       "Volskaya                62\n",
       "Junkertown              44\n",
       "Lijang tower             1\n",
       "Oasis                    1\n",
       "Ilios                    1\n",
       "Nepal                    1\n",
       "Name: map, dtype: int64"
      ]
     },
     "execution_count": 134,
     "metadata": {},
     "output_type": "execute_result"
    }
   ],
   "source": [
    "df.map.value_counts()"
   ]
  },
  {
   "cell_type": "code",
   "execution_count": 135,
   "metadata": {},
   "outputs": [],
   "source": [
    "df['map'] = df['map'].replace(['Volskaya industries'],'Volskaya')"
   ]
  },
  {
   "cell_type": "code",
   "execution_count": 136,
   "metadata": {},
   "outputs": [],
   "source": [
    "df['map'] = df['map'].replace(['Lijang tower'],'Ligiang_Tower')"
   ]
  },
  {
   "cell_type": "code",
   "execution_count": 137,
   "metadata": {},
   "outputs": [
    {
     "data": {
      "text/plain": [
       "Temple_of_Anubis    233\n",
       "Eichenwalde         216\n",
       "Numbani             209\n",
       "Volskaya            207\n",
       "Route_66            192\n",
       "Hanamura            189\n",
       "Gibraltar           181\n",
       "Hollywood           162\n",
       "Dorado              158\n",
       "Kings_Row           151\n",
       "Horizon             101\n",
       "Junkertown           44\n",
       "Oasis                 1\n",
       "Ilios                 1\n",
       "Nepal                 1\n",
       "Ligiang_Tower         1\n",
       "Name: map, dtype: int64"
      ]
     },
     "execution_count": 137,
     "metadata": {},
     "output_type": "execute_result"
    }
   ],
   "source": [
    "df.map.value_counts()"
   ]
  },
  {
   "cell_type": "code",
   "execution_count": 138,
   "metadata": {},
   "outputs": [
    {
     "data": {
      "text/html": [
       "<div>\n",
       "<style scoped>\n",
       "    .dataframe tbody tr th:only-of-type {\n",
       "        vertical-align: middle;\n",
       "    }\n",
       "\n",
       "    .dataframe tbody tr th {\n",
       "        vertical-align: top;\n",
       "    }\n",
       "\n",
       "    .dataframe thead th {\n",
       "        text-align: right;\n",
       "    }\n",
       "</style>\n",
       "<table border=\"1\" class=\"dataframe\">\n",
       "  <thead>\n",
       "    <tr style=\"text-align: right;\">\n",
       "      <th></th>\n",
       "      <th>date</th>\n",
       "      <th>season</th>\n",
       "      <th>sr_start</th>\n",
       "      <th>sr_finish</th>\n",
       "      <th>sr_delta</th>\n",
       "      <th>streak_number</th>\n",
       "      <th>result</th>\n",
       "      <th>my_team_sr</th>\n",
       "      <th>enemy_team_sr</th>\n",
       "      <th>team_sr_delta</th>\n",
       "      <th>my_team_1</th>\n",
       "      <th>my_team_2</th>\n",
       "      <th>my_team_3</th>\n",
       "      <th>my_team_4</th>\n",
       "      <th>my_team_5</th>\n",
       "      <th>my_team_6</th>\n",
       "      <th>enemy_team_1</th>\n",
       "      <th>enemy_team_2</th>\n",
       "      <th>enemy_team_3</th>\n",
       "      <th>enemy_team_4</th>\n",
       "      <th>enemy_team_5</th>\n",
       "      <th>enemy_team_6</th>\n",
       "      <th>map</th>\n",
       "      <th>round</th>\n",
       "      <th>capscore</th>\n",
       "      <th>time_left</th>\n",
       "      <th>team_role</th>\n",
       "      <th>match_length</th>\n",
       "      <th>hero</th>\n",
       "    </tr>\n",
       "  </thead>\n",
       "  <tbody>\n",
       "    <tr>\n",
       "      <th>645</th>\n",
       "      <td>2017-01-25 00:00:00</td>\n",
       "      <td>3</td>\n",
       "      <td>2133</td>\n",
       "      <td>2107</td>\n",
       "      <td>26</td>\n",
       "      <td>0</td>\n",
       "      <td>L</td>\n",
       "      <td>2119</td>\n",
       "      <td>2083</td>\n",
       "      <td>-36</td>\n",
       "      <td>JustWingIt</td>\n",
       "      <td>Dyce</td>\n",
       "      <td>DJstewie</td>\n",
       "      <td>Ransby</td>\n",
       "      <td>Exit</td>\n",
       "      <td>TheBigFro</td>\n",
       "      <td>Biggenz</td>\n",
       "      <td>GozTra</td>\n",
       "      <td>HydroBuster</td>\n",
       "      <td>Moriatry</td>\n",
       "      <td>Bill</td>\n",
       "      <td>ZihengXi</td>\n",
       "      <td>Eichenwalde</td>\n",
       "      <td>1</td>\n",
       "      <td>1</td>\n",
       "      <td>0</td>\n",
       "      <td>Attack</td>\n",
       "      <td>6.5</td>\n",
       "      <td>Zen</td>\n",
       "    </tr>\n",
       "    <tr>\n",
       "      <th>646</th>\n",
       "      <td>2017-01-25 00:00:00</td>\n",
       "      <td>3</td>\n",
       "      <td>2133</td>\n",
       "      <td>2107</td>\n",
       "      <td>26</td>\n",
       "      <td>0</td>\n",
       "      <td>L</td>\n",
       "      <td>2119</td>\n",
       "      <td>2083</td>\n",
       "      <td>-36</td>\n",
       "      <td>JustWingIt</td>\n",
       "      <td>Dyce</td>\n",
       "      <td>DJstewie</td>\n",
       "      <td>Ransby</td>\n",
       "      <td>Exit</td>\n",
       "      <td>TheBigFro</td>\n",
       "      <td>Biggenz</td>\n",
       "      <td>GozTra</td>\n",
       "      <td>HydroBuster</td>\n",
       "      <td>Moriatry</td>\n",
       "      <td>Bill</td>\n",
       "      <td>ZihengXi</td>\n",
       "      <td>Eichenwalde</td>\n",
       "      <td>2</td>\n",
       "      <td>2</td>\n",
       "      <td>0:15</td>\n",
       "      <td>Defend</td>\n",
       "      <td>6</td>\n",
       "      <td>Lucio</td>\n",
       "    </tr>\n",
       "    <tr>\n",
       "      <th>647</th>\n",
       "      <td>2017-01-25 00:00:00</td>\n",
       "      <td>3</td>\n",
       "      <td>2107</td>\n",
       "      <td>2107</td>\n",
       "      <td>0</td>\n",
       "      <td>0</td>\n",
       "      <td>Draw</td>\n",
       "      <td>2109</td>\n",
       "      <td>2104</td>\n",
       "      <td>-5</td>\n",
       "      <td>JustWingIt</td>\n",
       "      <td>IllusioniMind</td>\n",
       "      <td>LeLover</td>\n",
       "      <td>TrueARTS</td>\n",
       "      <td>Extenze</td>\n",
       "      <td>Boomoto</td>\n",
       "      <td>Kronful</td>\n",
       "      <td>Dethhound</td>\n",
       "      <td>Dunsparce</td>\n",
       "      <td>Shukudai</td>\n",
       "      <td>EIcyZelda</td>\n",
       "      <td>Maxakainu</td>\n",
       "      <td>Hollywood</td>\n",
       "      <td>1</td>\n",
       "      <td>0</td>\n",
       "      <td>0</td>\n",
       "      <td>Attack</td>\n",
       "      <td>4.5</td>\n",
       "      <td>Ana</td>\n",
       "    </tr>\n",
       "    <tr>\n",
       "      <th>648</th>\n",
       "      <td>2017-01-25 00:00:00</td>\n",
       "      <td>3</td>\n",
       "      <td>2107</td>\n",
       "      <td>2107</td>\n",
       "      <td>0</td>\n",
       "      <td>0</td>\n",
       "      <td>Draw</td>\n",
       "      <td>2109</td>\n",
       "      <td>2104</td>\n",
       "      <td>-5</td>\n",
       "      <td>JustWingIt</td>\n",
       "      <td>IllusioniMind</td>\n",
       "      <td>LeLover</td>\n",
       "      <td>TrueARTS</td>\n",
       "      <td>Extenze</td>\n",
       "      <td>Boomoto</td>\n",
       "      <td>Kronful</td>\n",
       "      <td>Dethhound</td>\n",
       "      <td>Dunsparce</td>\n",
       "      <td>Shukudai</td>\n",
       "      <td>EIcyZelda</td>\n",
       "      <td>Maxakainu</td>\n",
       "      <td>Hollywood</td>\n",
       "      <td>2</td>\n",
       "      <td>0</td>\n",
       "      <td>0</td>\n",
       "      <td>Defend</td>\n",
       "      <td>0</td>\n",
       "      <td>Torbjorn</td>\n",
       "    </tr>\n",
       "    <tr>\n",
       "      <th>650</th>\n",
       "      <td>2017-01-25 00:00:00</td>\n",
       "      <td>3</td>\n",
       "      <td>2135</td>\n",
       "      <td>2135</td>\n",
       "      <td>0</td>\n",
       "      <td>0</td>\n",
       "      <td>Draw</td>\n",
       "      <td>2127</td>\n",
       "      <td>2013</td>\n",
       "      <td>-114</td>\n",
       "      <td>JustWingIt</td>\n",
       "      <td>GalaticGuard</td>\n",
       "      <td>Derwood</td>\n",
       "      <td>Kirito</td>\n",
       "      <td>Bouba</td>\n",
       "      <td>Ludo</td>\n",
       "      <td>Diego</td>\n",
       "      <td>ScoobySaves</td>\n",
       "      <td>OhYou</td>\n",
       "      <td>WebSnoopy</td>\n",
       "      <td>Hailstorm222</td>\n",
       "      <td>Saltyomnic</td>\n",
       "      <td>Eichenwalde</td>\n",
       "      <td>1</td>\n",
       "      <td>0</td>\n",
       "      <td>0</td>\n",
       "      <td>Defend</td>\n",
       "      <td>4</td>\n",
       "      <td>Torbjorn</td>\n",
       "    </tr>\n",
       "  </tbody>\n",
       "</table>\n",
       "</div>"
      ],
      "text/plain": [
       "                    date  season  sr_start  sr_finish  sr_delta streak_number  \\\n",
       "645  2017-01-25 00:00:00       3      2133       2107        26             0   \n",
       "646  2017-01-25 00:00:00       3      2133       2107        26             0   \n",
       "647  2017-01-25 00:00:00       3      2107       2107         0             0   \n",
       "648  2017-01-25 00:00:00       3      2107       2107         0             0   \n",
       "650  2017-01-25 00:00:00       3      2135       2135         0             0   \n",
       "\n",
       "    result my_team_sr enemy_team_sr team_sr_delta   my_team_1      my_team_2  \\\n",
       "645      L       2119          2083           -36  JustWingIt           Dyce   \n",
       "646      L       2119          2083           -36  JustWingIt           Dyce   \n",
       "647   Draw       2109          2104            -5  JustWingIt  IllusioniMind   \n",
       "648   Draw       2109          2104            -5  JustWingIt  IllusioniMind   \n",
       "650   Draw       2127          2013          -114  JustWingIt   GalaticGuard   \n",
       "\n",
       "    my_team_3 my_team_4 my_team_5  my_team_6 enemy_team_1 enemy_team_2  \\\n",
       "645  DJstewie    Ransby      Exit  TheBigFro      Biggenz       GozTra   \n",
       "646  DJstewie    Ransby      Exit  TheBigFro      Biggenz       GozTra   \n",
       "647   LeLover  TrueARTS   Extenze    Boomoto      Kronful    Dethhound   \n",
       "648   LeLover  TrueARTS   Extenze    Boomoto      Kronful    Dethhound   \n",
       "650   Derwood    Kirito     Bouba       Ludo        Diego  ScoobySaves   \n",
       "\n",
       "    enemy_team_3 enemy_team_4  enemy_team_5 enemy_team_6          map round  \\\n",
       "645  HydroBuster     Moriatry          Bill     ZihengXi  Eichenwalde     1   \n",
       "646  HydroBuster     Moriatry          Bill     ZihengXi  Eichenwalde     2   \n",
       "647    Dunsparce     Shukudai     EIcyZelda    Maxakainu    Hollywood     1   \n",
       "648    Dunsparce     Shukudai     EIcyZelda    Maxakainu    Hollywood     2   \n",
       "650        OhYou    WebSnoopy  Hailstorm222   Saltyomnic  Eichenwalde     1   \n",
       "\n",
       "    capscore time_left team_role match_length      hero  \n",
       "645        1         0    Attack          6.5       Zen  \n",
       "646        2      0:15    Defend            6     Lucio  \n",
       "647        0         0    Attack          4.5       Ana  \n",
       "648        0         0    Defend            0  Torbjorn  \n",
       "650        0         0    Defend            4  Torbjorn  "
      ]
     },
     "execution_count": 138,
     "metadata": {},
     "output_type": "execute_result"
    }
   ],
   "source": [
    "df.head()"
   ]
  },
  {
   "cell_type": "code",
   "execution_count": 139,
   "metadata": {},
   "outputs": [
    {
     "data": {
      "text/plain": [
       "(2047, 29)"
      ]
     },
     "execution_count": 139,
     "metadata": {},
     "output_type": "execute_result"
    }
   ],
   "source": [
    "df.shape"
   ]
  },
  {
   "cell_type": "code",
   "execution_count": 140,
   "metadata": {},
   "outputs": [
    {
     "data": {
      "text/plain": [
       "-1     388\n",
       "1      369\n",
       "0      327\n",
       "2      207\n",
       "-2     184\n",
       "0      142\n",
       "3      109\n",
       "-3     100\n",
       "-4      60\n",
       "4       47\n",
       "5       25\n",
       "-5      18\n",
       "6       16\n",
       "-6      14\n",
       "-7      13\n",
       "-9       7\n",
       "-8       6\n",
       "-13      4\n",
       "-10      3\n",
       "10       2\n",
       "11       2\n",
       "-12      2\n",
       "7        2\n",
       "Name: streak_number, dtype: int64"
      ]
     },
     "execution_count": 140,
     "metadata": {},
     "output_type": "execute_result"
    }
   ],
   "source": [
    "df.streak_number.value_counts()"
   ]
  },
  {
   "cell_type": "code",
   "execution_count": 147,
   "metadata": {},
   "outputs": [],
   "source": [
    "df.to_csv('clean_overwatch.csv', sep='\\t')"
   ]
  },
  {
   "cell_type": "code",
   "execution_count": 145,
   "metadata": {},
   "outputs": [
    {
     "data": {
      "text/html": [
       "<div>\n",
       "<style scoped>\n",
       "    .dataframe tbody tr th:only-of-type {\n",
       "        vertical-align: middle;\n",
       "    }\n",
       "\n",
       "    .dataframe tbody tr th {\n",
       "        vertical-align: top;\n",
       "    }\n",
       "\n",
       "    .dataframe thead th {\n",
       "        text-align: right;\n",
       "    }\n",
       "</style>\n",
       "<table border=\"1\" class=\"dataframe\">\n",
       "  <thead>\n",
       "    <tr style=\"text-align: right;\">\n",
       "      <th></th>\n",
       "      <th>season</th>\n",
       "      <th>sr_start</th>\n",
       "      <th>sr_finish</th>\n",
       "      <th>sr_delta</th>\n",
       "    </tr>\n",
       "  </thead>\n",
       "  <tbody>\n",
       "    <tr>\n",
       "      <th>count</th>\n",
       "      <td>2047.000000</td>\n",
       "      <td>2047.000000</td>\n",
       "      <td>2047.000000</td>\n",
       "      <td>2047.000000</td>\n",
       "    </tr>\n",
       "    <tr>\n",
       "      <th>mean</th>\n",
       "      <td>4.889106</td>\n",
       "      <td>2599.547631</td>\n",
       "      <td>2600.588178</td>\n",
       "      <td>-1.040547</td>\n",
       "    </tr>\n",
       "    <tr>\n",
       "      <th>std</th>\n",
       "      <td>1.354517</td>\n",
       "      <td>182.527272</td>\n",
       "      <td>181.656220</td>\n",
       "      <td>23.785142</td>\n",
       "    </tr>\n",
       "    <tr>\n",
       "      <th>min</th>\n",
       "      <td>3.000000</td>\n",
       "      <td>2107.000000</td>\n",
       "      <td>2107.000000</td>\n",
       "      <td>-57.000000</td>\n",
       "    </tr>\n",
       "    <tr>\n",
       "      <th>25%</th>\n",
       "      <td>4.000000</td>\n",
       "      <td>2490.000000</td>\n",
       "      <td>2491.000000</td>\n",
       "      <td>-24.000000</td>\n",
       "    </tr>\n",
       "    <tr>\n",
       "      <th>50%</th>\n",
       "      <td>5.000000</td>\n",
       "      <td>2614.000000</td>\n",
       "      <td>2616.000000</td>\n",
       "      <td>0.000000</td>\n",
       "    </tr>\n",
       "    <tr>\n",
       "      <th>75%</th>\n",
       "      <td>6.000000</td>\n",
       "      <td>2714.000000</td>\n",
       "      <td>2714.000000</td>\n",
       "      <td>23.000000</td>\n",
       "    </tr>\n",
       "    <tr>\n",
       "      <th>max</th>\n",
       "      <td>7.000000</td>\n",
       "      <td>3017.000000</td>\n",
       "      <td>3017.000000</td>\n",
       "      <td>70.000000</td>\n",
       "    </tr>\n",
       "  </tbody>\n",
       "</table>\n",
       "</div>"
      ],
      "text/plain": [
       "            season     sr_start    sr_finish     sr_delta\n",
       "count  2047.000000  2047.000000  2047.000000  2047.000000\n",
       "mean      4.889106  2599.547631  2600.588178    -1.040547\n",
       "std       1.354517   182.527272   181.656220    23.785142\n",
       "min       3.000000  2107.000000  2107.000000   -57.000000\n",
       "25%       4.000000  2490.000000  2491.000000   -24.000000\n",
       "50%       5.000000  2614.000000  2616.000000     0.000000\n",
       "75%       6.000000  2714.000000  2714.000000    23.000000\n",
       "max       7.000000  3017.000000  3017.000000    70.000000"
      ]
     },
     "execution_count": 145,
     "metadata": {},
     "output_type": "execute_result"
    }
   ],
   "source": [
    "df.describe()"
   ]
  },
  {
   "cell_type": "code",
   "execution_count": 146,
   "metadata": {},
   "outputs": [
    {
     "data": {
      "text/plain": [
       "4         456\n",
       "8         432\n",
       "7         158\n",
       "2         114\n",
       "4.5        94\n",
       "6          94\n",
       "3          87\n",
       "5          86\n",
       "8.5        64\n",
       "1          63\n",
       "6.5        57\n",
       "1.5        56\n",
       "2.5        51\n",
       "5.5        46\n",
       "7.5        45\n",
       "Check      40\n",
       "3.5        38\n",
       "9          37\n",
       "10          7\n",
       "0           3\n",
       "0.5         3\n",
       "11          2\n",
       "9.5         2\n",
       "1:00        1\n",
       "2:09        1\n",
       "16          1\n",
       "4:00        1\n",
       "Checks      1\n",
       "22          1\n",
       "4:09        1\n",
       "9.58        1\n",
       "3.3         1\n",
       "-           1\n",
       "3.6         1\n",
       "check       1\n",
       "Name: match_length, dtype: int64"
      ]
     },
     "execution_count": 146,
     "metadata": {},
     "output_type": "execute_result"
    }
   ],
   "source": [
    "df.match_length.value_counts()"
   ]
  },
  {
   "cell_type": "code",
   "execution_count": null,
   "metadata": {},
   "outputs": [],
   "source": []
  }
 ],
 "metadata": {
  "kernelspec": {
   "display_name": "Python 3",
   "language": "python",
   "name": "python3"
  },
  "language_info": {
   "codemirror_mode": {
    "name": "ipython",
    "version": 3
   },
   "file_extension": ".py",
   "mimetype": "text/x-python",
   "name": "python",
   "nbconvert_exporter": "python",
   "pygments_lexer": "ipython3",
   "version": "3.8.3"
  }
 },
 "nbformat": 4,
 "nbformat_minor": 4
}
